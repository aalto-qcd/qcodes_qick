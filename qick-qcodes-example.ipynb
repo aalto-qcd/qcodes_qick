{
 "cells": [
  {
   "cell_type": "markdown",
   "id": "707a8d68",
   "metadata": {},
   "source": [
    "# ZCU216 Qick QCoDeS example"
   ]
  },
  {
   "cell_type": "markdown",
   "id": "c7e4a01b",
   "metadata": {},
   "source": [
    "This notebook demonstrates the current usage of the ZCU216 qick-qcodes test suite. Currently, as is seen in this demo, multidimensional sweeping is possible for pulse frequency, phase, gain, and length. Only the pulse frequency sweeping is done on software, due to the limitations of the current firmware, and this might lead to noticeable overhead when sweeping frequency. Other sweep variables are looped over in hardware, and you can combine these sweeps in the multidimensional sweep. No other protocols, such as those specifically designed for characterizing qubits are implemented yet. "
   ]
  },
  {
   "cell_type": "markdown",
   "id": "4c470d06",
   "metadata": {},
   "source": [
    "## 1. Introduction to Qick program config"
   ]
  },
  {
   "cell_type": "markdown",
   "id": "40f2ddcd",
   "metadata": {},
   "source": [
    "To help begin using this program, I will go over the typical Qick program config parameters, which configure the specific Qick measurement. Each of these configuration variables are individual gettable and settable QCoDeS parameters of the ZCU216MetaInstrument. Currently, they have \"reasonable\" preset values in the code, but there is a method in the ZCU216Station to easily configure your own default parameter values. A typical qick program configuration dictionary (and the current ZCU216Station) has the following parameters:"
   ]
  },
  {
   "cell_type": "markdown",
   "id": "8d3cc35e",
   "metadata": {},
   "source": [
    "adc_trig_offset :\t(us)         ---- The delay after sending the pulse and beginning the readout \n",
    "\n",
    "nqz             :\t1 or 2       ---- Nyquist zone, see the example for the difference between these\n",
    "\n",
    "pulse_freq      :\t(MHz)        ---- Frequency of the sent pulse\n",
    "\n",
    "pulse_gain      :\t(DAC units)  ---- Gain of the sent pulse, in DAC units\n",
    "\n",
    "pulse_length    :\t(us)         ---- Length of the sent pulse\n",
    "\n",
    "pulse_phase     :\t(deg)        ---- Phase of the pulse\n",
    "\n",
    "qubit_ch        :\tIntegers 0-6 ---- Channel of the generator sending the pulse (at the time of writing, the physical connection on our board is configured from generator channel 6 to readout channel 0)\n",
    "\n",
    "res_ch          :\t0 or 1       ---- Readout channel number\n",
    "\n",
    "readout_length  :\t(us)         ---- Lenght of the readout\n",
    "\n",
    "relax_delay     :\t(us)         ---- Relax time between pulses\n",
    "\n",
    "reps            :\tIntegers     ---- Amount of repetitions for each pulse\n",
    "\n",
    "soft_avgs       :\tIntegers     ---- Not entirely sure, documentations say \"number of times to rerun the                                               program, averaging results in software (aka \"rounds\")\", but this does\n",
    "                                      not seem different to reps in simple single IQ-value measurements. This\n",
    "                                      may have usage only in the timetrace programs."
   ]
  },
  {
   "cell_type": "markdown",
   "id": "03f49f63",
   "metadata": {},
   "source": [
    "### A few notes about the configuration variables"
   ]
  },
  {
   "cell_type": "markdown",
   "id": "e46b3383",
   "metadata": {},
   "source": [
    "The typical structure of a qick program looping over certain variables in hardware is that an outer loop, containing the sending and reading of a pulse is looped over \"reps\" times. The results from these reps are averaged. Within each \"rep\", the hardware level sweeps over each variable corresponding to a register are iterated over, and this constitutes a singular repetition. See https://github.com/openquantumhardware/qick/blob/main/qick_demos/07_Sweep_ND_variables.ipynb for the assembly of a typical ND-sweep program. To get a more accurate result, try increasing the \"reps\" variable, but know that this increases the time it takes for the program to finish.\n",
    "\n",
    "If your program gives untypical values, you might need to play around with adc_trig_offset, readout_length, pulse_lenght, and relax_delay, provided that you have the appropriate Nyquist zone. For example, if your relax_delay is too small, the previous pulse might not have time to end before the sending of another pulse, which has an effect on the result. I have not yet found a perfect receipe for these parameters (and there might not be one), but it is a good start to set readout_lenght a bit larger than the pulse_length, and adc_trig_offset a bit smaller than the pulse_length. \n",
    "\n",
    "After you have a good set of these parameters, you can use this program to perform measurements using the ZCU216, while automatically saving your results to a QCoDeS database for easy access. "
   ]
  },
  {
   "cell_type": "markdown",
   "id": "4c8a2f47",
   "metadata": {},
   "source": [
    "## 2. Setting up the system"
   ]
  },
  {
   "cell_type": "markdown",
   "id": "9984b9bf",
   "metadata": {},
   "source": [
    "To use this notebook, and begin writing your own experiments, you first need to connect to the ZCU216. Connect your computer to the board with an ethernet cable, and set a static ip-address in the range 10.0.100.xx. The ZCU currently has 10.0.100.16 as its ip address. After you have turned the board on and connected (you may ensure connection using ping), go to the ip 10.0.100.16 on your browser and type the password for a jupyter notebook environment to appear. (You may connect to the machine via SSH, but we have noticed that the system priviledges of the notebook are required for Qick to work properly, and we have not been able to configure this environment for a typical user.) "
   ]
  },
  {
   "cell_type": "markdown",
   "id": "4a666db5",
   "metadata": {},
   "source": [
    "This file can currently be found in the location ~/transferred-files-jonatan/qick-qcodes-testing/ . The required imports are also in this directory. Navigate here on the board to find this example. "
   ]
  },
  {
   "cell_type": "markdown",
   "id": "c22cae84",
   "metadata": {},
   "source": [
    "## 3. Usage demonstration"
   ]
  },
  {
   "cell_type": "markdown",
   "id": "eb3c0aa6",
   "metadata": {},
   "source": [
    "Here is a few examples of an actual measurement using the current version of the software, and a demonstration of the basic usage of the ZCU216Station."
   ]
  },
  {
   "cell_type": "markdown",
   "id": "c760f156",
   "metadata": {},
   "source": [
    "### Initialization"
   ]
  },
  {
   "cell_type": "code",
   "execution_count": 1,
   "id": "de144f35",
   "metadata": {},
   "outputs": [
    {
     "data": {
      "application/javascript": [
       "\n",
       "try {\n",
       "require(['notebook/js/codecell'], function(codecell) {\n",
       "  codecell.CodeCell.options_default.highlight_modes[\n",
       "      'magic_text/x-csrc'] = {'reg':[/^%%microblaze/]};\n",
       "  Jupyter.notebook.events.one('kernel_ready.Kernel', function(){\n",
       "      Jupyter.notebook.get_cells().map(function(cell){\n",
       "          if (cell.cell_type == 'code'){ cell.auto_highlight(); } }) ;\n",
       "  });\n",
       "});\n",
       "} catch (e) {};\n"
      ]
     },
     "metadata": {},
     "output_type": "display_data"
    },
    {
     "data": {
      "application/javascript": [
       "\n",
       "try {\n",
       "require(['notebook/js/codecell'], function(codecell) {\n",
       "  codecell.CodeCell.options_default.highlight_modes[\n",
       "      'magic_text/x-csrc'] = {'reg':[/^%%pybind11/]};\n",
       "  Jupyter.notebook.events.one('kernel_ready.Kernel', function(){\n",
       "      Jupyter.notebook.get_cells().map(function(cell){\n",
       "          if (cell.cell_type == 'code'){ cell.auto_highlight(); } }) ;\n",
       "  });\n",
       "});\n",
       "} catch (e) {};\n"
      ]
     },
     "metadata": {},
     "output_type": "display_data"
    },
    {
     "name": "stdout",
     "output_type": "stream",
     "text": [
      "Qick version: 0.2.211\n"
     ]
    }
   ],
   "source": [
    "from metainstrument import ZCU216Station, ZCU216MetaInstrument\n",
    "from protocols import NDSweepProtocol\n",
    "\n",
    "import qcodes as qc\n",
    "from qcodes.instrument import Instrument, ManualParameter\n",
    "from qcodes.station import Station\n",
    "import qick\n",
    "print(\"Qick version:\", qick.__version__)\n",
    "\n",
    "import numpy as np\n",
    "import matplotlib.pyplot as plt"
   ]
  },
  {
   "cell_type": "markdown",
   "id": "80420147",
   "metadata": {},
   "source": [
    "Firstly, we locate a database in which we will save the measurement results, and then we create a QCoDeS station."
   ]
  },
  {
   "cell_type": "code",
   "execution_count": 2,
   "id": "78b94c6e",
   "metadata": {},
   "outputs": [],
   "source": [
    "#Initializing the station and the database\n",
    "qc.initialise_or_create_database_at(\"./zcu_test_data.db\")\n",
    "station = ZCU216Station()"
   ]
  },
  {
   "cell_type": "markdown",
   "id": "6a283240",
   "metadata": {},
   "source": [
    "The station is the highest level of abstraction for the whole system, it contains the configuration of a measurement, and the metainstrument containing the specific configuration variables of the qick program. We can see the current default configuration variables in the following way:"
   ]
  },
  {
   "cell_type": "code",
   "execution_count": 3,
   "id": "645a5b2a",
   "metadata": {},
   "outputs": [
    {
     "name": "stdout",
     "output_type": "stream",
     "text": [
      "zcu:\n",
      "\tparameter      value\n",
      "--------------------------------------------------------------------------------\n",
      "IDN             :\t{'vendor': None, 'model': 'zcu', 'serial': None, 'firmware'...\n",
      "adc_trig_offset :\t1 (us)\n",
      "nqz             :\t1 \n",
      "pulse_freq      :\t500 (MHz)\n",
      "pulse_gain      :\t10000 (DAC units)\n",
      "pulse_length    :\t10 (us)\n",
      "pulse_phase     :\t0 (deg)\n",
      "qubit_ch        :\t6 \n",
      "readout_length  :\t12 (us)\n",
      "relax_delay     :\t0.1 (us)\n",
      "reps            :\t100 \n",
      "res_ch          :\t0 \n",
      "soft_avgs       :\t1 \n"
     ]
    }
   ],
   "source": [
    "station.zcu.print_readable_snapshot()"
   ]
  },
  {
   "cell_type": "markdown",
   "id": "4f69ee6b",
   "metadata": {},
   "source": [
    "In the case that these defaults are not suited for your use, you can give the station a dictionary which will overwrite the hardcoded defaults:"
   ]
  },
  {
   "cell_type": "code",
   "execution_count": 4,
   "id": "9e8da08e",
   "metadata": {},
   "outputs": [
    {
     "name": "stdout",
     "output_type": "stream",
     "text": [
      "zcu:\n",
      "\tparameter      value\n",
      "--------------------------------------------------------------------------------\n",
      "IDN             :\t{'vendor': None, 'model': 'zcu', 'serial': None, 'firmware'...\n",
      "adc_trig_offset :\t0.5 (us)\n",
      "nqz             :\t1 \n",
      "pulse_freq      :\t500 (MHz)\n",
      "pulse_gain      :\t5000 (DAC units)\n",
      "pulse_length    :\t1 (us)\n",
      "pulse_phase     :\t0 (deg)\n",
      "qubit_ch        :\t6 \n",
      "readout_length  :\t1 (us)\n",
      "relax_delay     :\t0.1 (us)\n",
      "reps            :\t10 \n",
      "res_ch          :\t0 \n",
      "soft_avgs       :\t1 \n"
     ]
    }
   ],
   "source": [
    "#Configuring your own defaults\n",
    "my_own_defaults = {\"pulse_gain\" : 5000, \"pulse_length\" : 1, \"reps\" : 10, \"adc_trig_offset\" : 0.5, \"readout_length\" : 1 }\n",
    "station.set_defaults(my_own_defaults)\n",
    "station.zcu.print_readable_snapshot()"
   ]
  },
  {
   "cell_type": "code",
   "execution_count": 5,
   "id": "961349f7",
   "metadata": {},
   "outputs": [],
   "source": [
    "#You can also return to the original defaults:\n",
    "station.set_original_defaults()"
   ]
  },
  {
   "cell_type": "markdown",
   "id": "5ae906e5",
   "metadata": {},
   "source": [
    "### Frequency sweep measurement"
   ]
  },
  {
   "cell_type": "markdown",
   "id": "365c57c6",
   "metadata": {},
   "source": [
    "The syntax for running a measurement is simple, and the results are stored automatically into the database. The measurements return a run_id, with which one can find the measurement in the database corresponding to the unique run_id."
   ]
  },
  {
   "cell_type": "code",
   "execution_count": 8,
   "id": "2b26089f",
   "metadata": {},
   "outputs": [
    {
     "name": "stdout",
     "output_type": "stream",
     "text": [
      "Starting experimental run with id: 485. \n",
      "Starting experimental run with id: 486. \n"
     ]
    }
   ],
   "source": [
    "#A simple frequency sweep, demonstrating the difference between the nyquist zones\n",
    "\n",
    "#You can individually set parameter values\n",
    "station.zcu.pulse_gain(20000)\n",
    "\n",
    "#Setting the nyquist zone to 1\n",
    "station.zcu.nqz(1)\n",
    "\n",
    "#Here is an example of an IQ measurement. By using the protocol NDSweepProtocol, and giving the sweep parameters within a dictionary\n",
    "#the keys in the dictionary are sweepable zcu metainstrument parameters, and the lists contain the start value,\n",
    "#end value, and the step amount of the sweep.\n",
    "run_id_nqz1 = station.measure_iq(params_and_values = {station.zcu.pulse_freq: [100,8000,2000]}, protocol = NDSweepProtocol())\n",
    "\n",
    "#Again for the second nyquist zone\n",
    "station.zcu.nqz(2)\n",
    "run_id_nqz2 = station.measure_iq(params_and_values = {station.zcu.pulse_freq: [100,8000,2000]}, protocol = NDSweepProtocol())\n"
   ]
  },
  {
   "cell_type": "markdown",
   "id": "80be504f",
   "metadata": {},
   "source": [
    "We can then access the database, and inspect our results."
   ]
  },
  {
   "cell_type": "code",
   "execution_count": 9,
   "id": "b387cfb4",
   "metadata": {},
   "outputs": [
    {
     "data": {
      "text/plain": [
       "Text(0, 0.5, 'Amplitude')"
      ]
     },
     "execution_count": 9,
     "metadata": {},
     "output_type": "execute_result"
    },
    {
     "data": {
      "image/png": "[encoded data removed]",
      "text/plain": [
       "<Figure size 432x288 with 2 Axes>"
      ]
     },
     "metadata": {
      "needs_background": "light"
     },
     "output_type": "display_data"
    }
   ],
   "source": [
    "#Plotting the results\n",
    "ds1 = qc.load_by_id(run_id_nqz1).to_xarray_dataset()\n",
    "ds2 = qc.load_by_id(run_id_nqz2).to_xarray_dataset()\n",
    "\n",
    "\n",
    "plt.subplot(2, 1, 1)\n",
    "plt.plot(ds1[\"pulse_freq\"], abs(ds1[\"avg_q\"] + 1j*ds1[\"avg_i\"]))\n",
    "plt.ylim(0,200)\n",
    "plt.xlim(0,8000)\n",
    "plt.title('Difference between Nyquist zones')\n",
    "plt.xlabel('Frequency (MHz)')\n",
    "plt.ylabel('Amplitude')\n",
    "\n",
    "plt.subplot(2, 1, 2)\n",
    "plt.plot(ds2[\"pulse_freq\"], abs(ds2[\"avg_q\"] + 1j*ds2[\"avg_i\"]))\n",
    "plt.ylim(0,200)\n",
    "plt.xlim(0,8000)\n",
    "plt.xlabel('Frequency (MHz)')\n",
    "plt.ylabel('Amplitude')"
   ]
  },
  {
   "cell_type": "markdown",
   "id": "e0d296aa",
   "metadata": {},
   "source": [
    "### Two dimensional sweep measurement, pulse gain and phase."
   ]
  },
  {
   "cell_type": "markdown",
   "id": "b2168ff6",
   "metadata": {},
   "source": [
    "Multidimensional sweeping is simple, you just add another element into the params_and_values dictionary."
   ]
  },
  {
   "cell_type": "code",
   "execution_count": 20,
   "id": "6f35f582",
   "metadata": {},
   "outputs": [
    {
     "name": "stdout",
     "output_type": "stream",
     "text": [
      "Starting experimental run with id: 488. \n"
     ]
    }
   ],
   "source": [
    "#Since we have implemented multidimensional sweeping, we may do a sweep of phase over gain \n",
    "station.zcu.reps(5)\n",
    "phase_over_gain_id = station.measure_iq(params_and_values = {\n",
    "    station.zcu.pulse_phase: [0,360,200],\n",
    "    station.zcu.pulse_gain: [1000, 10000, 200]},\n",
    "    protocol = NDSweepProtocol())\n",
    "\n",
    "ds_gain_phase = qc.load_by_id(phase_over_gain_id).to_xarray_dataset()"
   ]
  },
  {
   "cell_type": "code",
   "execution_count": 21,
   "id": "71ed3108",
   "metadata": {},
   "outputs": [
    {
     "data": {
      "text/plain": [
       "Text(0.5, 0, 'Phase (degrees)')"
      ]
     },
     "execution_count": 21,
     "metadata": {},
     "output_type": "execute_result"
    },
    {
     "data": {
      "image/png": "[encoded data removed]",
      "text/plain": [
       "<Figure size 432x288 with 2 Axes>"
      ]
     },
     "metadata": {
      "needs_background": "light"
     },
     "output_type": "display_data"
    }
   ],
   "source": [
    "#We may then separately plot the i and q data against gain and phase\n",
    "\n",
    "plt.subplot(2, 1, 1)\n",
    "plt.contourf(ds_gain_phase[\"pulse_gain\"], ds_gain_phase[\"pulse_phase\"] , ds_gain_phase[\"avg_q\"])\n",
    "plt.title('i- and q-data against gain and phase sweeping')\n",
    "plt.ylabel('Gain (DAC units)')\n",
    "plt.xlabel('Phase (degrees)')\n",
    "\n",
    "\n",
    "plt.subplot(2, 1, 2)\n",
    "plt.contourf(ds_gain_phase[\"pulse_gain\"], ds_gain_phase[\"pulse_phase\"] , ds_gain_phase[\"avg_i\"])\n",
    "plt.ylabel('Gain (DAC units)')\n",
    "plt.xlabel('Phase (degrees)')"
   ]
  },
  {
   "cell_type": "code",
   "execution_count": 22,
   "id": "8cdd186e",
   "metadata": {},
   "outputs": [
    {
     "data": {
      "text/plain": [
       "Text(0.5, 0, 'Phase (degrees)')"
      ]
     },
     "execution_count": 22,
     "metadata": {},
     "output_type": "execute_result"
    },
    {
     "data": {
      "image/png": "[encoded data removed]",
      "text/plain": [
       "<Figure size 432x288 with 1 Axes>"
      ]
     },
     "metadata": {
      "needs_background": "light"
     },
     "output_type": "display_data"
    }
   ],
   "source": [
    "#The amplitude from the previous sweep\n",
    "plt.contourf(ds_gain_phase[\"pulse_gain\"], ds_gain_phase[\"pulse_phase\"], abs(ds_gain_phase[\"avg_q\"]+1j*ds_gain_phase[\"avg_i\"]))\n",
    "plt.title('amplitude against gain and phase sweeping')\n",
    "plt.ylabel('Gain (DAC units)')\n",
    "plt.xlabel('Phase (degrees)')"
   ]
  },
  {
   "cell_type": "markdown",
   "id": "74a362f6",
   "metadata": {},
   "source": [
    "### Band-pass filter"
   ]
  },
  {
   "cell_type": "markdown",
   "id": "c800f68d",
   "metadata": {},
   "source": [
    "This example is here just for my own curiosity"
   ]
  },
  {
   "cell_type": "code",
   "execution_count": 14,
   "id": "a5da5a0e",
   "metadata": {},
   "outputs": [
    {
     "name": "stdout",
     "output_type": "stream",
     "text": [
      "Starting experimental run with id: 398. \n"
     ]
    }
   ],
   "source": [
    "#Frequency sweep using a bandpass filter 1.35-1.45 GHz\n",
    "\n",
    "station.zcu.pulse_gain(20000)\n",
    "station.zcu.nqz(1)\n",
    "bandpass_run_id = station.measure_iq(params_and_values = {station.zcu.pulse_freq: [500,2500,1000]}, protocol = NDSweepProtocol())"
   ]
  },
  {
   "cell_type": "code",
   "execution_count": 15,
   "id": "54f25fce",
   "metadata": {},
   "outputs": [
    {
     "name": "stdout",
     "output_type": "stream",
     "text": [
      "Starting experimental run with id: 399. \n"
     ]
    }
   ],
   "source": [
    "no_bandpass_run_id = station.measure_iq(params_and_values = {station.zcu.pulse_freq: [500,2500,1000]}, protocol = NDSweepProtocol())"
   ]
  },
  {
   "cell_type": "code",
   "execution_count": 18,
   "id": "6f4769b9",
   "metadata": {},
   "outputs": [
    {
     "data": {
      "text/plain": [
       "Text(0, 0.5, 'Amplitude')"
      ]
     },
     "execution_count": 18,
     "metadata": {},
     "output_type": "execute_result"
    },
    {
     "data": {
      "image/png": "[encoded data removed]",
      "text/plain": [
       "<Figure size 432x288 with 2 Axes>"
      ]
     },
     "metadata": {
      "needs_background": "light"
     },
     "output_type": "display_data"
    }
   ],
   "source": [
    "#Plotting the results\n",
    "no_bp_ds = qc.load_by_id(no_bandpass_run_id).to_xarray_dataset()\n",
    "bp_ds = qc.load_by_id(bandpass_run_id).to_xarray_dataset()\n",
    "\n",
    "plt.subplot(2, 1, 1)\n",
    "plt.plot(bp_ds[\"pulse_freq\"], abs(bp_ds[\"avg_q\"] + 1j*bp_ds[\"avg_i\"]))\n",
    "plt.ylim(0,400)\n",
    "plt.xlim(500,2500)\n",
    "plt.title('Frequency sweep with and without a bandpass filter')\n",
    "plt.xlabel('Frequency (MHz)')\n",
    "plt.ylabel('Amplitude')\n",
    "\n",
    "plt.subplot(2, 1, 2)\n",
    "plt.plot(no_bp_ds[\"pulse_freq\"], abs(no_bp_ds[\"avg_q\"] + 1j*no_bp_ds[\"avg_i\"]))\n",
    "plt.ylim(0,400)\n",
    "plt.xlim(500,2500)\n",
    "plt.xlabel('Frequency (MHz)')\n",
    "plt.ylabel('Amplitude')"
   ]
  }
 ],
 "metadata": {
  "kernelspec": {
   "display_name": "Python 3",
   "language": "python",
   "name": "python3"
  },
  "language_info": {
   "codemirror_mode": {
    "name": "ipython",
    "version": 3
   },
   "file_extension": ".py",
   "mimetype": "text/x-python",
   "name": "python",
   "nbconvert_exporter": "python",
   "pygments_lexer": "ipython3",
   "version": "3.8.2"
  }
 },
 "nbformat": 4,
 "nbformat_minor": 5
}
