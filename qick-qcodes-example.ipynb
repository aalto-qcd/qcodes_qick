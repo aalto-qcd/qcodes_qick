{
 "cells": [
  {
   "cell_type": "markdown",
   "id": "3fefe132",
   "metadata": {},
   "source": [
    "# Usage example of the refactored program"
   ]
  },
  {
   "cell_type": "markdown",
   "id": "da3ed361",
   "metadata": {},
   "source": [
    "## Some basic examples of the syntax and how to use the software"
   ]
  },
  {
   "cell_type": "code",
   "execution_count": 1,
   "id": "ac8fcfe4",
   "metadata": {},
   "outputs": [
    {
     "data": {
      "application/javascript": [
       "\n",
       "try {\n",
       "require(['notebook/js/codecell'], function(codecell) {\n",
       "  codecell.CodeCell.options_default.highlight_modes[\n",
       "      'magic_text/x-csrc'] = {'reg':[/^%%microblaze/]};\n",
       "  Jupyter.notebook.events.one('kernel_ready.Kernel', function(){\n",
       "      Jupyter.notebook.get_cells().map(function(cell){\n",
       "          if (cell.cell_type == 'code'){ cell.auto_highlight(); } }) ;\n",
       "  });\n",
       "});\n",
       "} catch (e) {};\n"
      ]
     },
     "metadata": {},
     "output_type": "display_data"
    },
    {
     "data": {
      "application/javascript": [
       "\n",
       "try {\n",
       "require(['notebook/js/codecell'], function(codecell) {\n",
       "  codecell.CodeCell.options_default.highlight_modes[\n",
       "      'magic_text/x-csrc'] = {'reg':[/^%%pybind11/]};\n",
       "  Jupyter.notebook.events.one('kernel_ready.Kernel', function(){\n",
       "      Jupyter.notebook.get_cells().map(function(cell){\n",
       "          if (cell.cell_type == 'code'){ cell.auto_highlight(); } }) ;\n",
       "  });\n",
       "});\n",
       "} catch (e) {};\n"
      ]
     },
     "metadata": {},
     "output_type": "display_data"
    }
   ],
   "source": [
    "import qcodes as qc\n",
    "from qcodes.instrument import Instrument, ManualParameter\n",
    "from qcodes.station import Station\n",
    "\n",
    "from metainstruments.ZCUStation import ZCU216Station\n",
    "from metainstruments.ZCUMetainstrument import ZCU216Metainstrument\n",
    "from measurements.Protocols import Protocol\n",
    "from measurements.T1Protocol import T1Protocol\n",
    "from measurements.PulseProbeSpectroscopyProtocol import PulseProbeSpectroscopyProtocol\n",
    "from measurements.NDSweepProtocol import NDSweepProtocol\n",
    "from qick import *\n",
    "\n",
    "\n",
    "import numpy as np\n",
    "import matplotlib.pyplot as plt"
   ]
  },
  {
   "cell_type": "markdown",
   "id": "faa91e8b",
   "metadata": {},
   "source": [
    "### The setup revolves around defining a qcodes station that contains instruments (zcu metainstrument, measurement protocols, and DAC/ADC channels etc.), and handles the initialization and output handling of measurement data"
   ]
  },
  {
   "cell_type": "code",
   "execution_count": 2,
   "id": "46d636ca",
   "metadata": {},
   "outputs": [],
   "source": [
    "#Initializing the station and the database\n",
    "qc.initialise_or_create_database_at(\"./experiment-data/zcu_test_data.db\")\n",
    "station = ZCU216Station()"
   ]
  },
  {
   "cell_type": "code",
   "execution_count": 3,
   "id": "67327eb4",
   "metadata": {},
   "outputs": [],
   "source": [
    "#Initializing the experiment\n",
    "experiment = qc.load_or_create_experiment(\n",
    "                experiment_name=\"ZCU_QICK_QCODES_TEST\",\n",
    "                sample_name=\"None\")"
   ]
  },
  {
   "cell_type": "markdown",
   "id": "f04b0abb",
   "metadata": {},
   "source": [
    "### Access to QickSoc"
   ]
  },
  {
   "cell_type": "code",
   "execution_count": 4,
   "id": "e6639e62",
   "metadata": {},
   "outputs": [
    {
     "name": "stdout",
     "output_type": "stream",
     "text": [
      "\n",
      "QICK configuration:\n",
      "\n",
      "\tBoard: ZCU216\n",
      "\n",
      "\tSoftware version: 0.2.211\n",
      "\tFirmware timestamp: Mon Aug 21 11:09:34 2023\n",
      "\n",
      "\tGlobal clocks (MHz): tProcessor 430.080, RF reference 245.760\n",
      "\n",
      "\t7 signal generator channels:\n",
      "\t0:\taxis_signal_gen_v6 - envelope memory 65536 samples (9.524 us)\n",
      "\t\tfs=6881.280 MHz, fabric=430.080 MHz, 32-bit DDS, range=6881.280 MHz\n",
      "\t\tDAC tile 2, blk 0 is 0_230, on JHC3\n",
      "\t1:\taxis_signal_gen_v6 - envelope memory 65536 samples (9.524 us)\n",
      "\t\tfs=6881.280 MHz, fabric=430.080 MHz, 32-bit DDS, range=6881.280 MHz\n",
      "\t\tDAC tile 2, blk 1 is 1_230, on JHC4\n",
      "\t2:\taxis_signal_gen_v6 - envelope memory 65536 samples (9.524 us)\n",
      "\t\tfs=6881.280 MHz, fabric=430.080 MHz, 32-bit DDS, range=6881.280 MHz\n",
      "\t\tDAC tile 2, blk 2 is 2_230, on JHC3\n",
      "\t3:\taxis_signal_gen_v6 - envelope memory 65536 samples (9.524 us)\n",
      "\t\tfs=6881.280 MHz, fabric=430.080 MHz, 32-bit DDS, range=6881.280 MHz\n",
      "\t\tDAC tile 2, blk 3 is 3_230, on JHC4\n",
      "\t4:\taxis_signal_gen_v6 - envelope memory 65536 samples (9.524 us)\n",
      "\t\tfs=6881.280 MHz, fabric=430.080 MHz, 32-bit DDS, range=6881.280 MHz\n",
      "\t\tDAC tile 3, blk 0 is 0_231, on JHC3\n",
      "\t5:\taxis_signal_gen_v6 - envelope memory 65536 samples (9.524 us)\n",
      "\t\tfs=6881.280 MHz, fabric=430.080 MHz, 32-bit DDS, range=6881.280 MHz\n",
      "\t\tDAC tile 3, blk 1 is 1_231, on JHC4\n",
      "\t6:\taxis_signal_gen_v6 - envelope memory 65536 samples (9.524 us)\n",
      "\t\tfs=6881.280 MHz, fabric=430.080 MHz, 32-bit DDS, range=6881.280 MHz\n",
      "\t\tDAC tile 3, blk 2 is 2_231, on JHC3\n",
      "\n",
      "\t2 readout channels:\n",
      "\t0:\taxis_readout_v2 - controlled by PYNQ\n",
      "\t\tfs=2457.600 MHz, fabric=307.200 MHz, 32-bit DDS, range=2457.600 MHz\n",
      "\t\tmaxlen 16384 accumulated, 1024 decimated (3.333 us)\n",
      "\t\ttriggered by output 0, pin 14, feedback to tProc input 0\n",
      "\t\tADC tile 2, blk 0 is 0_226, on JHC7\n",
      "\t1:\taxis_readout_v2 - controlled by PYNQ\n",
      "\t\tfs=2457.600 MHz, fabric=307.200 MHz, 32-bit DDS, range=2457.600 MHz\n",
      "\t\tmaxlen 16384 accumulated, 1024 decimated (3.333 us)\n",
      "\t\ttriggered by output 0, pin 15, feedback to tProc input 1\n",
      "\t\tADC tile 2, blk 2 is 2_226, on JHC7\n",
      "\n",
      "\t8 digital output pins:\n",
      "\t0:\tPMOD0_0_LS\n",
      "\t1:\tPMOD0_1_LS\n",
      "\t2:\tPMOD0_2_LS\n",
      "\t3:\tPMOD0_3_LS\n",
      "\t4:\tPMOD0_4_LS\n",
      "\t5:\tPMOD0_5_LS\n",
      "\t6:\tPMOD0_6_LS\n",
      "\t7:\tPMOD0_7_LS\n",
      "\n",
      "\ttProc axis_tproc64x32_x8: program memory 8192 words, data memory 4096 words\n",
      "\t\texternal start pin: PMOD1_0_LS\n",
      "\n",
      "\tDDR4 memory buffer: 1073741824 samples (3.495 sec), 128 samples/transfer\n",
      "\t\twired to readouts [0, 1]\n",
      "\n",
      "\tMR buffer: 8192 samples (3.333 us), wired to readouts [0, 1]\n"
     ]
    }
   ],
   "source": [
    "# The following command can be used to configure to see what qick channel corresponds to what physical port\n",
    "# station.troubleshoot returns the QickSock object\n",
    "print(station.troubleshoot())"
   ]
  },
  {
   "cell_type": "markdown",
   "id": "31aefdcf",
   "metadata": {},
   "source": [
    "### Qick channels, that correspond to physical DACs and ADCs through their channel number are defined as instruments contained in the station. The channels have specific parameters that will be utilized by a protocol to perform a measurement "
   ]
  },
  {
   "cell_type": "code",
   "execution_count": 5,
   "id": "bd96baf9",
   "metadata": {},
   "outputs": [],
   "source": [
    "#At the time of writing, we have connected DACs 2_231 and 0_231 to the adc's and oscilloscopes, these have  \n",
    "#qick channels 6 and 4. The physically connected ADC channel is 0_226. Thus, our configuration will be:\n",
    "station.add_DAC_channel(name=\"Probe\", channel=6)\n",
    "station.add_DAC_channel(name=\"Readout\", channel=4)\n",
    "station.add_ADC_channel(name=\"ADC\", channel=0)"
   ]
  },
  {
   "cell_type": "code",
   "execution_count": 6,
   "id": "9e0283f5",
   "metadata": {},
   "outputs": [
    {
     "name": "stdout",
     "output_type": "stream",
     "text": [
      "ADC:\n",
      "\tparameter value\n",
      "--------------------------------------------------------------------------------\n",
      "IDN     :\t{'vendor': None, 'model': 'ADC', 'serial': None, 'firmware': None} \n",
      "channel :\t0 \n"
     ]
    }
   ],
   "source": [
    "station.ADC.print_readable_snapshot()\n"
   ]
  },
  {
   "cell_type": "code",
   "execution_count": 7,
   "id": "e499da82",
   "metadata": {},
   "outputs": [
    {
     "name": "stdout",
     "output_type": "stream",
     "text": [
      "Probe:\n",
      "\tparameter   value\n",
      "--------------------------------------------------------------------------------\n",
      "IDN          :\t{'vendor': None, 'model': 'Probe', 'serial': None, 'firmware':...\n",
      "channel      :\t6 \n",
      "nqz          :\t1 \n",
      "pulse_freq   :\t500 (MHz)\n",
      "pulse_gain   :\t5000 (DAC units)\n",
      "pulse_length :\t10 (us)\n",
      "pulse_phase  :\t0 (deg)\n"
     ]
    }
   ],
   "source": [
    "station.Probe.print_readable_snapshot()"
   ]
  },
  {
   "cell_type": "markdown",
   "id": "fc2cf8cb",
   "metadata": {},
   "source": [
    "### Protocols, that handle specific qick programs with specific DAC/ADC configuration requirements, are also instruments in the station that are passed to measurement methods. The protocols have measurement specific parameters.  "
   ]
  },
  {
   "cell_type": "code",
   "execution_count": 8,
   "id": "9d460d12",
   "metadata": {},
   "outputs": [
    {
     "data": {
      "text/plain": [
       "<NDSweepProtocol: vna>"
      ]
     },
     "execution_count": 8,
     "metadata": {},
     "output_type": "execute_result"
    }
   ],
   "source": [
    "station.add_protocol(NDSweepProtocol(name='vna'))"
   ]
  },
  {
   "cell_type": "code",
   "execution_count": 9,
   "id": "6d1ca1fa",
   "metadata": {},
   "outputs": [
    {
     "name": "stdout",
     "output_type": "stream",
     "text": [
      "vna:\n",
      "\tparameter      value\n",
      "--------------------------------------------------------------------------------\n",
      "IDN             :\t{'vendor': None, 'model': 'vna', 'serial': None, 'firmware'...\n",
      "adc_trig_offset :\t100 (Clock ticks)\n",
      "readout_length  :\t5 (us)\n",
      "relax_delay     :\t0.1 (us)\n",
      "reps            :\t400 \n",
      "\n",
      "adc_trig_offset means: Delay between sending probe pulse and ADC initialization\n"
     ]
    }
   ],
   "source": [
    "station.vna.print_readable_snapshot()\n",
    "print()\n",
    "print(\"adc_trig_offset means:\", station.vna.adc_trig_offset.label)"
   ]
  },
  {
   "cell_type": "markdown",
   "id": "b92eeab9",
   "metadata": {},
   "source": [
    "### Given a protocol, and protocol specific channels, you can run a measurement as follows"
   ]
  },
  {
   "cell_type": "code",
   "execution_count": 10,
   "id": "559f5721",
   "metadata": {},
   "outputs": [
    {
     "name": "stdout",
     "output_type": "stream",
     "text": [
      "Starting experimental run with id: 1500. \n"
     ]
    }
   ],
   "source": [
    "# Iterate the frequency of the probe pulse from 1000 to 1100 MHz, with 10 iteration points. The probe\n",
    "# channel is defined in the dac_channels as 'probe', and the adc channel is defined in adc_channels. The\n",
    "# protocol you defined and configured is set as the protocol.\n",
    "\n",
    "vna_run_id = station.measure_iq(params_and_values = {  station.Probe.pulse_freq: [1000, 1100, 10]}, \n",
    "                         protocol = station.vna, \n",
    "                         dac_channels = {'probe': station.Probe},\n",
    "                         adc_channels = {'adc' : station.ADC},\n",
    "                         experiment = experiment)"
   ]
  },
  {
   "cell_type": "markdown",
   "id": "823a33fb",
   "metadata": {},
   "source": [
    "### access to the measurement result"
   ]
  },
  {
   "cell_type": "code",
   "execution_count": 11,
   "id": "858ffb3d",
   "metadata": {},
   "outputs": [
    {
     "name": "stderr",
     "output_type": "stream",
     "text": [
      "/usr/local/share/pynq-venv/lib/python3.8/site-packages/pandas/core/computation/expressions.py:20: UserWarning: Pandas requires version '2.7.3' or newer of 'numexpr' (version '2.7.1' currently installed).\n",
      "  from pandas.core.computation.check import NUMEXPR_INSTALLED\n"
     ]
    },
    {
     "data": {
      "text/html": [
       "<div><svg style=\"position: absolute; width: 0; height: 0; overflow: hidden\">\n",
       "<defs>\n",
       "<symbol id=\"icon-database\" viewBox=\"0 0 32 32\">\n",
       "<path d=\"M16 0c-8.837 0-16 2.239-16 5v4c0 2.761 7.163 5 16 5s16-2.239 16-5v-4c0-2.761-7.163-5-16-5z\"></path>\n",
       "<path d=\"M16 17c-8.837 0-16-2.239-16-5v6c0 2.761 7.163 5 16 5s16-2.239 16-5v-6c0 2.761-7.163 5-16 5z\"></path>\n",
       "<path d=\"M16 26c-8.837 0-16-2.239-16-5v6c0 2.761 7.163 5 16 5s16-2.239 16-5v-6c0 2.761-7.163 5-16 5z\"></path>\n",
       "</symbol>\n",
       "<symbol id=\"icon-file-text2\" viewBox=\"0 0 32 32\">\n",
       "<path d=\"M28.681 7.159c-0.694-0.947-1.662-2.053-2.724-3.116s-2.169-2.030-3.116-2.724c-1.612-1.182-2.393-1.319-2.841-1.319h-15.5c-1.378 0-2.5 1.121-2.5 2.5v27c0 1.378 1.122 2.5 2.5 2.5h23c1.378 0 2.5-1.122 2.5-2.5v-19.5c0-0.448-0.137-1.23-1.319-2.841zM24.543 5.457c0.959 0.959 1.712 1.825 2.268 2.543h-4.811v-4.811c0.718 0.556 1.584 1.309 2.543 2.268zM28 29.5c0 0.271-0.229 0.5-0.5 0.5h-23c-0.271 0-0.5-0.229-0.5-0.5v-27c0-0.271 0.229-0.5 0.5-0.5 0 0 15.499-0 15.5 0v7c0 0.552 0.448 1 1 1h7v19.5z\"></path>\n",
       "<path d=\"M23 26h-14c-0.552 0-1-0.448-1-1s0.448-1 1-1h14c0.552 0 1 0.448 1 1s-0.448 1-1 1z\"></path>\n",
       "<path d=\"M23 22h-14c-0.552 0-1-0.448-1-1s0.448-1 1-1h14c0.552 0 1 0.448 1 1s-0.448 1-1 1z\"></path>\n",
       "<path d=\"M23 18h-14c-0.552 0-1-0.448-1-1s0.448-1 1-1h14c0.552 0 1 0.448 1 1s-0.448 1-1 1z\"></path>\n",
       "</symbol>\n",
       "</defs>\n",
       "</svg>\n",
       "<style>/* CSS stylesheet for displaying xarray objects in jupyterlab.\n",
       " *\n",
       " */\n",
       "\n",
       ":root {\n",
       "  --xr-font-color0: var(--jp-content-font-color0, rgba(0, 0, 0, 1));\n",
       "  --xr-font-color2: var(--jp-content-font-color2, rgba(0, 0, 0, 0.54));\n",
       "  --xr-font-color3: var(--jp-content-font-color3, rgba(0, 0, 0, 0.38));\n",
       "  --xr-border-color: var(--jp-border-color2, #e0e0e0);\n",
       "  --xr-disabled-color: var(--jp-layout-color3, #bdbdbd);\n",
       "  --xr-background-color: var(--jp-layout-color0, white);\n",
       "  --xr-background-color-row-even: var(--jp-layout-color1, white);\n",
       "  --xr-background-color-row-odd: var(--jp-layout-color2, #eeeeee);\n",
       "}\n",
       "\n",
       "html[theme=dark],\n",
       "body[data-theme=dark],\n",
       "body.vscode-dark {\n",
       "  --xr-font-color0: rgba(255, 255, 255, 1);\n",
       "  --xr-font-color2: rgba(255, 255, 255, 0.54);\n",
       "  --xr-font-color3: rgba(255, 255, 255, 0.38);\n",
       "  --xr-border-color: #1F1F1F;\n",
       "  --xr-disabled-color: #515151;\n",
       "  --xr-background-color: #111111;\n",
       "  --xr-background-color-row-even: #111111;\n",
       "  --xr-background-color-row-odd: #313131;\n",
       "}\n",
       "\n",
       ".xr-wrap {\n",
       "  display: block !important;\n",
       "  min-width: 300px;\n",
       "  max-width: 700px;\n",
       "}\n",
       "\n",
       ".xr-text-repr-fallback {\n",
       "  /* fallback to plain text repr when CSS is not injected (untrusted notebook) */\n",
       "  display: none;\n",
       "}\n",
       "\n",
       ".xr-header {\n",
       "  padding-top: 6px;\n",
       "  padding-bottom: 6px;\n",
       "  margin-bottom: 4px;\n",
       "  border-bottom: solid 1px var(--xr-border-color);\n",
       "}\n",
       "\n",
       ".xr-header > div,\n",
       ".xr-header > ul {\n",
       "  display: inline;\n",
       "  margin-top: 0;\n",
       "  margin-bottom: 0;\n",
       "}\n",
       "\n",
       ".xr-obj-type,\n",
       ".xr-array-name {\n",
       "  margin-left: 2px;\n",
       "  margin-right: 10px;\n",
       "}\n",
       "\n",
       ".xr-obj-type {\n",
       "  color: var(--xr-font-color2);\n",
       "}\n",
       "\n",
       ".xr-sections {\n",
       "  padding-left: 0 !important;\n",
       "  display: grid;\n",
       "  grid-template-columns: 150px auto auto 1fr 20px 20px;\n",
       "}\n",
       "\n",
       ".xr-section-item {\n",
       "  display: contents;\n",
       "}\n",
       "\n",
       ".xr-section-item input {\n",
       "  display: none;\n",
       "}\n",
       "\n",
       ".xr-section-item input + label {\n",
       "  color: var(--xr-disabled-color);\n",
       "}\n",
       "\n",
       ".xr-section-item input:enabled + label {\n",
       "  cursor: pointer;\n",
       "  color: var(--xr-font-color2);\n",
       "}\n",
       "\n",
       ".xr-section-item input:enabled + label:hover {\n",
       "  color: var(--xr-font-color0);\n",
       "}\n",
       "\n",
       ".xr-section-summary {\n",
       "  grid-column: 1;\n",
       "  color: var(--xr-font-color2);\n",
       "  font-weight: 500;\n",
       "}\n",
       "\n",
       ".xr-section-summary > span {\n",
       "  display: inline-block;\n",
       "  padding-left: 0.5em;\n",
       "}\n",
       "\n",
       ".xr-section-summary-in:disabled + label {\n",
       "  color: var(--xr-font-color2);\n",
       "}\n",
       "\n",
       ".xr-section-summary-in + label:before {\n",
       "  display: inline-block;\n",
       "  content: '►';\n",
       "  font-size: 11px;\n",
       "  width: 15px;\n",
       "  text-align: center;\n",
       "}\n",
       "\n",
       ".xr-section-summary-in:disabled + label:before {\n",
       "  color: var(--xr-disabled-color);\n",
       "}\n",
       "\n",
       ".xr-section-summary-in:checked + label:before {\n",
       "  content: '▼';\n",
       "}\n",
       "\n",
       ".xr-section-summary-in:checked + label > span {\n",
       "  display: none;\n",
       "}\n",
       "\n",
       ".xr-section-summary,\n",
       ".xr-section-inline-details {\n",
       "  padding-top: 4px;\n",
       "  padding-bottom: 4px;\n",
       "}\n",
       "\n",
       ".xr-section-inline-details {\n",
       "  grid-column: 2 / -1;\n",
       "}\n",
       "\n",
       ".xr-section-details {\n",
       "  display: none;\n",
       "  grid-column: 1 / -1;\n",
       "  margin-bottom: 5px;\n",
       "}\n",
       "\n",
       ".xr-section-summary-in:checked ~ .xr-section-details {\n",
       "  display: contents;\n",
       "}\n",
       "\n",
       ".xr-array-wrap {\n",
       "  grid-column: 1 / -1;\n",
       "  display: grid;\n",
       "  grid-template-columns: 20px auto;\n",
       "}\n",
       "\n",
       ".xr-array-wrap > label {\n",
       "  grid-column: 1;\n",
       "  vertical-align: top;\n",
       "}\n",
       "\n",
       ".xr-preview {\n",
       "  color: var(--xr-font-color3);\n",
       "}\n",
       "\n",
       ".xr-array-preview,\n",
       ".xr-array-data {\n",
       "  padding: 0 5px !important;\n",
       "  grid-column: 2;\n",
       "}\n",
       "\n",
       ".xr-array-data,\n",
       ".xr-array-in:checked ~ .xr-array-preview {\n",
       "  display: none;\n",
       "}\n",
       "\n",
       ".xr-array-in:checked ~ .xr-array-data,\n",
       ".xr-array-preview {\n",
       "  display: inline-block;\n",
       "}\n",
       "\n",
       ".xr-dim-list {\n",
       "  display: inline-block !important;\n",
       "  list-style: none;\n",
       "  padding: 0 !important;\n",
       "  margin: 0;\n",
       "}\n",
       "\n",
       ".xr-dim-list li {\n",
       "  display: inline-block;\n",
       "  padding: 0;\n",
       "  margin: 0;\n",
       "}\n",
       "\n",
       ".xr-dim-list:before {\n",
       "  content: '(';\n",
       "}\n",
       "\n",
       ".xr-dim-list:after {\n",
       "  content: ')';\n",
       "}\n",
       "\n",
       ".xr-dim-list li:not(:last-child):after {\n",
       "  content: ',';\n",
       "  padding-right: 5px;\n",
       "}\n",
       "\n",
       ".xr-has-index {\n",
       "  font-weight: bold;\n",
       "}\n",
       "\n",
       ".xr-var-list,\n",
       ".xr-var-item {\n",
       "  display: contents;\n",
       "}\n",
       "\n",
       ".xr-var-item > div,\n",
       ".xr-var-item label,\n",
       ".xr-var-item > .xr-var-name span {\n",
       "  background-color: var(--xr-background-color-row-even);\n",
       "  margin-bottom: 0;\n",
       "}\n",
       "\n",
       ".xr-var-item > .xr-var-name:hover span {\n",
       "  padding-right: 5px;\n",
       "}\n",
       "\n",
       ".xr-var-list > li:nth-child(odd) > div,\n",
       ".xr-var-list > li:nth-child(odd) > label,\n",
       ".xr-var-list > li:nth-child(odd) > .xr-var-name span {\n",
       "  background-color: var(--xr-background-color-row-odd);\n",
       "}\n",
       "\n",
       ".xr-var-name {\n",
       "  grid-column: 1;\n",
       "}\n",
       "\n",
       ".xr-var-dims {\n",
       "  grid-column: 2;\n",
       "}\n",
       "\n",
       ".xr-var-dtype {\n",
       "  grid-column: 3;\n",
       "  text-align: right;\n",
       "  color: var(--xr-font-color2);\n",
       "}\n",
       "\n",
       ".xr-var-preview {\n",
       "  grid-column: 4;\n",
       "}\n",
       "\n",
       ".xr-index-preview {\n",
       "  grid-column: 2 / 5;\n",
       "  color: var(--xr-font-color2);\n",
       "}\n",
       "\n",
       ".xr-var-name,\n",
       ".xr-var-dims,\n",
       ".xr-var-dtype,\n",
       ".xr-preview,\n",
       ".xr-attrs dt {\n",
       "  white-space: nowrap;\n",
       "  overflow: hidden;\n",
       "  text-overflow: ellipsis;\n",
       "  padding-right: 10px;\n",
       "}\n",
       "\n",
       ".xr-var-name:hover,\n",
       ".xr-var-dims:hover,\n",
       ".xr-var-dtype:hover,\n",
       ".xr-attrs dt:hover {\n",
       "  overflow: visible;\n",
       "  width: auto;\n",
       "  z-index: 1;\n",
       "}\n",
       "\n",
       ".xr-var-attrs,\n",
       ".xr-var-data,\n",
       ".xr-index-data {\n",
       "  display: none;\n",
       "  background-color: var(--xr-background-color) !important;\n",
       "  padding-bottom: 5px !important;\n",
       "}\n",
       "\n",
       ".xr-var-attrs-in:checked ~ .xr-var-attrs,\n",
       ".xr-var-data-in:checked ~ .xr-var-data,\n",
       ".xr-index-data-in:checked ~ .xr-index-data {\n",
       "  display: block;\n",
       "}\n",
       "\n",
       ".xr-var-data > table {\n",
       "  float: right;\n",
       "}\n",
       "\n",
       ".xr-var-name span,\n",
       ".xr-var-data,\n",
       ".xr-index-name div,\n",
       ".xr-index-data,\n",
       ".xr-attrs {\n",
       "  padding-left: 25px !important;\n",
       "}\n",
       "\n",
       ".xr-attrs,\n",
       ".xr-var-attrs,\n",
       ".xr-var-data,\n",
       ".xr-index-data {\n",
       "  grid-column: 1 / -1;\n",
       "}\n",
       "\n",
       "dl.xr-attrs {\n",
       "  padding: 0;\n",
       "  margin: 0;\n",
       "  display: grid;\n",
       "  grid-template-columns: 125px auto;\n",
       "}\n",
       "\n",
       ".xr-attrs dt,\n",
       ".xr-attrs dd {\n",
       "  padding: 0;\n",
       "  margin: 0;\n",
       "  float: left;\n",
       "  padding-right: 10px;\n",
       "  width: auto;\n",
       "}\n",
       "\n",
       ".xr-attrs dt {\n",
       "  font-weight: normal;\n",
       "  grid-column: 1;\n",
       "}\n",
       "\n",
       ".xr-attrs dt:hover span {\n",
       "  display: inline-block;\n",
       "  background: var(--xr-background-color);\n",
       "  padding-right: 10px;\n",
       "}\n",
       "\n",
       ".xr-attrs dd {\n",
       "  grid-column: 2;\n",
       "  white-space: pre-wrap;\n",
       "  word-break: break-all;\n",
       "}\n",
       "\n",
       ".xr-icon-database,\n",
       ".xr-icon-file-text2,\n",
       ".xr-no-icon {\n",
       "  display: inline-block;\n",
       "  vertical-align: middle;\n",
       "  width: 1em;\n",
       "  height: 1.5em !important;\n",
       "  stroke-width: 0;\n",
       "  stroke: currentColor;\n",
       "  fill: currentColor;\n",
       "}\n",
       "</style><pre class='xr-text-repr-fallback'>&lt;xarray.Dataset&gt;\n",
       "Dimensions:           (Probe_pulse_freq: 10)\n",
       "Coordinates:\n",
       "  * Probe_pulse_freq  (Probe_pulse_freq) float64 100.0 644.4 ... 4.456e+03 5e+03\n",
       "Data variables:\n",
       "    avg_i             (Probe_pulse_freq) float64 -0.001646 -0.3503 ... 5.726\n",
       "    avg_q             (Probe_pulse_freq) float64 -0.001213 0.4495 ... 42.58\n",
       "Attributes: (12/14)\n",
       "    ds_name:                  results\n",
       "    sample_name:              None\n",
       "    exp_name:                 ZCU_QICK_QCODES_TEST\n",
       "    snapshot:                 {&quot;station&quot;: {&quot;instruments&quot;: {&quot;zcu&quot;: {&quot;functions...\n",
       "    guid:                     aaaaaaaa-0000-0000-0000-018b496eddff\n",
       "    run_timestamp:            2023-10-19 19:34:44\n",
       "    ...                       ...\n",
       "    captured_counter:         15\n",
       "    run_id:                   1500\n",
       "    run_description:          {&quot;version&quot;: 3, &quot;interdependencies&quot;: {&quot;paramspec...\n",
       "    parent_dataset_links:     []\n",
       "    run_timestamp_raw:        1697744084.7081962\n",
       "    completed_timestamp_raw:  1697744084.8455236</pre><div class='xr-wrap' style='display:none'><div class='xr-header'><div class='xr-obj-type'>xarray.Dataset</div></div><ul class='xr-sections'><li class='xr-section-item'><input id='section-6aace68c-7647-413f-9024-92299c8311ed' class='xr-section-summary-in' type='checkbox' disabled ><label for='section-6aace68c-7647-413f-9024-92299c8311ed' class='xr-section-summary'  title='Expand/collapse section'>Dimensions:</label><div class='xr-section-inline-details'><ul class='xr-dim-list'><li><span class='xr-has-index'>Probe_pulse_freq</span>: 10</li></ul></div><div class='xr-section-details'></div></li><li class='xr-section-item'><input id='section-d6b93937-6ade-4659-a4cd-4ad8201e85ed' class='xr-section-summary-in' type='checkbox'  checked><label for='section-d6b93937-6ade-4659-a4cd-4ad8201e85ed' class='xr-section-summary' >Coordinates: <span>(1)</span></label><div class='xr-section-inline-details'></div><div class='xr-section-details'><ul class='xr-var-list'><li class='xr-var-item'><div class='xr-var-name'><span class='xr-has-index'>Probe_pulse_freq</span></div><div class='xr-var-dims'>(Probe_pulse_freq)</div><div class='xr-var-dtype'>float64</div><div class='xr-var-preview xr-preview'>100.0 644.4 ... 4.456e+03 5e+03</div><input id='attrs-c64a7356-4b25-4ce6-9e30-4cd7802fd852' class='xr-var-attrs-in' type='checkbox' ><label for='attrs-c64a7356-4b25-4ce6-9e30-4cd7802fd852' title='Show/Hide attributes'><svg class='icon xr-icon-file-text2'><use xlink:href='#icon-file-text2'></use></svg></label><input id='data-059a2797-dde6-476e-835d-711c9625cbe4' class='xr-var-data-in' type='checkbox'><label for='data-059a2797-dde6-476e-835d-711c9625cbe4' title='Show/Hide data repr'><svg class='icon xr-icon-database'><use xlink:href='#icon-database'></use></svg></label><div class='xr-var-attrs'><dl class='xr-attrs'><dt><span>name :</span></dt><dd>Probe_pulse_freq</dd><dt><span>paramtype :</span></dt><dd>numeric</dd><dt><span>label :</span></dt><dd>NCO frequency</dd><dt><span>unit :</span></dt><dd>MHz</dd><dt><span>inferred_from :</span></dt><dd>[]</dd><dt><span>depends_on :</span></dt><dd>[]</dd><dt><span>units :</span></dt><dd>MHz</dd><dt><span>long_name :</span></dt><dd>NCO frequency</dd></dl></div><div class='xr-var-data'><pre>array([ 100.      ,  644.444444, 1188.888889, 1733.333333, 2277.777778,\n",
       "       2822.222222, 3366.666667, 3911.111111, 4455.555556, 5000.      ])</pre></div></li></ul></div></li><li class='xr-section-item'><input id='section-4f8bf1fa-f70e-42e1-aa9c-68c44dff1899' class='xr-section-summary-in' type='checkbox'  checked><label for='section-4f8bf1fa-f70e-42e1-aa9c-68c44dff1899' class='xr-section-summary' >Data variables: <span>(2)</span></label><div class='xr-section-inline-details'></div><div class='xr-section-details'><ul class='xr-var-list'><li class='xr-var-item'><div class='xr-var-name'><span>avg_i</span></div><div class='xr-var-dims'>(Probe_pulse_freq)</div><div class='xr-var-dtype'>float64</div><div class='xr-var-preview xr-preview'>-0.001646 -0.3503 ... 40.22 5.726</div><input id='attrs-c3ed9368-91b8-4ecb-95cb-89ef182a8758' class='xr-var-attrs-in' type='checkbox' ><label for='attrs-c3ed9368-91b8-4ecb-95cb-89ef182a8758' title='Show/Hide attributes'><svg class='icon xr-icon-file-text2'><use xlink:href='#icon-file-text2'></use></svg></label><input id='data-bbb05772-2b89-4f7b-bf8c-fa1a71eb2e05' class='xr-var-data-in' type='checkbox'><label for='data-bbb05772-2b89-4f7b-bf8c-fa1a71eb2e05' title='Show/Hide data repr'><svg class='icon xr-icon-database'><use xlink:href='#icon-database'></use></svg></label><div class='xr-var-attrs'><dl class='xr-attrs'><dt><span>name :</span></dt><dd>avg_i</dd><dt><span>paramtype :</span></dt><dd>numeric</dd><dt><span>label :</span></dt><dd></dd><dt><span>unit :</span></dt><dd></dd><dt><span>inferred_from :</span></dt><dd>[]</dd><dt><span>depends_on :</span></dt><dd>[&#x27;Probe_pulse_freq&#x27;]</dd><dt><span>units :</span></dt><dd></dd><dt><span>long_name :</span></dt><dd></dd></dl></div><div class='xr-var-data'><pre>array([-1.64550781e-03, -3.50279948e-01, -1.11130859e+00, -5.72878418e+00,\n",
       "        2.59266276e+00,  1.30908203e+01,  3.43956055e+00, -1.75478857e+01,\n",
       "        4.02212126e+01,  5.72644531e+00])</pre></div></li><li class='xr-var-item'><div class='xr-var-name'><span>avg_q</span></div><div class='xr-var-dims'>(Probe_pulse_freq)</div><div class='xr-var-dtype'>float64</div><div class='xr-var-preview xr-preview'>-0.001213 0.4495 ... -52.04 42.58</div><input id='attrs-f8715601-0e31-44fe-9640-56fe8467dc96' class='xr-var-attrs-in' type='checkbox' ><label for='attrs-f8715601-0e31-44fe-9640-56fe8467dc96' title='Show/Hide attributes'><svg class='icon xr-icon-file-text2'><use xlink:href='#icon-file-text2'></use></svg></label><input id='data-4596b19a-dae9-4a12-8a8a-e1d0a4c4beed' class='xr-var-data-in' type='checkbox'><label for='data-4596b19a-dae9-4a12-8a8a-e1d0a4c4beed' title='Show/Hide data repr'><svg class='icon xr-icon-database'><use xlink:href='#icon-database'></use></svg></label><div class='xr-var-attrs'><dl class='xr-attrs'><dt><span>name :</span></dt><dd>avg_q</dd><dt><span>paramtype :</span></dt><dd>numeric</dd><dt><span>label :</span></dt><dd></dd><dt><span>unit :</span></dt><dd></dd><dt><span>inferred_from :</span></dt><dd>[]</dd><dt><span>depends_on :</span></dt><dd>[&#x27;Probe_pulse_freq&#x27;]</dd><dt><span>units :</span></dt><dd></dd><dt><span>long_name :</span></dt><dd></dd></dl></div><div class='xr-var-data'><pre>array([-1.21256510e-03,  4.49544271e-01,  8.38735352e-01, -1.82658691e+00,\n",
       "        9.45959147e+00, -1.76183268e+01, -8.54748617e+01,  7.28269255e+01,\n",
       "       -5.20362679e+01,  4.25794352e+01])</pre></div></li></ul></div></li><li class='xr-section-item'><input id='section-11039ae7-acdc-4a71-96ae-bd1ba15d29b6' class='xr-section-summary-in' type='checkbox'  ><label for='section-11039ae7-acdc-4a71-96ae-bd1ba15d29b6' class='xr-section-summary' >Indexes: <span>(1)</span></label><div class='xr-section-inline-details'></div><div class='xr-section-details'><ul class='xr-var-list'><li class='xr-var-item'><div class='xr-index-name'><div>Probe_pulse_freq</div></div><div class='xr-index-preview'>PandasIndex</div><div></div><input id='index-c142ecc8-e8d2-4cd1-b970-785814541970' class='xr-index-data-in' type='checkbox'/><label for='index-c142ecc8-e8d2-4cd1-b970-785814541970' title='Show/Hide index repr'><svg class='icon xr-icon-database'><use xlink:href='#icon-database'></use></svg></label><div class='xr-index-data'><pre>PandasIndex(Index([           100.0, 644.444444444444, 1188.88888888889, 1733.33333333333,\n",
       "       2277.77777777778, 2822.22222222222, 3366.66666666667, 3911.11111111111,\n",
       "       4455.55555555556,           5000.0],\n",
       "      dtype=&#x27;float64&#x27;, name=&#x27;Probe_pulse_freq&#x27;))</pre></div></li></ul></div></li><li class='xr-section-item'><input id='section-16f95ffc-43fc-4457-b312-5acdd89f7225' class='xr-section-summary-in' type='checkbox'  ><label for='section-16f95ffc-43fc-4457-b312-5acdd89f7225' class='xr-section-summary' >Attributes: <span>(14)</span></label><div class='xr-section-inline-details'></div><div class='xr-section-details'><dl class='xr-attrs'><dt><span>ds_name :</span></dt><dd>results</dd><dt><span>sample_name :</span></dt><dd>None</dd><dt><span>exp_name :</span></dt><dd>ZCU_QICK_QCODES_TEST</dd><dt><span>snapshot :</span></dt><dd>{&quot;station&quot;: {&quot;instruments&quot;: {&quot;zcu&quot;: {&quot;functions&quot;: {}, &quot;submodules&quot;: {}, &quot;parameters&quot;: {&quot;IDN&quot;: {&quot;__class__&quot;: &quot;qcodes.instrument.parameter.Parameter&quot;, &quot;full_name&quot;: &quot;zcu_IDN&quot;, &quot;value&quot;: {&quot;vendor&quot;: null, &quot;model&quot;: &quot;zcu&quot;, &quot;serial&quot;: null, &quot;firmware&quot;: null}, &quot;raw_value&quot;: {&quot;vendor&quot;: null, &quot;model&quot;: &quot;zcu&quot;, &quot;serial&quot;: null, &quot;firmware&quot;: null}, &quot;ts&quot;: &quot;2023-10-19 19:34:44&quot;, &quot;inter_delay&quot;: 0, &quot;unit&quot;: &quot;&quot;, &quot;instrument&quot;: &quot;metainstruments.ZCUMetainstrument.ZCU216Metainstrument&quot;, &quot;instrument_name&quot;: &quot;zcu&quot;, &quot;post_delay&quot;: 0, &quot;label&quot;: &quot;IDN&quot;, &quot;name&quot;: &quot;IDN&quot;, &quot;vals&quot;: &quot;&lt;Anything&gt;&quot;}}, &quot;__class__&quot;: &quot;metainstruments.ZCUMetainstrument.ZCU216Metainstrument&quot;, &quot;name&quot;: &quot;zcu&quot;}, &quot;Probe&quot;: {&quot;functions&quot;: {}, &quot;submodules&quot;: {}, &quot;parameters&quot;: {&quot;IDN&quot;: {&quot;__class__&quot;: &quot;qcodes.instrument.parameter.Parameter&quot;, &quot;full_name&quot;: &quot;Probe_IDN&quot;, &quot;value&quot;: {&quot;vendor&quot;: null, &quot;model&quot;: &quot;Probe&quot;, &quot;serial&quot;: null, &quot;firmware&quot;: null}, &quot;raw_value&quot;: {&quot;vendor&quot;: null, &quot;model&quot;: &quot;Probe&quot;, &quot;serial&quot;: null, &quot;firmware&quot;: null}, &quot;ts&quot;: &quot;2023-10-19 19:34:44&quot;, &quot;inter_delay&quot;: 0, &quot;unit&quot;: &quot;&quot;, &quot;instrument&quot;: &quot;metainstruments.QICKChannel.DACChannel&quot;, &quot;instrument_name&quot;: &quot;Probe&quot;, &quot;post_delay&quot;: 0, &quot;label&quot;: &quot;IDN&quot;, &quot;name&quot;: &quot;IDN&quot;, &quot;vals&quot;: &quot;&lt;Anything&gt;&quot;}, &quot;channel&quot;: {&quot;__class__&quot;: &quot;qcodes.instrument.parameter.ManualParameter&quot;, &quot;full_name&quot;: &quot;Probe_channel&quot;, &quot;value&quot;: 6, &quot;raw_value&quot;: 6, &quot;ts&quot;: &quot;2023-10-19 19:34:44&quot;, &quot;inter_delay&quot;: 0, &quot;unit&quot;: &quot;&quot;, &quot;instrument&quot;: &quot;metainstruments.QICKChannel.DACChannel&quot;, &quot;instrument_name&quot;: &quot;Probe&quot;, &quot;post_delay&quot;: 0, &quot;label&quot;: &quot;Channel number&quot;, &quot;name&quot;: &quot;channel&quot;, &quot;vals&quot;: &quot;&lt;Ints 0&lt;=v&lt;=6&gt;&quot;}, &quot;nqz&quot;: {&quot;__class__&quot;: &quot;qcodes.instrument.parameter.ManualParameter&quot;, &quot;full_name&quot;: &quot;Probe_nqz&quot;, &quot;value&quot;: 1, &quot;raw_value&quot;: 1, &quot;ts&quot;: &quot;2023-10-19 19:34:44&quot;, &quot;inter_delay&quot;: 0, &quot;unit&quot;: &quot;&quot;, &quot;instrument&quot;: &quot;metainstruments.QICKChannel.DACChannel&quot;, &quot;instrument_name&quot;: &quot;Probe&quot;, &quot;post_delay&quot;: 0, &quot;label&quot;: &quot;Nyquist zone&quot;, &quot;name&quot;: &quot;nqz&quot;, &quot;vals&quot;: &quot;&lt;Ints 1&lt;=v&lt;=2&gt;&quot;}, &quot;pulse_gain&quot;: {&quot;__class__&quot;: &quot;qcodes.instrument.parameter.ManualParameter&quot;, &quot;full_name&quot;: &quot;Probe_pulse_gain&quot;, &quot;value&quot;: 5000, &quot;raw_value&quot;: 5000, &quot;ts&quot;: &quot;2023-10-19 19:34:44&quot;, &quot;inter_delay&quot;: 0, &quot;unit&quot;: &quot;DAC units&quot;, &quot;instrument&quot;: &quot;metainstruments.QICKChannel.DACChannel&quot;, &quot;instrument_name&quot;: &quot;Probe&quot;, &quot;post_delay&quot;: 0, &quot;label&quot;: &quot;DAC gain&quot;, &quot;name&quot;: &quot;pulse_gain&quot;, &quot;vals&quot;: &quot;&lt;Numbers 0&lt;=v&lt;=40000&gt;&quot;}, &quot;pulse_freq&quot;: {&quot;__class__&quot;: &quot;qcodes.instrument.parameter.ManualParameter&quot;, &quot;full_name&quot;: &quot;Probe_pulse_freq&quot;, &quot;value&quot;: 500, &quot;raw_value&quot;: 500, &quot;ts&quot;: &quot;2023-10-19 19:34:44&quot;, &quot;inter_delay&quot;: 0, &quot;unit&quot;: &quot;MHz&quot;, &quot;instrument&quot;: &quot;metainstruments.QICKChannel.DACChannel&quot;, &quot;instrument_name&quot;: &quot;Probe&quot;, &quot;post_delay&quot;: 0, &quot;label&quot;: &quot;NCO frequency&quot;, &quot;name&quot;: &quot;pulse_freq&quot;, &quot;vals&quot;: &quot;&lt;Numbers 0&lt;=v&lt;=9000&gt;&quot;}, &quot;pulse_phase&quot;: {&quot;__class__&quot;: &quot;qcodes.instrument.parameter.ManualParameter&quot;, &quot;full_name&quot;: &quot;Probe_pulse_phase&quot;, &quot;value&quot;: 0, &quot;raw_value&quot;: 0, &quot;ts&quot;: &quot;2023-10-19 19:34:44&quot;, &quot;inter_delay&quot;: 0, &quot;unit&quot;: &quot;deg&quot;, &quot;instrument&quot;: &quot;metainstruments.QICKChannel.DACChannel&quot;, &quot;instrument_name&quot;: &quot;Probe&quot;, &quot;post_delay&quot;: 0, &quot;label&quot;: &quot;Pulse phase&quot;, &quot;name&quot;: &quot;pulse_phase&quot;, &quot;vals&quot;: &quot;&lt;Ints 0&lt;=v&lt;=360&gt;&quot;}, &quot;pulse_length&quot;: {&quot;__class__&quot;: &quot;qcodes.instrument.parameter.ManualParameter&quot;, &quot;full_name&quot;: &quot;Probe_pulse_length&quot;, &quot;value&quot;: 10, &quot;raw_value&quot;: 10, &quot;ts&quot;: &quot;2023-10-19 19:34:44&quot;, &quot;inter_delay&quot;: 0, &quot;unit&quot;: &quot;us&quot;, &quot;instrument&quot;: &quot;metainstruments.QICKChannel.DACChannel&quot;, &quot;instrument_name&quot;: &quot;Probe&quot;, &quot;post_delay&quot;: 0, &quot;label&quot;: &quot;Pulse length&quot;, &quot;name&quot;: &quot;pulse_length&quot;, &quot;vals&quot;: &quot;&lt;Numbers 0&lt;=v&lt;=150&gt;&quot;}}, &quot;__class__&quot;: &quot;metainstruments.QICKChannel.DACChannel&quot;, &quot;name&quot;: &quot;Probe&quot;}, &quot;Readout&quot;: {&quot;functions&quot;: {}, &quot;submodules&quot;: {}, &quot;parameters&quot;: {&quot;IDN&quot;: {&quot;__class__&quot;: &quot;qcodes.instrument.parameter.Parameter&quot;, &quot;full_name&quot;: &quot;Readout_IDN&quot;, &quot;value&quot;: {&quot;vendor&quot;: null, &quot;model&quot;: &quot;Readout&quot;, &quot;serial&quot;: null, &quot;firmware&quot;: null}, &quot;raw_value&quot;: {&quot;vendor&quot;: null, &quot;model&quot;: &quot;Readout&quot;, &quot;serial&quot;: null, &quot;firmware&quot;: null}, &quot;ts&quot;: &quot;2023-10-19 19:34:44&quot;, &quot;inter_delay&quot;: 0, &quot;unit&quot;: &quot;&quot;, &quot;instrument&quot;: &quot;metainstruments.QICKChannel.DACChannel&quot;, &quot;instrument_name&quot;: &quot;Readout&quot;, &quot;post_delay&quot;: 0, &quot;label&quot;: &quot;IDN&quot;, &quot;name&quot;: &quot;IDN&quot;, &quot;vals&quot;: &quot;&lt;Anything&gt;&quot;}, &quot;channel&quot;: {&quot;__class__&quot;: &quot;qcodes.instrument.parameter.ManualParameter&quot;, &quot;full_name&quot;: &quot;Readout_channel&quot;, &quot;value&quot;: 4, &quot;raw_value&quot;: 4, &quot;ts&quot;: &quot;2023-10-19 19:34:44&quot;, &quot;inter_delay&quot;: 0, &quot;unit&quot;: &quot;&quot;, &quot;instrument&quot;: &quot;metainstruments.QICKChannel.DACChannel&quot;, &quot;instrument_name&quot;: &quot;Readout&quot;, &quot;post_delay&quot;: 0, &quot;label&quot;: &quot;Channel number&quot;, &quot;name&quot;: &quot;channel&quot;, &quot;vals&quot;: &quot;&lt;Ints 0&lt;=v&lt;=6&gt;&quot;}, &quot;nqz&quot;: {&quot;__class__&quot;: &quot;qcodes.instrument.parameter.ManualParameter&quot;, &quot;full_name&quot;: &quot;Readout_nqz&quot;, &quot;value&quot;: 1, &quot;raw_value&quot;: 1, &quot;ts&quot;: &quot;2023-10-19 19:34:44&quot;, &quot;inter_delay&quot;: 0, &quot;unit&quot;: &quot;&quot;, &quot;instrument&quot;: &quot;metainstruments.QICKChannel.DACChannel&quot;, &quot;instrument_name&quot;: &quot;Readout&quot;, &quot;post_delay&quot;: 0, &quot;label&quot;: &quot;Nyquist zone&quot;, &quot;name&quot;: &quot;nqz&quot;, &quot;vals&quot;: &quot;&lt;Ints 1&lt;=v&lt;=2&gt;&quot;}, &quot;pulse_gain&quot;: {&quot;__class__&quot;: &quot;qcodes.instrument.parameter.ManualParameter&quot;, &quot;full_name&quot;: &quot;Readout_pulse_gain&quot;, &quot;value&quot;: 5000, &quot;raw_value&quot;: 5000, &quot;ts&quot;: &quot;2023-10-19 19:34:44&quot;, &quot;inter_delay&quot;: 0, &quot;unit&quot;: &quot;DAC units&quot;, &quot;instrument&quot;: &quot;metainstruments.QICKChannel.DACChannel&quot;, &quot;instrument_name&quot;: &quot;Readout&quot;, &quot;post_delay&quot;: 0, &quot;label&quot;: &quot;DAC gain&quot;, &quot;name&quot;: &quot;pulse_gain&quot;, &quot;vals&quot;: &quot;&lt;Numbers 0&lt;=v&lt;=40000&gt;&quot;}, &quot;pulse_freq&quot;: {&quot;__class__&quot;: &quot;qcodes.instrument.parameter.ManualParameter&quot;, &quot;full_name&quot;: &quot;Readout_pulse_freq&quot;, &quot;value&quot;: 500, &quot;raw_value&quot;: 500, &quot;ts&quot;: &quot;2023-10-19 19:34:44&quot;, &quot;inter_delay&quot;: 0, &quot;unit&quot;: &quot;MHz&quot;, &quot;instrument&quot;: &quot;metainstruments.QICKChannel.DACChannel&quot;, &quot;instrument_name&quot;: &quot;Readout&quot;, &quot;post_delay&quot;: 0, &quot;label&quot;: &quot;NCO frequency&quot;, &quot;name&quot;: &quot;pulse_freq&quot;, &quot;vals&quot;: &quot;&lt;Numbers 0&lt;=v&lt;=9000&gt;&quot;}, &quot;pulse_phase&quot;: {&quot;__class__&quot;: &quot;qcodes.instrument.parameter.ManualParameter&quot;, &quot;full_name&quot;: &quot;Readout_pulse_phase&quot;, &quot;value&quot;: 0, &quot;raw_value&quot;: 0, &quot;ts&quot;: &quot;2023-10-19 19:34:44&quot;, &quot;inter_delay&quot;: 0, &quot;unit&quot;: &quot;deg&quot;, &quot;instrument&quot;: &quot;metainstruments.QICKChannel.DACChannel&quot;, &quot;instrument_name&quot;: &quot;Readout&quot;, &quot;post_delay&quot;: 0, &quot;label&quot;: &quot;Pulse phase&quot;, &quot;name&quot;: &quot;pulse_phase&quot;, &quot;vals&quot;: &quot;&lt;Ints 0&lt;=v&lt;=360&gt;&quot;}, &quot;pulse_length&quot;: {&quot;__class__&quot;: &quot;qcodes.instrument.parameter.ManualParameter&quot;, &quot;full_name&quot;: &quot;Readout_pulse_length&quot;, &quot;value&quot;: 10, &quot;raw_value&quot;: 10, &quot;ts&quot;: &quot;2023-10-19 19:34:44&quot;, &quot;inter_delay&quot;: 0, &quot;unit&quot;: &quot;us&quot;, &quot;instrument&quot;: &quot;metainstruments.QICKChannel.DACChannel&quot;, &quot;instrument_name&quot;: &quot;Readout&quot;, &quot;post_delay&quot;: 0, &quot;label&quot;: &quot;Pulse length&quot;, &quot;name&quot;: &quot;pulse_length&quot;, &quot;vals&quot;: &quot;&lt;Numbers 0&lt;=v&lt;=150&gt;&quot;}}, &quot;__class__&quot;: &quot;metainstruments.QICKChannel.DACChannel&quot;, &quot;name&quot;: &quot;Readout&quot;}, &quot;ADC&quot;: {&quot;functions&quot;: {}, &quot;submodules&quot;: {}, &quot;parameters&quot;: {&quot;IDN&quot;: {&quot;__class__&quot;: &quot;qcodes.instrument.parameter.Parameter&quot;, &quot;full_name&quot;: &quot;ADC_IDN&quot;, &quot;value&quot;: {&quot;vendor&quot;: null, &quot;model&quot;: &quot;ADC&quot;, &quot;serial&quot;: null, &quot;firmware&quot;: null}, &quot;raw_value&quot;: {&quot;vendor&quot;: null, &quot;model&quot;: &quot;ADC&quot;, &quot;serial&quot;: null, &quot;firmware&quot;: null}, &quot;ts&quot;: &quot;2023-10-19 19:34:44&quot;, &quot;inter_delay&quot;: 0, &quot;unit&quot;: &quot;&quot;, &quot;instrument&quot;: &quot;metainstruments.QICKChannel.ADCChannel&quot;, &quot;instrument_name&quot;: &quot;ADC&quot;, &quot;post_delay&quot;: 0, &quot;label&quot;: &quot;IDN&quot;, &quot;name&quot;: &quot;IDN&quot;, &quot;vals&quot;: &quot;&lt;Anything&gt;&quot;}, &quot;channel&quot;: {&quot;__class__&quot;: &quot;qcodes.instrument.parameter.ManualParameter&quot;, &quot;full_name&quot;: &quot;ADC_channel&quot;, &quot;value&quot;: 0, &quot;raw_value&quot;: 0, &quot;ts&quot;: &quot;2023-10-19 19:34:44&quot;, &quot;inter_delay&quot;: 0, &quot;unit&quot;: &quot;&quot;, &quot;instrument&quot;: &quot;metainstruments.QICKChannel.ADCChannel&quot;, &quot;instrument_name&quot;: &quot;ADC&quot;, &quot;post_delay&quot;: 0, &quot;label&quot;: &quot;Channel number&quot;, &quot;name&quot;: &quot;channel&quot;, &quot;vals&quot;: &quot;&lt;Ints 0&lt;=v&lt;=1&gt;&quot;}}, &quot;__class__&quot;: &quot;metainstruments.QICKChannel.ADCChannel&quot;, &quot;name&quot;: &quot;ADC&quot;}, &quot;vna&quot;: {&quot;functions&quot;: {}, &quot;submodules&quot;: {}, &quot;parameters&quot;: {&quot;IDN&quot;: {&quot;__class__&quot;: &quot;qcodes.instrument.parameter.Parameter&quot;, &quot;full_name&quot;: &quot;vna_IDN&quot;, &quot;value&quot;: {&quot;vendor&quot;: null, &quot;model&quot;: &quot;vna&quot;, &quot;serial&quot;: null, &quot;firmware&quot;: null}, &quot;raw_value&quot;: {&quot;vendor&quot;: null, &quot;model&quot;: &quot;vna&quot;, &quot;serial&quot;: null, &quot;firmware&quot;: null}, &quot;ts&quot;: &quot;2023-10-19 19:34:44&quot;, &quot;inter_delay&quot;: 0, &quot;unit&quot;: &quot;&quot;, &quot;instrument&quot;: &quot;measurements.NDSweepProtocol.NDSweepProtocol&quot;, &quot;instrument_name&quot;: &quot;vna&quot;, &quot;post_delay&quot;: 0, &quot;label&quot;: &quot;IDN&quot;, &quot;name&quot;: &quot;IDN&quot;, &quot;vals&quot;: &quot;&lt;Anything&gt;&quot;}, &quot;adc_trig_offset&quot;: {&quot;__class__&quot;: &quot;qcodes.instrument.parameter.ManualParameter&quot;, &quot;full_name&quot;: &quot;vna_adc_trig_offset&quot;, &quot;value&quot;: 100, &quot;raw_value&quot;: 100, &quot;ts&quot;: &quot;2023-10-19 19:34:44&quot;, &quot;inter_delay&quot;: 0, &quot;unit&quot;: &quot;Clock ticks&quot;, &quot;instrument&quot;: &quot;measurements.NDSweepProtocol.NDSweepProtocol&quot;, &quot;instrument_name&quot;: &quot;vna&quot;, &quot;post_delay&quot;: 0, &quot;label&quot;: &quot;Delay between sending probe pulse and ADC initialization&quot;, &quot;name&quot;: &quot;adc_trig_offset&quot;, &quot;vals&quot;: &quot;&lt;Ints 0&lt;=v&lt;=100000&gt;&quot;}, &quot;relax_delay&quot;: {&quot;__class__&quot;: &quot;qcodes.instrument.parameter.ManualParameter&quot;, &quot;full_name&quot;: &quot;vna_relax_delay&quot;, &quot;value&quot;: 0.1, &quot;raw_value&quot;: 0.1, &quot;ts&quot;: &quot;2023-10-19 19:34:44&quot;, &quot;inter_delay&quot;: 0, &quot;unit&quot;: &quot;us&quot;, &quot;instrument&quot;: &quot;measurements.NDSweepProtocol.NDSweepProtocol&quot;, &quot;instrument_name&quot;: &quot;vna&quot;, &quot;post_delay&quot;: 0, &quot;label&quot;: &quot;Delay between reps&quot;, &quot;name&quot;: &quot;relax_delay&quot;, &quot;vals&quot;: &quot;&lt;Numbers 0&lt;=v&lt;=100000&gt;&quot;}, &quot;readout_length&quot;: {&quot;__class__&quot;: &quot;qcodes.instrument.parameter.ManualParameter&quot;, &quot;full_name&quot;: &quot;vna_readout_length&quot;, &quot;value&quot;: 5, &quot;raw_value&quot;: 5, &quot;ts&quot;: &quot;2023-10-19 19:34:44&quot;, &quot;inter_delay&quot;: 0, &quot;unit&quot;: &quot;us&quot;, &quot;instrument&quot;: &quot;measurements.NDSweepProtocol.NDSweepProtocol&quot;, &quot;instrument_name&quot;: &quot;vna&quot;, &quot;post_delay&quot;: 0, &quot;label&quot;: &quot;Lenght of the readout&quot;, &quot;name&quot;: &quot;readout_length&quot;, &quot;vals&quot;: &quot;&lt;Numbers 0&lt;=v&lt;=150&gt;&quot;}, &quot;reps&quot;: {&quot;__class__&quot;: &quot;qcodes.instrument.parameter.ManualParameter&quot;, &quot;full_name&quot;: &quot;vna_reps&quot;, &quot;value&quot;: 400, &quot;raw_value&quot;: 400, &quot;ts&quot;: &quot;2023-10-19 19:34:44&quot;, &quot;inter_delay&quot;: 0, &quot;unit&quot;: &quot;&quot;, &quot;instrument&quot;: &quot;measurements.NDSweepProtocol.NDSweepProtocol&quot;, &quot;instrument_name&quot;: &quot;vna&quot;, &quot;post_delay&quot;: 0, &quot;label&quot;: &quot;Measurement repetitions&quot;, &quot;name&quot;: &quot;reps&quot;, &quot;vals&quot;: &quot;&lt;Ints 0&lt;=v&lt;=5000&gt;&quot;}}, &quot;__class__&quot;: &quot;measurements.NDSweepProtocol.NDSweepProtocol&quot;, &quot;name&quot;: &quot;vna&quot;}}, &quot;parameters&quot;: {}, &quot;components&quot;: {}, &quot;config&quot;: null}}</dd><dt><span>guid :</span></dt><dd>aaaaaaaa-0000-0000-0000-018b496eddff</dd><dt><span>run_timestamp :</span></dt><dd>2023-10-19 19:34:44</dd><dt><span>completed_timestamp :</span></dt><dd>2023-10-19 19:34:44</dd><dt><span>captured_run_id :</span></dt><dd>1500</dd><dt><span>captured_counter :</span></dt><dd>15</dd><dt><span>run_id :</span></dt><dd>1500</dd><dt><span>run_description :</span></dt><dd>{&quot;version&quot;: 3, &quot;interdependencies&quot;: {&quot;paramspecs&quot;: [{&quot;name&quot;: &quot;Probe_pulse_freq&quot;, &quot;paramtype&quot;: &quot;numeric&quot;, &quot;label&quot;: &quot;NCO frequency&quot;, &quot;unit&quot;: &quot;MHz&quot;, &quot;inferred_from&quot;: [], &quot;depends_on&quot;: []}, {&quot;name&quot;: &quot;avg_i&quot;, &quot;paramtype&quot;: &quot;numeric&quot;, &quot;label&quot;: &quot;&quot;, &quot;unit&quot;: &quot;&quot;, &quot;inferred_from&quot;: [], &quot;depends_on&quot;: [&quot;Probe_pulse_freq&quot;]}, {&quot;name&quot;: &quot;avg_q&quot;, &quot;paramtype&quot;: &quot;numeric&quot;, &quot;label&quot;: &quot;&quot;, &quot;unit&quot;: &quot;&quot;, &quot;inferred_from&quot;: [], &quot;depends_on&quot;: [&quot;Probe_pulse_freq&quot;]}]}, &quot;interdependencies_&quot;: {&quot;parameters&quot;: {&quot;avg_i&quot;: {&quot;name&quot;: &quot;avg_i&quot;, &quot;paramtype&quot;: &quot;numeric&quot;, &quot;label&quot;: &quot;&quot;, &quot;unit&quot;: &quot;&quot;}, &quot;Probe_pulse_freq&quot;: {&quot;name&quot;: &quot;Probe_pulse_freq&quot;, &quot;paramtype&quot;: &quot;numeric&quot;, &quot;label&quot;: &quot;NCO frequency&quot;, &quot;unit&quot;: &quot;MHz&quot;}, &quot;avg_q&quot;: {&quot;name&quot;: &quot;avg_q&quot;, &quot;paramtype&quot;: &quot;numeric&quot;, &quot;label&quot;: &quot;&quot;, &quot;unit&quot;: &quot;&quot;}}, &quot;dependencies&quot;: {&quot;avg_i&quot;: [&quot;Probe_pulse_freq&quot;], &quot;avg_q&quot;: [&quot;Probe_pulse_freq&quot;]}, &quot;inferences&quot;: {}, &quot;standalones&quot;: []}, &quot;shapes&quot;: null}</dd><dt><span>parent_dataset_links :</span></dt><dd>[]</dd><dt><span>run_timestamp_raw :</span></dt><dd>1697744084.7081962</dd><dt><span>completed_timestamp_raw :</span></dt><dd>1697744084.8455236</dd></dl></div></li></ul></div></div>"
      ],
      "text/plain": [
       "<xarray.Dataset>\n",
       "Dimensions:           (Probe_pulse_freq: 10)\n",
       "Coordinates:\n",
       "  * Probe_pulse_freq  (Probe_pulse_freq) float64 100.0 644.4 ... 4.456e+03 5e+03\n",
       "Data variables:\n",
       "    avg_i             (Probe_pulse_freq) float64 -0.001646 -0.3503 ... 5.726\n",
       "    avg_q             (Probe_pulse_freq) float64 -0.001213 0.4495 ... 42.58\n",
       "Attributes: (12/14)\n",
       "    ds_name:                  results\n",
       "    sample_name:              None\n",
       "    exp_name:                 ZCU_QICK_QCODES_TEST\n",
       "    snapshot:                 {\"station\": {\"instruments\": {\"zcu\": {\"functions...\n",
       "    guid:                     aaaaaaaa-0000-0000-0000-018b496eddff\n",
       "    run_timestamp:            2023-10-19 19:34:44\n",
       "    ...                       ...\n",
       "    captured_counter:         15\n",
       "    run_id:                   1500\n",
       "    run_description:          {\"version\": 3, \"interdependencies\": {\"paramspec...\n",
       "    parent_dataset_links:     []\n",
       "    run_timestamp_raw:        1697744084.7081962\n",
       "    completed_timestamp_raw:  1697744084.8455236"
      ]
     },
     "execution_count": 11,
     "metadata": {},
     "output_type": "execute_result"
    }
   ],
   "source": [
    "dataset = qc.load_by_id(vna_run_id).to_xarray_dataset()\n",
    "dataset"
   ]
  },
  {
   "cell_type": "markdown",
   "id": "33955923",
   "metadata": {},
   "source": [
    "## Example, finding the resonant frequency of the cavity"
   ]
  },
  {
   "cell_type": "code",
   "execution_count": 12,
   "id": "fbad2c87",
   "metadata": {},
   "outputs": [
    {
     "name": "stdout",
     "output_type": "stream",
     "text": [
      "Station configuration:\n",
      "\n",
      "\n",
      "zcu:\n",
      "\tparameter value\n",
      "--------------------------------------------------------------------------------\n",
      "IDN :\t{'vendor': None, 'model': 'zcu', 'serial': None, 'firmware': None} \n",
      "\n",
      "Probe:\n",
      "\tparameter   value\n",
      "--------------------------------------------------------------------------------\n",
      "IDN          :\t{'vendor': None, 'model': 'Probe', 'serial': None, 'firmware':...\n",
      "channel      :\t6 \n",
      "nqz          :\t2 \n",
      "pulse_freq   :\t500 (MHz)\n",
      "pulse_gain   :\t10000 (DAC units)\n",
      "pulse_length :\t1 (us)\n",
      "pulse_phase  :\t0 (deg)\n",
      "\n",
      "Readout:\n",
      "\tparameter   value\n",
      "--------------------------------------------------------------------------------\n",
      "IDN          :\t{'vendor': None, 'model': 'Readout', 'serial': None, 'firmware...\n",
      "channel      :\t4 \n",
      "nqz          :\t1 \n",
      "pulse_freq   :\t500 (MHz)\n",
      "pulse_gain   :\t5000 (DAC units)\n",
      "pulse_length :\t10 (us)\n",
      "pulse_phase  :\t0 (deg)\n",
      "\n",
      "ADC:\n",
      "\tparameter value\n",
      "--------------------------------------------------------------------------------\n",
      "IDN     :\t{'vendor': None, 'model': 'ADC', 'serial': None, 'firmware': None} \n",
      "channel :\t0 \n",
      "\n",
      "vna:\n",
      "\tparameter      value\n",
      "--------------------------------------------------------------------------------\n",
      "IDN             :\t{'vendor': None, 'model': 'vna', 'serial': None, 'firmware'...\n",
      "adc_trig_offset :\t100 (Clock ticks)\n",
      "readout_length  :\t1.5 (us)\n",
      "relax_delay     :\t0.1 (us)\n",
      "reps            :\t500 \n",
      "\n"
     ]
    }
   ],
   "source": [
    "station.Probe.pulse_gain(10000)\n",
    "station.Probe.nqz(2)\n",
    "station.vna.readout_length(1.5)\n",
    "station.Probe.pulse_length(1)\n",
    "station.vna.reps(500)\n",
    "station.print_configuration()"
   ]
  },
  {
   "cell_type": "code",
   "execution_count": 27,
   "id": "516d7e3f",
   "metadata": {},
   "outputs": [
    {
     "name": "stdout",
     "output_type": "stream",
     "text": [
      "Starting experimental run with id: 1489. \n"
     ]
    }
   ],
   "source": [
    "vna_run_id = station.measure_iq(params_and_values = {  station.Probe.pulse_freq: [100, 8000, 10000]}, \n",
    "                         protocol = station.vna, \n",
    "                         dac_channels = {'probe': station.Probe},\n",
    "                         adc_channels = {'adc' : station.ADC},\n",
    "                         experiment = experiment)"
   ]
  },
  {
   "cell_type": "code",
   "execution_count": 15,
   "id": "4271f52d",
   "metadata": {},
   "outputs": [],
   "source": [
    "# Helper function\n",
    "def oneD_plot_amplitude(dataset):\n",
    "    for coordinate in dataset.coords:\n",
    "        plt.plot(dataset[coordinate], abs(dataset.avg_q +1j*dataset.avg_i) )\n",
    "        plt.ylabel('Amplitude')\n",
    "        plt.xlabel(dataset.coords[coordinate].long_name + f' ({dataset.coords[coordinate].unit})')\n",
    "    pass"
   ]
  },
  {
   "cell_type": "markdown",
   "id": "7793808d",
   "metadata": {},
   "source": [
    "### Without cavity"
   ]
  },
  {
   "cell_type": "code",
   "execution_count": 24,
   "id": "690331c2",
   "metadata": {},
   "outputs": [
    {
     "data": {
      "image/png": "[encoded data removed]",
      "text/plain": [
       "<Figure size 432x288 with 1 Axes>"
      ]
     },
     "metadata": {
      "needs_background": "light"
     },
     "output_type": "display_data"
    }
   ],
   "source": [
    "#Looks this way since we are in the 5-6ghz block\n",
    "oneD_plot_amplitude(qc.load_by_id(1489).to_xarray_dataset())"
   ]
  },
  {
   "cell_type": "markdown",
   "id": "8ed7e653",
   "metadata": {},
   "source": [
    "### With cavity"
   ]
  },
  {
   "cell_type": "code",
   "execution_count": 25,
   "id": "4cca9df2",
   "metadata": {},
   "outputs": [
    {
     "name": "stdout",
     "output_type": "stream",
     "text": [
      "Starting experimental run with id: 1497. \n"
     ]
    }
   ],
   "source": [
    "vna_run_id = station.measure_iq(params_and_values = {  station.Probe.pulse_freq: [100, 8000, 1000]}, \n",
    "                         protocol = station.vna, \n",
    "                         dac_channels = {'probe': station.Probe},\n",
    "                         adc_channels = {'adc' : station.ADC},\n",
    "                         experiment = experiment)"
   ]
  },
  {
   "cell_type": "code",
   "execution_count": 29,
   "id": "b1e7f55c",
   "metadata": {},
   "outputs": [
    {
     "data": {
      "image/png": "[encoded data removed]",
      "text/plain": [
       "<Figure size 432x288 with 1 Axes>"
      ]
     },
     "metadata": {
      "needs_background": "light"
     },
     "output_type": "display_data"
    }
   ],
   "source": [
    "oneD_plot_amplitude(qc.load_by_id(1494).to_xarray_dataset())"
   ]
  },
  {
   "cell_type": "markdown",
   "id": "93cae1fe",
   "metadata": {},
   "source": [
    "### Some strange resonance around 6.1 GHz, but the resonant frequency should be the peak not found in the previous measurement. Taking a closer look"
   ]
  },
  {
   "cell_type": "code",
   "execution_count": 30,
   "id": "3eba6f18",
   "metadata": {},
   "outputs": [
    {
     "name": "stdout",
     "output_type": "stream",
     "text": [
      "Starting experimental run with id: 1498. \n"
     ]
    }
   ],
   "source": [
    "vna_run_id = station.measure_iq(params_and_values = {  station.Probe.pulse_freq: [5500, 6000, 1000]}, \n",
    "                         protocol = station.vna, \n",
    "                         dac_channels = {'probe': station.Probe},\n",
    "                         adc_channels = {'adc' : station.ADC},\n",
    "                         experiment = experiment)"
   ]
  },
  {
   "cell_type": "code",
   "execution_count": 32,
   "id": "3e5a892d",
   "metadata": {},
   "outputs": [
    {
     "data": {
      "image/png": "[encoded data removed]",
      "text/plain": [
       "<Figure size 432x288 with 1 Axes>"
      ]
     },
     "metadata": {
      "needs_background": "light"
     },
     "output_type": "display_data"
    }
   ],
   "source": [
    "oneD_plot_amplitude(qc.load_by_id(vna_run_id).to_xarray_dataset())"
   ]
  },
  {
   "cell_type": "code",
   "execution_count": 19,
   "id": "54d1f151",
   "metadata": {},
   "outputs": [
    {
     "name": "stdout",
     "output_type": "stream",
     "text": [
      "Starting experimental run with id: 1503. \n"
     ]
    }
   ],
   "source": [
    "vna_run_id = station.measure_iq(params_and_values = {  station.Probe.pulse_freq: [5810, 5825, 1000]}, \n",
    "                         protocol = station.vna, \n",
    "                         dac_channels = {'probe': station.Probe},\n",
    "                         adc_channels = {'adc' : station.ADC},\n",
    "                         experiment = experiment)"
   ]
  },
  {
   "cell_type": "code",
   "execution_count": 20,
   "id": "4ea74b49",
   "metadata": {},
   "outputs": [
    {
     "data": {
      "image/png": "[encoded data removed]",
      "text/plain": [
       "<Figure size 432x288 with 1 Axes>"
      ]
     },
     "metadata": {
      "needs_background": "light"
     },
     "output_type": "display_data"
    }
   ],
   "source": [
    "oneD_plot_amplitude(qc.load_by_id(vna_run_id).to_xarray_dataset())"
   ]
  },
  {
   "cell_type": "markdown",
   "id": "5af7559a",
   "metadata": {},
   "source": [
    "## So the resonant frequency is around 5816.5 MHz"
   ]
  }
 ],
 "metadata": {
  "kernelspec": {
   "display_name": "Python 3",
   "language": "python",
   "name": "python3"
  },
  "language_info": {
   "codemirror_mode": {
    "name": "ipython",
    "version": 3
   },
   "file_extension": ".py",
   "mimetype": "text/x-python",
   "name": "python",
   "nbconvert_exporter": "python",
   "pygments_lexer": "ipython3",
   "version": "3.8.2"
  }
 },
 "nbformat": 4,
 "nbformat_minor": 5
}
