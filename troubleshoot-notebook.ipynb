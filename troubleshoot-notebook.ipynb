{
 "cells": [
  {
   "cell_type": "markdown",
   "id": "c760f156",
   "metadata": {},
   "source": [
    "# Showcasing the qick-qcodes software "
   ]
  },
  {
   "cell_type": "markdown",
   "id": "ba3a07fd",
   "metadata": {},
   "source": [
    "## Helper functions"
   ]
  },
  {
   "cell_type": "code",
   "execution_count": 2,
   "id": "9b1005fd",
   "metadata": {},
   "outputs": [
    {
     "name": "stdout",
     "output_type": "stream",
     "text": [
      "The autoreload extension is already loaded. To reload it, use:\n",
      "  %reload_ext autoreload\n"
     ]
    }
   ],
   "source": [
    "%matplotlib widget\n",
    "\n",
    "%load_ext autoreload\n",
    "%autoreload 1\n",
    "%aimport metainstruments.ZCUStation"
   ]
  },
  {
   "cell_type": "markdown",
   "id": "c64a3adf",
   "metadata": {},
   "source": [
    "## Initializing the station and the experiment"
   ]
  },
  {
   "cell_type": "code",
   "execution_count": 4,
   "id": "de144f35",
   "metadata": {},
   "outputs": [],
   "source": [
    "import qcodes as qc\n",
    "from qcodes.instrument import Instrument, ManualParameter\n",
    "from qcodes.station import Station\n",
    "\n",
    "from metainstruments.ZCUStation import ZCU216Station\n",
    "from metainstruments.ZCUMetainstrument import ZCU216Metainstrument\n",
    "from measurements.Protocols import Protocol\n",
    "from measurements.T1Protocol import T1Protocol\n",
    "from measurements.PulseProbeSpectroscopyProtocol import PulseProbeSpectroscopyProtocol\n",
    "from measurements.NDSweepProtocol import NDSweepProtocol\n",
    "from qick import *\n",
    "\n",
    "import xarray as xr\n",
    "\n",
    "import numpy as np\n",
    "import matplotlib.pyplot as plt"
   ]
  },
  {
   "cell_type": "code",
   "execution_count": 5,
   "id": "fa64a93b",
   "metadata": {},
   "outputs": [
    {
     "name": "stderr",
     "output_type": "stream",
     "text": [
      "QICK library version mismatch: 0.2.211 remote (the board), 0.2.224 local (the PC)\n",
      "                        This may cause errors, usually KeyError in QickConfig initialization.\n",
      "                        If this happens, you must bring your versions in sync.\n"
     ]
    },
    {
     "name": "stdout",
     "output_type": "stream",
     "text": [
      "Pyro.NameServer PYRO:Pyro.NameServer@0.0.0.0:8888\n",
      "myqick PYRO:obj_e8ac0003070944599fd9b788ae91b13f@10.0.100.16:39317\n"
     ]
    }
   ],
   "source": [
    "#Initializing the station and the database\n",
    "qc.initialise_or_create_database_at(\"../experiment-data/BF4-CD2.db\")\n",
    "station = ZCU216Station()"
   ]
  },
  {
   "cell_type": "code",
   "execution_count": 6,
   "id": "e990e934",
   "metadata": {},
   "outputs": [],
   "source": [
    "#Initializing the experiment\n",
    "experiment = qc.load_or_create_experiment(\n",
    "                experiment_name=\"BF4-CD2\",\n",
    "                sample_name=\"Cavity-20\")"
   ]
  },
  {
   "cell_type": "markdown",
   "id": "c06592dd",
   "metadata": {},
   "source": [
    "## Adding QICK Channels"
   ]
  },
  {
   "cell_type": "code",
   "execution_count": 5,
   "id": "40145fb9",
   "metadata": {},
   "outputs": [
    {
     "name": "stdout",
     "output_type": "stream",
     "text": [
      "\n",
      "QICK configuration:\n",
      "\n",
      "\tBoard: ZCU216\n",
      "\n",
      "\tSoftware version: 0.2.211\n",
      "\tFirmware timestamp: Mon Aug 21 11:09:34 2023\n",
      "\n",
      "\tGlobal clocks (MHz): tProcessor 430.080, RF reference 245.760\n",
      "\n",
      "\t7 signal generator channels:\n",
      "\t0:\taxis_signal_gen_v6 - envelope memory 65536 samples (9.524 us)\n",
      "\t\tfs=6881.280 MHz, fabric=430.080 MHz, 32-bit DDS, range=6881.280 MHz\n",
      "\t\tDAC tile 2, blk 0 is 0_230, on JHC3\n",
      "\t1:\taxis_signal_gen_v6 - envelope memory 65536 samples (9.524 us)\n",
      "\t\tfs=6881.280 MHz, fabric=430.080 MHz, 32-bit DDS, range=6881.280 MHz\n",
      "\t\tDAC tile 2, blk 1 is 1_230, on JHC4\n",
      "\t2:\taxis_signal_gen_v6 - envelope memory 65536 samples (9.524 us)\n",
      "\t\tfs=6881.280 MHz, fabric=430.080 MHz, 32-bit DDS, range=6881.280 MHz\n",
      "\t\tDAC tile 2, blk 2 is 2_230, on JHC3\n",
      "\t3:\taxis_signal_gen_v6 - envelope memory 65536 samples (9.524 us)\n",
      "\t\tfs=6881.280 MHz, fabric=430.080 MHz, 32-bit DDS, range=6881.280 MHz\n",
      "\t\tDAC tile 2, blk 3 is 3_230, on JHC4\n",
      "\t4:\taxis_signal_gen_v6 - envelope memory 65536 samples (9.524 us)\n",
      "\t\tfs=6881.280 MHz, fabric=430.080 MHz, 32-bit DDS, range=6881.280 MHz\n",
      "\t\tDAC tile 3, blk 0 is 0_231, on JHC3\n",
      "\t5:\taxis_signal_gen_v6 - envelope memory 65536 samples (9.524 us)\n",
      "\t\tfs=6881.280 MHz, fabric=430.080 MHz, 32-bit DDS, range=6881.280 MHz\n",
      "\t\tDAC tile 3, blk 1 is 1_231, on JHC4\n",
      "\t6:\taxis_signal_gen_v6 - envelope memory 65536 samples (9.524 us)\n",
      "\t\tfs=6881.280 MHz, fabric=430.080 MHz, 32-bit DDS, range=6881.280 MHz\n",
      "\t\tDAC tile 3, blk 2 is 2_231, on JHC3\n",
      "\n",
      "\t2 readout channels:\n",
      "\t0:\taxis_readout_v2 - controlled by PYNQ\n",
      "\t\tfs=2457.600 MHz, fabric=307.200 MHz, 32-bit DDS, range=2457.600 MHz\n",
      "\t\tmaxlen 16384 accumulated, 1024 decimated (3.333 us)\n",
      "\t\ttriggered by output 0, pin 14, feedback to tProc input 0\n",
      "\t\tADC tile 2, blk 0 is 0_226, on JHC7\n",
      "\t1:\taxis_readout_v2 - controlled by PYNQ\n",
      "\t\tfs=2457.600 MHz, fabric=307.200 MHz, 32-bit DDS, range=2457.600 MHz\n",
      "\t\tmaxlen 16384 accumulated, 1024 decimated (3.333 us)\n",
      "\t\ttriggered by output 0, pin 15, feedback to tProc input 1\n",
      "\t\tADC tile 2, blk 2 is 2_226, on JHC7\n",
      "\n",
      "\t8 digital output pins:\n",
      "\t0:\tPMOD0_0_LS\n",
      "\t1:\tPMOD0_1_LS\n",
      "\t2:\tPMOD0_2_LS\n",
      "\t3:\tPMOD0_3_LS\n",
      "\t4:\tPMOD0_4_LS\n",
      "\t5:\tPMOD0_5_LS\n",
      "\t6:\tPMOD0_6_LS\n",
      "\t7:\tPMOD0_7_LS\n",
      "\n",
      "\ttProc axis_tproc64x32_x8: program memory 8192 words, data memory 4096 words\n",
      "\t\texternal start pin: PMOD1_0_LS\n",
      "\n",
      "\tDDR4 memory buffer: 1073741824 samples (3.495 sec), 128 samples/transfer\n",
      "\t\twired to readouts [0, 1]\n",
      "\n",
      "\tMR buffer: 8192 samples (3.333 us), wired to readouts [0, 1]\n"
     ]
    }
   ],
   "source": [
    "# The following command can be used to configure to see what qick channel corresponds to what physical port\n",
    "print(station.troubleshoot())"
   ]
  },
  {
   "cell_type": "code",
   "execution_count": 7,
   "id": "cdb7b332",
   "metadata": {},
   "outputs": [],
   "source": [
    "#At the time of writing, we have connected DACs 2_231 and 0_231 to the adc's and oscilloscopes, these have  \n",
    "#qick channels 6 and 4. The physically connected ADC channel is 0_226. Thus, our configuration will be:\n",
    "station.add_DAC_channel(name=\"Qubit\", channel=6)\n",
    "station.add_DAC_channel(name=\"Readout\", channel=0)\n",
    "station.add_ADC_channel(name=\"ADC\", channel=0)"
   ]
  },
  {
   "cell_type": "markdown",
   "id": "762451d0",
   "metadata": {},
   "source": [
    "## VNA program"
   ]
  },
  {
   "cell_type": "markdown",
   "id": "845b7a8f",
   "metadata": {},
   "source": [
    "The vna program, handled by the NDSweepProtocol, sends a pulse from the 'probe' dac channel and triggers the 'adc' adc channel. The attributes of the sent pulse are contained in the parameters of the 'probe' dac channel, and the readout settings are contained in the protocol parameters."
   ]
  },
  {
   "cell_type": "code",
   "execution_count": 8,
   "id": "8bd03aef",
   "metadata": {},
   "outputs": [],
   "source": [
    "# Initialization of the protocol\n",
    "vnaprotocol = station.add_protocol(NDSweepProtocol(name='vna'))"
   ]
  },
  {
   "cell_type": "code",
   "execution_count": 9,
   "id": "580727e4",
   "metadata": {},
   "outputs": [
    {
     "name": "stdout",
     "output_type": "stream",
     "text": [
      "vna:\n",
      "\tparameter      value\n",
      "--------------------------------------------------------------------------------\n",
      "adc_trig_offset :\t100 (Clock ticks)\n",
      "readout_length  :\t5 (us)\n",
      "relax_delay     :\t0.1 (us)\n",
      "reps            :\t400 \n"
     ]
    }
   ],
   "source": [
    "station.vna.print_readable_snapshot()"
   ]
  },
  {
   "cell_type": "code",
   "execution_count": 10,
   "id": "0c6d9588",
   "metadata": {},
   "outputs": [
    {
     "name": "stdout",
     "output_type": "stream",
     "text": [
      "Qubit:\n",
      "\tparameter   value\n",
      "--------------------------------------------------------------------------------\n",
      "channel      :\t6 \n",
      "nqz          :\t1 \n",
      "pulse_freq   :\t500 (MHz)\n",
      "pulse_gain   :\t5000 (DAC units)\n",
      "pulse_length :\t10 (us)\n",
      "pulse_phase  :\t0 (deg)\n"
     ]
    }
   ],
   "source": [
    "station.Qubit.print_readable_snapshot()"
   ]
  },
  {
   "cell_type": "code",
   "execution_count": 11,
   "id": "055d1893",
   "metadata": {},
   "outputs": [
    {
     "name": "stdout",
     "output_type": "stream",
     "text": [
      "ADC:\n",
      "\tparameter value\n",
      "--------------------------------------------------------------------------------\n",
      "channel :\t0 \n"
     ]
    }
   ],
   "source": [
    "station.ADC.print_readable_snapshot()"
   ]
  },
  {
   "cell_type": "code",
   "execution_count": 12,
   "id": "6ff682f6",
   "metadata": {},
   "outputs": [
    {
     "name": "stdout",
     "output_type": "stream",
     "text": [
      "Qubit:\n",
      "\tparameter   value\n",
      "--------------------------------------------------------------------------------\n",
      "channel      :\t6 \n",
      "nqz          :\t2 \n",
      "pulse_freq   :\t4800 (MHz)\n",
      "pulse_gain   :\t10000 (DAC units)\n",
      "pulse_length :\t1 (us)\n",
      "pulse_phase  :\t0 (deg)\n"
     ]
    }
   ],
   "source": [
    "station.Qubit.pulse_gain(10000)\n",
    "station.Qubit.pulse_length(1)\n",
    "station.Qubit.pulse_freq(4800)\n",
    "station.Qubit.nqz(2)\n",
    "\n",
    "station.Qubit.print_readable_snapshot()"
   ]
  },
  {
   "cell_type": "code",
   "execution_count": 13,
   "id": "f1344026",
   "metadata": {},
   "outputs": [
    {
     "name": "stdout",
     "output_type": "stream",
     "text": [
      "vna:\n",
      "\tparameter      value\n",
      "--------------------------------------------------------------------------------\n",
      "adc_trig_offset :\t122 (Clock ticks)\n",
      "readout_length  :\t10 (us)\n",
      "relax_delay     :\t2 (us)\n",
      "reps            :\t500 \n"
     ]
    }
   ],
   "source": [
    "station.vna.reps(500)\n",
    "station.vna.relax_delay(2)\n",
    "station.vna.readout_length(10)\n",
    "station.vna.adc_trig_offset(122)\n",
    "\n",
    "station.vna.print_readable_snapshot()"
   ]
  },
  {
   "cell_type": "markdown",
   "id": "9e987ed4",
   "metadata": {},
   "source": [
    "## Resonator 1 power and frequency sweep "
   ]
  },
  {
   "cell_type": "code",
   "execution_count": 71,
   "id": "4f5b06bd",
   "metadata": {},
   "outputs": [
    {
     "name": "stdout",
     "output_type": "stream",
     "text": [
      "Starting experimental run with id: 9. \n"
     ]
    },
    {
     "data": {
      "application/vnd.jupyter.widget-view+json": {
       "model_id": "57a9d7215c124dfdb3269bcf5463bc12",
       "version_major": 2,
       "version_minor": 0
      },
      "text/plain": [
       "  0%|          | 0/100 [00:00<?, ?it/s]"
      ]
     },
     "metadata": {},
     "output_type": "display_data"
    }
   ],
   "source": [
    "vna_run_id = station.measure_iq(params_and_values = {  station.Qubit.pulse_freq: [5545, 5560, 100], station.Qubit.pulse_gain: [10, 10000, 100]}, \n",
    "                         protocol = station.vna, \n",
    "                         dac_channels = {'probe': station.Qubit},\n",
    "                         adc_channels = {'adc' : station.ADC},\n",
    "                         experiment = experiment)"
   ]
  },
  {
   "cell_type": "markdown",
   "id": "f6e27bd4",
   "metadata": {},
   "source": [
    "The program has run succesfully, and the measure_iq method returns a run_id, with wich you can access the database:"
   ]
  },
  {
   "cell_type": "markdown",
   "id": "eb3c0194",
   "metadata": {},
   "source": [
    "## Bare resonator frequency sweep"
   ]
  },
  {
   "cell_type": "code",
   "execution_count": 13,
   "id": "c1571424",
   "metadata": {},
   "outputs": [],
   "source": [
    "station.Qubit.pulse_gain(40000)\n",
    "station.vna.reps(1000)"
   ]
  },
  {
   "cell_type": "code",
   "execution_count": 93,
   "id": "e7937546",
   "metadata": {},
   "outputs": [
    {
     "name": "stdout",
     "output_type": "stream",
     "text": [
      "Starting experimental run with id: 11. \n"
     ]
    },
    {
     "data": {
      "application/vnd.jupyter.widget-view+json": {
       "model_id": "93223c3826dd4753b0190fc981816a2a",
       "version_major": 2,
       "version_minor": 0
      },
      "text/plain": [
       "  0%|          | 0/1000 [00:00<?, ?it/s]"
      ]
     },
     "metadata": {},
     "output_type": "display_data"
    }
   ],
   "source": [
    "bare_resonator_rid = station.measure_iq(params_and_values = {  station.Qubit.pulse_freq: [5545, 5560, 1000]},#, station.Qubit.pulse_gain: [10, 10000, 100]}, \n",
    "                         protocol = station.vna, \n",
    "                         dac_channels = {'probe': station.Qubit},\n",
    "                         adc_channels = {'adc' : station.ADC},\n",
    "                         experiment = experiment)"
   ]
  },
  {
   "cell_type": "markdown",
   "id": "3878417f",
   "metadata": {},
   "source": [
    "# Dressed resonator frequency sweep"
   ]
  },
  {
   "cell_type": "code",
   "execution_count": 14,
   "id": "21b3e2ba",
   "metadata": {},
   "outputs": [],
   "source": [
    "station.Qubit.pulse_gain(1)\n",
    "station.Qubit.pulse_length(30)\n",
    "\n",
    "station.vna.relax_delay(3)\n",
    "station.vna.reps(5000)\n",
    "station.vna.readout_length(30)"
   ]
  },
  {
   "cell_type": "code",
   "execution_count": 113,
   "id": "2a5b4c39",
   "metadata": {},
   "outputs": [
    {
     "name": "stdout",
     "output_type": "stream",
     "text": [
      "Starting experimental run with id: 16. \n"
     ]
    },
    {
     "data": {
      "application/vnd.jupyter.widget-view+json": {
       "model_id": "ce4821710fe74c2e871d90fb5468901d",
       "version_major": 2,
       "version_minor": 0
      },
      "text/plain": [
       "  0%|          | 0/2000 [00:00<?, ?it/s]"
      ]
     },
     "metadata": {},
     "output_type": "display_data"
    }
   ],
   "source": [
    "dressed_resonator_rid = station.measure_iq(params_and_values = {  station.Qubit.pulse_freq: [5545, 5560, 2000]},#, station.Qubit.pulse_gain: [10, 10000, 100]}, \n",
    "                         protocol = station.vna, \n",
    "                         dac_channels = {'probe': station.Qubit},\n",
    "                         adc_channels = {'adc' : station.ADC},\n",
    "                         experiment = experiment)"
   ]
  },
  {
   "cell_type": "markdown",
   "id": "4181a54f",
   "metadata": {},
   "source": [
    "# Finding the punchout gain"
   ]
  },
  {
   "cell_type": "code",
   "execution_count": 14,
   "id": "a5297614",
   "metadata": {},
   "outputs": [],
   "source": [
    "station.Qubit.pulse_length(30)\n",
    "\n",
    "station.vna.adc_trig_offset(122)\n",
    "station.vna.relax_delay(3)\n",
    "station.vna.reps(100)\n",
    "station.vna.readout_length(30)"
   ]
  },
  {
   "cell_type": "code",
   "execution_count": 123,
   "id": "d10a4a24",
   "metadata": {},
   "outputs": [
    {
     "name": "stdout",
     "output_type": "stream",
     "text": [
      "Starting experimental run with id: 18. \n"
     ]
    },
    {
     "data": {
      "application/vnd.jupyter.widget-view+json": {
       "model_id": "134d855fe4254062a8fd766f30bb808e",
       "version_major": 2,
       "version_minor": 0
      },
      "text/plain": [
       "  0%|          | 0/500 [00:00<?, ?it/s]"
      ]
     },
     "metadata": {},
     "output_type": "display_data"
    }
   ],
   "source": [
    "vna_run_id = station.measure_iq(params_and_values = {  station.Qubit.pulse_freq: [5550, 5556, 500], station.Qubit.pulse_gain: [1, 4000, 500]}, \n",
    "                         protocol = station.vna, \n",
    "                         dac_channels = {'probe': station.Qubit},\n",
    "                         adc_channels = {'adc' : station.ADC},\n",
    "                         experiment = experiment)"
   ]
  },
  {
   "cell_type": "markdown",
   "id": "a5e5dabd",
   "metadata": {},
   "source": [
    "# Two tone spectroscopy"
   ]
  },
  {
   "cell_type": "code",
   "execution_count": 7,
   "id": "0ffeb25e",
   "metadata": {},
   "outputs": [],
   "source": [
    "ppsprotocol = station.add_protocol(PulseProbeSpectroscopyProtocol(name='pps'))"
   ]
  },
  {
   "cell_type": "code",
   "execution_count": 40,
   "id": "f1a1380a",
   "metadata": {},
   "outputs": [
    {
     "name": "stdout",
     "output_type": "stream",
     "text": [
      "pps:\n",
      "\tparameter          value\n",
      "--------------------------------------------------------------------------------\n",
      "adc_trig_offset     :\t122 (Clock ticks)\n",
      "readout_pulse_delay :\t0.05 (us)\n",
      "relax_delay         :\t800 (us)\n",
      "reps                :\t1000 \n"
     ]
    }
   ],
   "source": [
    "station.pps.adc_trig_offset(122)\n",
    "station.pps.relax_delay(800)\n",
    "station.pps.reps(1000)\n",
    "\n",
    "\n",
    "station.pps.print_readable_snapshot()"
   ]
  },
  {
   "cell_type": "code",
   "execution_count": 26,
   "id": "854533b0",
   "metadata": {},
   "outputs": [
    {
     "name": "stdout",
     "output_type": "stream",
     "text": [
      "Readout:\n",
      "\tparameter   value\n",
      "--------------------------------------------------------------------------------\n",
      "channel      :\t0 \n",
      "nqz          :\t2 \n",
      "pulse_freq   :\t5553.3 (MHz)\n",
      "pulse_gain   :\t5000 (DAC units)\n",
      "pulse_length :\t10 (us)\n",
      "pulse_phase  :\t0 (deg)\n"
     ]
    }
   ],
   "source": [
    "station.Readout.channel(0)\n",
    "station.Readout.pulse_freq(5553.3)\n",
    "station.Readout.pulse_gain(5000)\n",
    "station.Readout.pulse_length(10)\n",
    "station.Readout.nqz(2)\n",
    "\n",
    "\n",
    "station.Readout.print_readable_snapshot()"
   ]
  },
  {
   "cell_type": "code",
   "execution_count": 27,
   "id": "702793db",
   "metadata": {},
   "outputs": [
    {
     "name": "stdout",
     "output_type": "stream",
     "text": [
      "Qubit:\n",
      "\tparameter   value\n",
      "--------------------------------------------------------------------------------\n",
      "channel      :\t4 \n",
      "nqz          :\t1 \n",
      "pulse_freq   :\t2694.4 (MHz)\n",
      "pulse_gain   :\t40000 (DAC units)\n",
      "pulse_length :\t150 (us)\n",
      "pulse_phase  :\t0 (deg)\n"
     ]
    }
   ],
   "source": [
    "station.Qubit.channel(4)\n",
    "station.Qubit.pulse_gain(40000)\n",
    "station.Qubit.pulse_length(150)\n",
    "station.Qubit.pulse_freq(2694.4)\n",
    "station.Qubit.nqz(1)\n",
    "\n",
    "\n",
    "station.Qubit.print_readable_snapshot()"
   ]
  },
  {
   "cell_type": "code",
   "execution_count": 42,
   "id": "5b6ed141",
   "metadata": {},
   "outputs": [
    {
     "name": "stdout",
     "output_type": "stream",
     "text": [
      "Starting experimental run with id: 87. \n"
     ]
    },
    {
     "data": {
      "application/vnd.jupyter.widget-view+json": {
       "model_id": "3def30bc9d90405491c8edd1330595f2",
       "version_major": 2,
       "version_minor": 0
      },
      "text/plain": [
       "  0%|          | 0/100 [00:00<?, ?it/s]"
      ]
     },
     "metadata": {},
     "output_type": "display_data"
    },
    {
     "data": {
      "text/plain": [
       "87"
      ]
     },
     "execution_count": 42,
     "metadata": {},
     "output_type": "execute_result"
    }
   ],
   "source": [
    "station.measure_iq(params_and_values = {  station.pps.readout_pulse_delay : [0.1, 100, 100]}, \n",
    "                         protocol = station.pps, \n",
    "                         dac_channels = {'qubit' : station.Qubit,'readout': station.Readout},\n",
    "                         adc_channels = {'adc' : station.ADC},\n",
    "                         experiment = experiment)"
   ]
  },
  {
   "cell_type": "code",
   "execution_count": 9,
   "id": "fd7b8c62-5f1c-4f0f-bec0-c9d9bb08568c",
   "metadata": {},
   "outputs": [],
   "source": [
    "pi_len=0.829"
   ]
  },
  {
   "cell_type": "code",
   "execution_count": 25,
   "id": "894e1b58",
   "metadata": {},
   "outputs": [
    {
     "data": {
      "text/plain": [
       "<measurements.T1Protocol.T1Protocol at 0x22807288df0>"
      ]
     },
     "execution_count": 25,
     "metadata": {},
     "output_type": "execute_result"
    }
   ],
   "source": [
    "try:\n",
    "    station.remove_protocol(station.t1)\n",
    "except AttributeError:\n",
    "    pass\n",
    "station.add_protocol(T1Protocol('t1'))"
   ]
  },
  {
   "cell_type": "code",
   "execution_count": 26,
   "id": "190e3374",
   "metadata": {},
   "outputs": [
    {
     "name": "stdout",
     "output_type": "stream",
     "text": [
      "t1:\n",
      "\tparameter      value\n",
      "--------------------------------------------------------------------------------\n",
      "adc_trig_offset :\t122 (Clock ticks)\n",
      "relax_delay     :\t900 (us)\n",
      "reps            :\t400 \n",
      "variable_delay  :\t5 (us)\n",
      "Qubit:\n",
      "\tparameter   value\n",
      "--------------------------------------------------------------------------------\n",
      "channel      :\t4 \n",
      "nqz          :\t1 \n",
      "pulse_freq   :\t2694.4 (MHz)\n",
      "pulse_gain   :\t40000 (DAC units)\n",
      "pulse_length :\t0.829 (us)\n",
      "pulse_phase  :\t0 (deg)\n",
      "Readout:\n",
      "\tparameter   value\n",
      "--------------------------------------------------------------------------------\n",
      "channel      :\t0 \n",
      "nqz          :\t2 \n",
      "pulse_freq   :\t5553.3 (MHz)\n",
      "pulse_gain   :\t5000 (DAC units)\n",
      "pulse_length :\t10 (us)\n",
      "pulse_phase  :\t0 (deg)\n"
     ]
    }
   ],
   "source": [
    "station.t1.adc_trig_offset(122)\n",
    "station.t1.relax_delay(900)\n",
    "\n",
    "\n",
    "station.t1.print_readable_snapshot()\n",
    "\n",
    "station.Qubit.channel(4)\n",
    "station.Qubit.pulse_gain(40000)\n",
    "\n",
    "station.Qubit.pulse_length(pi_len)\n",
    "station.Qubit.pulse_freq(2694.4)\n",
    "station.Qubit.nqz(1)\n",
    "\n",
    "\n",
    "station.Qubit.print_readable_snapshot()\n",
    "\n",
    "station.Readout.channel(0)\n",
    "station.Readout.pulse_freq(5553.3)\n",
    "station.Readout.pulse_gain(5000)\n",
    "station.Readout.pulse_length(10)\n",
    "station.Readout.nqz(2)\n",
    "\n",
    "\n",
    "station.Readout.print_readable_snapshot()"
   ]
  },
  {
   "cell_type": "code",
   "execution_count": 33,
   "id": "db8c2968",
   "metadata": {},
   "outputs": [
    {
     "name": "stdout",
     "output_type": "stream",
     "text": [
      "Starting experimental run with id: 99. \n"
     ]
    },
    {
     "data": {
      "application/vnd.jupyter.widget-view+json": {
       "model_id": "fbaab39e9df04ce8a4efce496877864a",
       "version_major": 2,
       "version_minor": 0
      },
      "text/plain": [
       "  0%|          | 0/2000 [00:00<?, ?it/s]"
      ]
     },
     "metadata": {},
     "output_type": "display_data"
    }
   ],
   "source": [
    "station.t1.reps(200)\n",
    "\n",
    "pps_run_id = station.measure_iq(params_and_values = {  station.t1.variable_delay: [1, 1000, 10]}, \n",
    "                         protocol = station.t1, \n",
    "                         dac_channels = {'qubit' : station.Qubit, 'readout': station.Readout},\n",
    "                         adc_channels = {'adc' : station.ADC},\n",
    "                         experiment = experiment)"
   ]
  },
  {
   "cell_type": "code",
   "execution_count": 34,
   "id": "0828b2f9-a885-40bd-bd8a-e2791c0f8b94",
   "metadata": {},
   "outputs": [
    {
     "data": {
      "text/plain": [
       "[<matplotlib.lines.Line2D at 0x2280b40a490>]"
      ]
     },
     "execution_count": 34,
     "metadata": {},
     "output_type": "execute_result"
    },
    {
     "data": {
      "application/vnd.jupyter.widget-view+json": {
       "model_id": "a77f5d9fae77472988168af54850f724",
       "version_major": 2,
       "version_minor": 0
      },
      "image/png": "[encoded data removed]",
      "text/html": [
       "\n",
       "            <div style=\"display: inline-block;\">\n",
       "                <div class=\"jupyter-widgets widget-label\" style=\"text-align: center;\">\n",
       "                    Figure\n",
       "                </div>\n",
       "                <img src='data:image/png;base64,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' width=640.0/>\n",
       "            </div>\n",
       "        "
      ],
      "text/plain": [
       "Canvas(toolbar=Toolbar(toolitems=[('Home', 'Reset original view', 'home', 'home'), ('Back', 'Back to previous …"
      ]
     },
     "metadata": {},
     "output_type": "display_data"
    }
   ],
   "source": [
    "qc.load_by_id(99).to_xarray_dataset()[\"avg_i\"].plot(ax=plt.figure().gca())"
   ]
  },
  {
   "cell_type": "code",
   "execution_count": 24,
   "id": "4455df90",
   "metadata": {},
   "outputs": [],
   "source": [
    "pi_lenght = 0.760"
   ]
  },
  {
   "cell_type": "code",
   "execution_count": null,
   "id": "f50de256-9e72-486d-a0f4-146c412b7902",
   "metadata": {},
   "outputs": [],
   "source": []
  }
 ],
 "metadata": {
  "kernelspec": {
   "display_name": "Python 3 (ipykernel)",
   "language": "python",
   "name": "python3"
  },
  "language_info": {
   "codemirror_mode": {
    "name": "ipython",
    "version": 3
   },
   "file_extension": ".py",
   "mimetype": "text/x-python",
   "name": "python",
   "nbconvert_exporter": "python",
   "pygments_lexer": "ipython3",
   "version": "3.8.10"
  },
  "widgets": {
   "application/vnd.jupyter.widget-state+json": {
    "state": {
     "03d5a2c749ed425eabb1d0e6f8d4dbf0": {
      "model_module": "@jupyter-widgets/controls",
      "model_module_version": "1.5.0",
      "model_name": "FloatProgressModel",
      "state": {
       "bar_style": "success",
       "layout": "IPY_MODEL_a12b16ffcce64eeaac98accb2019790d",
       "max": 2000,
       "style": "IPY_MODEL_af59cca93e19421dba1aade1b9d58133",
       "value": 2000
      }
     },
     "05f5f2b079894febaebcdd3626147cc8": {
      "model_module": "@jupyter-widgets/controls",
      "model_module_version": "1.5.0",
      "model_name": "FloatProgressModel",
      "state": {
       "bar_style": "danger",
       "layout": "IPY_MODEL_d1dd525d5a234415963697424f3c8b46",
       "max": 2000,
       "style": "IPY_MODEL_4f13281a16314add890d5b67e7cf2bd8",
       "value": 1638
      }
     },
     "09f24f7d37114d0d8172ca1501201c61": {
      "model_module": "@jupyter-widgets/controls",
      "model_module_version": "1.5.0",
      "model_name": "HTMLModel",
      "state": {
       "layout": "IPY_MODEL_3cddfda6409d4b7bb8c6867dabbb2415",
       "style": "IPY_MODEL_c6fe5322e73d44a9a6ccfbf89a7f8a53",
       "value": "100%"
      }
     },
     "0a691cc69e8e471c86c657a3269449df": {
      "model_module": "@jupyter-widgets/controls",
      "model_module_version": "1.5.0",
      "model_name": "FloatProgressModel",
      "state": {
       "bar_style": "success",
       "layout": "IPY_MODEL_4c14bc83ae8643378c8ec21895fab0c8",
       "max": 2000,
       "style": "IPY_MODEL_957611d243ec46c4bd6572ad72abe16c",
       "value": 2000
      }
     },
     "0c1da5df0a4b4a34b080c9fed32020c2": {
      "model_module": "@jupyter-widgets/controls",
      "model_module_version": "1.5.0",
      "model_name": "FloatProgressModel",
      "state": {
       "bar_style": "success",
       "layout": "IPY_MODEL_4447f82361424242a044c7abfe5d383a",
       "max": 2000,
       "style": "IPY_MODEL_aa488f8acf304ed181c0fab3a51e80c2",
       "value": 2000
      }
     },
     "0cf5551229b74c379cc83f26ab4486fe": {
      "model_module": "@jupyter-widgets/controls",
      "model_module_version": "1.5.0",
      "model_name": "FloatProgressModel",
      "state": {
       "bar_style": "success",
       "layout": "IPY_MODEL_12d2ae1d261f4a1a89581fc0929f7f45",
       "max": 2000,
       "style": "IPY_MODEL_0f2ce81487c84fbf932d3dff3f863aa7",
       "value": 2000
      }
     },
     "0e30d1f69da34e378655900f7b4be00b": {
      "model_module": "@jupyter-widgets/base",
      "model_module_version": "1.2.0",
      "model_name": "LayoutModel",
      "state": {}
     },
     "0ee466f1b6ee445894b47ec0de584658": {
      "model_module": "@jupyter-widgets/controls",
      "model_module_version": "1.5.0",
      "model_name": "ProgressStyleModel",
      "state": {
       "description_width": ""
      }
     },
     "0f2ce81487c84fbf932d3dff3f863aa7": {
      "model_module": "@jupyter-widgets/controls",
      "model_module_version": "1.5.0",
      "model_name": "ProgressStyleModel",
      "state": {
       "description_width": ""
      }
     },
     "0f9a50b88aa44de8b8e1dc980bd0f1c2": {
      "model_module": "@jupyter-widgets/controls",
      "model_module_version": "1.5.0",
      "model_name": "FloatProgressModel",
      "state": {
       "bar_style": "danger",
       "layout": "IPY_MODEL_5207ca8c2911413ea9ed46a082d91d9d",
       "max": 200000,
       "style": "IPY_MODEL_e007f9b3424c43ffa384d807ae6b944b",
       "value": 9828
      }
     },
     "10ccab65c2d14b14ad5d8435604ff7fd": {
      "model_module": "@jupyter-widgets/controls",
      "model_module_version": "1.5.0",
      "model_name": "DescriptionStyleModel",
      "state": {
       "description_width": ""
      }
     },
     "114fc5fcaa7a4750b6839044b2eacd94": {
      "model_module": "@jupyter-widgets/base",
      "model_module_version": "1.2.0",
      "model_name": "LayoutModel",
      "state": {}
     },
     "1241d27102d84fed95eabfc20b82c287": {
      "model_module": "@jupyter-widgets/base",
      "model_module_version": "1.2.0",
      "model_name": "LayoutModel",
      "state": {}
     },
     "12d2ae1d261f4a1a89581fc0929f7f45": {
      "model_module": "@jupyter-widgets/base",
      "model_module_version": "1.2.0",
      "model_name": "LayoutModel",
      "state": {}
     },
     "13cc719cf59c4c008c08a99521e2f43d": {
      "model_module": "@jupyter-widgets/base",
      "model_module_version": "1.2.0",
      "model_name": "LayoutModel",
      "state": {}
     },
     "18393aff5ba640cf8a40c5e2ba1211ba": {
      "model_module": "@jupyter-widgets/base",
      "model_module_version": "1.2.0",
      "model_name": "LayoutModel",
      "state": {}
     },
     "1b6c3a3d1adf4afcae4a5d59e6c77d39": {
      "model_module": "@jupyter-widgets/base",
      "model_module_version": "1.2.0",
      "model_name": "LayoutModel",
      "state": {}
     },
     "1dc11fb7efea497795181a9359962e1b": {
      "model_module": "@jupyter-widgets/base",
      "model_module_version": "1.2.0",
      "model_name": "LayoutModel",
      "state": {}
     },
     "1e44c5f544fb4c838d324273490937f8": {
      "model_module": "@jupyter-widgets/controls",
      "model_module_version": "1.5.0",
      "model_name": "HTMLModel",
      "state": {
       "layout": "IPY_MODEL_2b3aa1b9ad404b3f824943c18213f913",
       "style": "IPY_MODEL_28f20bc1bc79467e8429ae73c20d6bbb",
       "value": " 13104/200000 [00:14&lt;02:59, 1038.87it/s]"
      }
     },
     "201c60ee7d494cb7b6750ecb50cc0a2b": {
      "model_module": "@jupyter-widgets/base",
      "model_module_version": "1.2.0",
      "model_name": "LayoutModel",
      "state": {}
     },
     "239fcdcc3e064fe2a8d66992ba081e82": {
      "model_module": "@jupyter-widgets/base",
      "model_module_version": "1.2.0",
      "model_name": "LayoutModel",
      "state": {}
     },
     "261946b978b943889bc5bea0de2bc5ca": {
      "model_module": "@jupyter-widgets/base",
      "model_module_version": "1.2.0",
      "model_name": "LayoutModel",
      "state": {}
     },
     "2854262a4c904525aa64c9f15cf89e5c": {
      "model_module": "@jupyter-widgets/controls",
      "model_module_version": "1.5.0",
      "model_name": "ProgressStyleModel",
      "state": {
       "description_width": ""
      }
     },
     "28f20bc1bc79467e8429ae73c20d6bbb": {
      "model_module": "@jupyter-widgets/controls",
      "model_module_version": "1.5.0",
      "model_name": "DescriptionStyleModel",
      "state": {
       "description_width": ""
      }
     },
     "2b3aa1b9ad404b3f824943c18213f913": {
      "model_module": "@jupyter-widgets/base",
      "model_module_version": "1.2.0",
      "model_name": "LayoutModel",
      "state": {}
     },
     "2bfdd7f41f4546e2be6af9063baa08f3": {
      "model_module": "@jupyter-widgets/controls",
      "model_module_version": "1.5.0",
      "model_name": "HTMLModel",
      "state": {
       "layout": "IPY_MODEL_1241d27102d84fed95eabfc20b82c287",
       "style": "IPY_MODEL_40cdd67395be4a28b2e02410b16c7ae1",
       "value": "100%"
      }
     },
     "2c54ef55362a4529896c058f8a66ae83": {
      "model_module": "@jupyter-widgets/controls",
      "model_module_version": "1.5.0",
      "model_name": "ProgressStyleModel",
      "state": {
       "description_width": ""
      }
     },
     "2e57ebad61f2422bb51cb5d3392530db": {
      "model_module": "@jupyter-widgets/controls",
      "model_module_version": "1.5.0",
      "model_name": "DescriptionStyleModel",
      "state": {
       "description_width": ""
      }
     },
     "2fe0a12ca9d74c34ba6ae97e2420838d": {
      "model_module": "jupyter-matplotlib",
      "model_module_version": "^0.11",
      "model_name": "ToolbarModel",
      "state": {
       "_model_module_version": "^0.11",
       "_view_module_version": "^0.11",
       "collapsed": true,
       "layout": "IPY_MODEL_9e5270cc45fd411da677fc8be1c2855c",
       "orientation": "vertical",
       "toolitems": [
        [
         "Home",
         "Reset original view",
         "home",
         "home"
        ],
        [
         "Back",
         "Back to previous view",
         "arrow-left",
         "back"
        ],
        [
         "Forward",
         "Forward to next view",
         "arrow-right",
         "forward"
        ],
        [
         "Pan",
         "Left button pans, Right button zooms\nx/y fixes axis, CTRL fixes aspect",
         "arrows",
         "pan"
        ],
        [
         "Zoom",
         "Zoom to rectangle\nx/y fixes axis",
         "square-o",
         "zoom"
        ],
        [
         "Download",
         "Download plot",
         "floppy-o",
         "save_figure"
        ]
       ]
      }
     },
     "322ce4c3a299432094cd60993afdcf0e": {
      "model_module": "jupyter-matplotlib",
      "model_module_version": "^0.11",
      "model_name": "ToolbarModel",
      "state": {
       "_model_module_version": "^0.11",
       "_view_module_version": "^0.11",
       "collapsed": true,
       "layout": "IPY_MODEL_cbf3bc5a86c8430c87f72e00575669e7",
       "orientation": "vertical",
       "toolitems": [
        [
         "Home",
         "Reset original view",
         "home",
         "home"
        ],
        [
         "Back",
         "Back to previous view",
         "arrow-left",
         "back"
        ],
        [
         "Forward",
         "Forward to next view",
         "arrow-right",
         "forward"
        ],
        [
         "Pan",
         "Left button pans, Right button zooms\nx/y fixes axis, CTRL fixes aspect",
         "arrows",
         "pan"
        ],
        [
         "Zoom",
         "Zoom to rectangle\nx/y fixes axis",
         "square-o",
         "zoom"
        ],
        [
         "Download",
         "Download plot",
         "floppy-o",
         "save_figure"
        ]
       ]
      }
     },
     "33fbce1b9ca54b01bf9fecfc9ee6c5b1": {
      "model_module": "@jupyter-widgets/base",
      "model_module_version": "1.2.0",
      "model_name": "LayoutModel",
      "state": {}
     },
     "3672efd5f20f406dbf52d93157ed996c": {
      "model_module": "@jupyter-widgets/base",
      "model_module_version": "1.2.0",
      "model_name": "LayoutModel",
      "state": {}
     },
     "36a21a04c98948bea4c27fb6f779743a": {
      "model_module": "@jupyter-widgets/controls",
      "model_module_version": "1.5.0",
      "model_name": "HTMLModel",
      "state": {
       "layout": "IPY_MODEL_e1bf05f3f2c0471cb35f1d4b089904f9",
       "style": "IPY_MODEL_bbea3d6a945d4597a8304e807164d57b",
       "value": "100%"
      }
     },
     "39c414eb1457481fbfb38d883176931f": {
      "model_module": "@jupyter-widgets/base",
      "model_module_version": "1.2.0",
      "model_name": "LayoutModel",
      "state": {}
     },
     "3b1452b6ab9f4e6b8005f6c72100f0ca": {
      "model_module": "@jupyter-widgets/controls",
      "model_module_version": "1.5.0",
      "model_name": "HBoxModel",
      "state": {
       "children": [
        "IPY_MODEL_f19933f87c454ef3967599b2d7bcd9cb",
        "IPY_MODEL_0f9a50b88aa44de8b8e1dc980bd0f1c2",
        "IPY_MODEL_59bc4b8b493a45d2ad8a10b51f268dda"
       ],
       "layout": "IPY_MODEL_8bc387cfb76d4891b64abf286c9f3041"
      }
     },
     "3bcad674c32c4c4aa2d080fe5716b7e1": {
      "model_module": "@jupyter-widgets/controls",
      "model_module_version": "1.5.0",
      "model_name": "DescriptionStyleModel",
      "state": {
       "description_width": ""
      }
     },
     "3bf9fd19e93f4362a804f716a1437661": {
      "model_module": "@jupyter-widgets/base",
      "model_module_version": "1.2.0",
      "model_name": "LayoutModel",
      "state": {}
     },
     "3cddfda6409d4b7bb8c6867dabbb2415": {
      "model_module": "@jupyter-widgets/base",
      "model_module_version": "1.2.0",
      "model_name": "LayoutModel",
      "state": {}
     },
     "40cdd67395be4a28b2e02410b16c7ae1": {
      "model_module": "@jupyter-widgets/controls",
      "model_module_version": "1.5.0",
      "model_name": "DescriptionStyleModel",
      "state": {
       "description_width": ""
      }
     },
     "4102c704d43e4158b8ac9cb79898e9c7": {
      "model_module": "@jupyter-widgets/base",
      "model_module_version": "1.2.0",
      "model_name": "LayoutModel",
      "state": {}
     },
     "4284f0082d934c96be32dafd246f81a1": {
      "model_module": "@jupyter-widgets/base",
      "model_module_version": "1.2.0",
      "model_name": "LayoutModel",
      "state": {}
     },
     "43a5ff8015c14581af21c8fc48af7976": {
      "model_module": "@jupyter-widgets/controls",
      "model_module_version": "1.5.0",
      "model_name": "HBoxModel",
      "state": {
       "children": [
        "IPY_MODEL_c9a537348b624585b0267117bf36eec1",
        "IPY_MODEL_05f5f2b079894febaebcdd3626147cc8",
        "IPY_MODEL_6d7138fc2eab44fc912fe3d112fe5000"
       ],
       "layout": "IPY_MODEL_5fc29cfbc9054040a1a04e2753f4c723"
      }
     },
     "4447f82361424242a044c7abfe5d383a": {
      "model_module": "@jupyter-widgets/base",
      "model_module_version": "1.2.0",
      "model_name": "LayoutModel",
      "state": {}
     },
     "46013e330f384483bd95226704fcba8c": {
      "model_module": "@jupyter-widgets/base",
      "model_module_version": "1.2.0",
      "model_name": "LayoutModel",
      "state": {}
     },
     "481de34b5bae4564bd6fefb82b5ac528": {
      "model_module": "@jupyter-widgets/controls",
      "model_module_version": "1.5.0",
      "model_name": "HBoxModel",
      "state": {
       "children": [
        "IPY_MODEL_a084a4d877ec412596c31bdf846317ba",
        "IPY_MODEL_0a691cc69e8e471c86c657a3269449df",
        "IPY_MODEL_da7f7db2234840dbae2f98595a8ea407"
       ],
       "layout": "IPY_MODEL_e4e4d90a541a4e18a958b121fa078899"
      }
     },
     "4be9cb6771e34c39998ec49066c62d81": {
      "model_module": "@jupyter-widgets/controls",
      "model_module_version": "1.5.0",
      "model_name": "FloatProgressModel",
      "state": {
       "bar_style": "success",
       "layout": "IPY_MODEL_46013e330f384483bd95226704fcba8c",
       "max": 2000,
       "style": "IPY_MODEL_9845a5b441ea4d36bb55462b5431f9db",
       "value": 2000
      }
     },
     "4c14bc83ae8643378c8ec21895fab0c8": {
      "model_module": "@jupyter-widgets/base",
      "model_module_version": "1.2.0",
      "model_name": "LayoutModel",
      "state": {}
     },
     "4eeb3c5c1adc439590bb3628fd442784": {
      "model_module": "@jupyter-widgets/base",
      "model_module_version": "1.2.0",
      "model_name": "LayoutModel",
      "state": {}
     },
     "4f13281a16314add890d5b67e7cf2bd8": {
      "model_module": "@jupyter-widgets/controls",
      "model_module_version": "1.5.0",
      "model_name": "ProgressStyleModel",
      "state": {
       "description_width": ""
      }
     },
     "5207ca8c2911413ea9ed46a082d91d9d": {
      "model_module": "@jupyter-widgets/base",
      "model_module_version": "1.2.0",
      "model_name": "LayoutModel",
      "state": {}
     },
     "57b139feeee14838a9b5d555ee2ec973": {
      "model_module": "@jupyter-widgets/controls",
      "model_module_version": "1.5.0",
      "model_name": "DescriptionStyleModel",
      "state": {
       "description_width": ""
      }
     },
     "586a3790009b43498bd31dfe3b18cd48": {
      "model_module": "@jupyter-widgets/base",
      "model_module_version": "1.2.0",
      "model_name": "LayoutModel",
      "state": {}
     },
     "59aa8e26005d44e0964df09308c2e91d": {
      "model_module": "@jupyter-widgets/controls",
      "model_module_version": "1.5.0",
      "model_name": "HTMLModel",
      "state": {
       "layout": "IPY_MODEL_fb428723923641c2a1f3d5da28aaa194",
       "style": "IPY_MODEL_7b1b228d483c4c61ac7238b922e49626",
       "value": " 2000/2000 [00:02&lt;00:00, 687.19it/s]"
      }
     },
     "59bc4b8b493a45d2ad8a10b51f268dda": {
      "model_module": "@jupyter-widgets/controls",
      "model_module_version": "1.5.0",
      "model_name": "HTMLModel",
      "state": {
       "layout": "IPY_MODEL_5f9121f8127b489bb296286b6837cb54",
       "style": "IPY_MODEL_c781cbb3f62f454b9b83756f5bac90f1",
       "value": " 9828/200000 [00:10&lt;03:01, 1049.12it/s]"
      }
     },
     "5f76f583a0de4391bdbce0c866775ede": {
      "model_module": "@jupyter-widgets/controls",
      "model_module_version": "1.5.0",
      "model_name": "FloatProgressModel",
      "state": {
       "bar_style": "success",
       "layout": "IPY_MODEL_201c60ee7d494cb7b6750ecb50cc0a2b",
       "max": 2000,
       "style": "IPY_MODEL_92d55fa8a1f545858067cbbbe5cd734a",
       "value": 2000
      }
     },
     "5f9121f8127b489bb296286b6837cb54": {
      "model_module": "@jupyter-widgets/base",
      "model_module_version": "1.2.0",
      "model_name": "LayoutModel",
      "state": {}
     },
     "5fc29cfbc9054040a1a04e2753f4c723": {
      "model_module": "@jupyter-widgets/base",
      "model_module_version": "1.2.0",
      "model_name": "LayoutModel",
      "state": {}
     },
     "63c5a907e93647bcb5c279826e3eb440": {
      "model_module": "@jupyter-widgets/base",
      "model_module_version": "1.2.0",
      "model_name": "LayoutModel",
      "state": {}
     },
     "6a6c3289b4f348dd9587c02a98dda6da": {
      "model_module": "jupyter-matplotlib",
      "model_module_version": "^0.11",
      "model_name": "ToolbarModel",
      "state": {
       "_model_module_version": "^0.11",
       "_view_module_version": "^0.11",
       "collapsed": true,
       "layout": "IPY_MODEL_39c414eb1457481fbfb38d883176931f",
       "orientation": "vertical",
       "toolitems": [
        [
         "Home",
         "Reset original view",
         "home",
         "home"
        ],
        [
         "Back",
         "Back to previous view",
         "arrow-left",
         "back"
        ],
        [
         "Forward",
         "Forward to next view",
         "arrow-right",
         "forward"
        ],
        [
         "Pan",
         "Left button pans, Right button zooms\nx/y fixes axis, CTRL fixes aspect",
         "arrows",
         "pan"
        ],
        [
         "Zoom",
         "Zoom to rectangle\nx/y fixes axis",
         "square-o",
         "zoom"
        ],
        [
         "Download",
         "Download plot",
         "floppy-o",
         "save_figure"
        ]
       ]
      }
     },
     "6d21148dfa6342b4a632b8accc445660": {
      "model_module": "@jupyter-widgets/base",
      "model_module_version": "1.2.0",
      "model_name": "LayoutModel",
      "state": {}
     },
     "6d4d2886a8a94b859abc22f5ddd5d987": {
      "model_module": "@jupyter-widgets/controls",
      "model_module_version": "1.5.0",
      "model_name": "HBoxModel",
      "state": {
       "children": [
        "IPY_MODEL_a15005ffcaa74d3498bfa008e37ffce7",
        "IPY_MODEL_db03bb8938da4d9da63a367fee1b7ae4",
        "IPY_MODEL_6d6cf1d874504883bd836b97c06528eb"
       ],
       "layout": "IPY_MODEL_114fc5fcaa7a4750b6839044b2eacd94"
      }
     },
     "6d6cf1d874504883bd836b97c06528eb": {
      "model_module": "@jupyter-widgets/controls",
      "model_module_version": "1.5.0",
      "model_name": "HTMLModel",
      "state": {
       "layout": "IPY_MODEL_f90d5ea0896544d3aece02afdfdbd041",
       "style": "IPY_MODEL_3bcad674c32c4c4aa2d080fe5716b7e1",
       "value": " 2000/2000 [00:02&lt;00:00, 709.33it/s]"
      }
     },
     "6d7138fc2eab44fc912fe3d112fe5000": {
      "model_module": "@jupyter-widgets/controls",
      "model_module_version": "1.5.0",
      "model_name": "HTMLModel",
      "state": {
       "layout": "IPY_MODEL_eefa3db906224d6f8011df275b339a83",
       "style": "IPY_MODEL_10ccab65c2d14b14ad5d8435604ff7fd",
       "value": " 1638/2000 [00:02&lt;00:00, 759.61it/s]"
      }
     },
     "6efed6057eac4b818746d7caeadf053f": {
      "model_module": "@jupyter-widgets/controls",
      "model_module_version": "1.5.0",
      "model_name": "DescriptionStyleModel",
      "state": {
       "description_width": ""
      }
     },
     "76a66339e5c644108e382af883ad1609": {
      "model_module": "@jupyter-widgets/controls",
      "model_module_version": "1.5.0",
      "model_name": "FloatProgressModel",
      "state": {
       "bar_style": "danger",
       "layout": "IPY_MODEL_8b658fa80567457992a7d4402ff9385b",
       "max": 200000,
       "style": "IPY_MODEL_0ee466f1b6ee445894b47ec0de584658",
       "value": 13104
      }
     },
     "783d97c66c744d4091b32236a922d2c3": {
      "model_module": "@jupyter-widgets/controls",
      "model_module_version": "1.5.0",
      "model_name": "DescriptionStyleModel",
      "state": {
       "description_width": ""
      }
     },
     "7a3ea0131b9644959211131ef4446d42": {
      "model_module": "@jupyter-widgets/controls",
      "model_module_version": "1.5.0",
      "model_name": "DescriptionStyleModel",
      "state": {
       "description_width": ""
      }
     },
     "7ab0710c7da44e9cb7feed6636c882a5": {
      "model_module": "@jupyter-widgets/controls",
      "model_module_version": "1.5.0",
      "model_name": "HBoxModel",
      "state": {
       "children": [
        "IPY_MODEL_36a21a04c98948bea4c27fb6f779743a",
        "IPY_MODEL_fdd71cf484e54bceb0cf806f111d7dd1",
        "IPY_MODEL_59aa8e26005d44e0964df09308c2e91d"
       ],
       "layout": "IPY_MODEL_0e30d1f69da34e378655900f7b4be00b"
      }
     },
     "7b1b228d483c4c61ac7238b922e49626": {
      "model_module": "@jupyter-widgets/controls",
      "model_module_version": "1.5.0",
      "model_name": "DescriptionStyleModel",
      "state": {
       "description_width": ""
      }
     },
     "7c121db50e6442db96f333549607ef11": {
      "model_module": "@jupyter-widgets/controls",
      "model_module_version": "1.5.0",
      "model_name": "DescriptionStyleModel",
      "state": {
       "description_width": ""
      }
     },
     "7caf31047ad24159959d6de4df31b0ab": {
      "model_module": "@jupyter-widgets/controls",
      "model_module_version": "1.5.0",
      "model_name": "HTMLModel",
      "state": {
       "layout": "IPY_MODEL_4284f0082d934c96be32dafd246f81a1",
       "style": "IPY_MODEL_d7a691885cb64b2aaf4a610273d22eca",
       "value": " 2000/2000 [00:02&lt;00:00, 707.01it/s]"
      }
     },
     "80dbc0ead99f46e9baba3e4cc5a95aac": {
      "model_module": "@jupyter-widgets/controls",
      "model_module_version": "1.5.0",
      "model_name": "HTMLModel",
      "state": {
       "layout": "IPY_MODEL_c254cee750124302a10c7daf3ca2fcaf",
       "style": "IPY_MODEL_7a3ea0131b9644959211131ef4446d42",
       "value": " 2000/2000 [00:02&lt;00:00, 708.92it/s]"
      }
     },
     "82593b5af5b54921bef85253403bd9dd": {
      "model_module": "@jupyter-widgets/controls",
      "model_module_version": "1.5.0",
      "model_name": "HTMLModel",
      "state": {
       "layout": "IPY_MODEL_d9de8a02b99d426db543e725d6355f14",
       "style": "IPY_MODEL_8890dc9ceb2449d4961dfba04c64720a",
       "value": "  7%"
      }
     },
     "86bb56f3f0d44a4b9d8087988f528a36": {
      "model_module": "@jupyter-widgets/controls",
      "model_module_version": "1.5.0",
      "model_name": "HTMLModel",
      "state": {
       "layout": "IPY_MODEL_b2947054a8214a3688bfc0f0091e8354",
       "style": "IPY_MODEL_2e57ebad61f2422bb51cb5d3392530db",
       "value": " 2000/2000 [00:02&lt;00:00, 709.05it/s]"
      }
     },
     "888a2cefad5847a49f21bbc42f2f1182": {
      "model_module": "@jupyter-widgets/controls",
      "model_module_version": "1.5.0",
      "model_name": "DescriptionStyleModel",
      "state": {
       "description_width": ""
      }
     },
     "8890dc9ceb2449d4961dfba04c64720a": {
      "model_module": "@jupyter-widgets/controls",
      "model_module_version": "1.5.0",
      "model_name": "DescriptionStyleModel",
      "state": {
       "description_width": ""
      }
     },
     "8b658fa80567457992a7d4402ff9385b": {
      "model_module": "@jupyter-widgets/base",
      "model_module_version": "1.2.0",
      "model_name": "LayoutModel",
      "state": {}
     },
     "8bc387cfb76d4891b64abf286c9f3041": {
      "model_module": "@jupyter-widgets/base",
      "model_module_version": "1.2.0",
      "model_name": "LayoutModel",
      "state": {}
     },
     "8df48456430940a8803e4180d396682f": {
      "model_module": "@jupyter-widgets/controls",
      "model_module_version": "1.5.0",
      "model_name": "HTMLModel",
      "state": {
       "layout": "IPY_MODEL_9c1a296669d64a3f9c2d2bc476d8a0ad",
       "style": "IPY_MODEL_7c121db50e6442db96f333549607ef11",
       "value": "100%"
      }
     },
     "904ad019969645aebce0a484c33a58ca": {
      "model_module": "@jupyter-widgets/controls",
      "model_module_version": "1.5.0",
      "model_name": "DescriptionStyleModel",
      "state": {
       "description_width": ""
      }
     },
     "92d55fa8a1f545858067cbbbe5cd734a": {
      "model_module": "@jupyter-widgets/controls",
      "model_module_version": "1.5.0",
      "model_name": "ProgressStyleModel",
      "state": {
       "description_width": ""
      }
     },
     "93d404b6d9ca4ad19c7a74ba8efd09f8": {
      "model_module": "@jupyter-widgets/base",
      "model_module_version": "1.2.0",
      "model_name": "LayoutModel",
      "state": {}
     },
     "957611d243ec46c4bd6572ad72abe16c": {
      "model_module": "@jupyter-widgets/controls",
      "model_module_version": "1.5.0",
      "model_name": "ProgressStyleModel",
      "state": {
       "description_width": ""
      }
     },
     "9845a5b441ea4d36bb55462b5431f9db": {
      "model_module": "@jupyter-widgets/controls",
      "model_module_version": "1.5.0",
      "model_name": "ProgressStyleModel",
      "state": {
       "description_width": ""
      }
     },
     "99e6a49b0a944a589715b91e7d4b7d70": {
      "model_module": "jupyter-matplotlib",
      "model_module_version": "^0.11",
      "model_name": "ToolbarModel",
      "state": {
       "_model_module_version": "^0.11",
       "_view_module_version": "^0.11",
       "collapsed": true,
       "layout": "IPY_MODEL_261946b978b943889bc5bea0de2bc5ca",
       "orientation": "vertical",
       "toolitems": [
        [
         "Home",
         "Reset original view",
         "home",
         "home"
        ],
        [
         "Back",
         "Back to previous view",
         "arrow-left",
         "back"
        ],
        [
         "Forward",
         "Forward to next view",
         "arrow-right",
         "forward"
        ],
        [
         "Pan",
         "Left button pans, Right button zooms\nx/y fixes axis, CTRL fixes aspect",
         "arrows",
         "pan"
        ],
        [
         "Zoom",
         "Zoom to rectangle\nx/y fixes axis",
         "square-o",
         "zoom"
        ],
        [
         "Download",
         "Download plot",
         "floppy-o",
         "save_figure"
        ]
       ]
      }
     },
     "9c1a296669d64a3f9c2d2bc476d8a0ad": {
      "model_module": "@jupyter-widgets/base",
      "model_module_version": "1.2.0",
      "model_name": "LayoutModel",
      "state": {}
     },
     "9e5270cc45fd411da677fc8be1c2855c": {
      "model_module": "@jupyter-widgets/base",
      "model_module_version": "1.2.0",
      "model_name": "LayoutModel",
      "state": {}
     },
     "9e62c070c6ff4e7086fb538b0b87b9e6": {
      "model_module": "@jupyter-widgets/base",
      "model_module_version": "1.2.0",
      "model_name": "LayoutModel",
      "state": {}
     },
     "a084a4d877ec412596c31bdf846317ba": {
      "model_module": "@jupyter-widgets/controls",
      "model_module_version": "1.5.0",
      "model_name": "HTMLModel",
      "state": {
       "layout": "IPY_MODEL_1b6c3a3d1adf4afcae4a5d59e6c77d39",
       "style": "IPY_MODEL_6efed6057eac4b818746d7caeadf053f",
       "value": "100%"
      }
     },
     "a12b16ffcce64eeaac98accb2019790d": {
      "model_module": "@jupyter-widgets/base",
      "model_module_version": "1.2.0",
      "model_name": "LayoutModel",
      "state": {}
     },
     "a15005ffcaa74d3498bfa008e37ffce7": {
      "model_module": "@jupyter-widgets/controls",
      "model_module_version": "1.5.0",
      "model_name": "HTMLModel",
      "state": {
       "layout": "IPY_MODEL_33fbce1b9ca54b01bf9fecfc9ee6c5b1",
       "style": "IPY_MODEL_888a2cefad5847a49f21bbc42f2f1182",
       "value": "100%"
      }
     },
     "a21f8c0d027f4f21ab6d09fe56f3c9e4": {
      "model_module": "@jupyter-widgets/controls",
      "model_module_version": "1.5.0",
      "model_name": "HBoxModel",
      "state": {
       "children": [
        "IPY_MODEL_09f24f7d37114d0d8172ca1501201c61",
        "IPY_MODEL_0cf5551229b74c379cc83f26ab4486fe",
        "IPY_MODEL_bf12591e915d492991b78d0464aa652f"
       ],
       "layout": "IPY_MODEL_bd08949364684006b5873f448af611c7"
      }
     },
     "a5ca3f26a8d74bbf88510b7e53e6ae40": {
      "model_module": "@jupyter-widgets/base",
      "model_module_version": "1.2.0",
      "model_name": "LayoutModel",
      "state": {}
     },
     "a77f5d9fae77472988168af54850f724": {
      "model_module": "jupyter-matplotlib",
      "model_module_version": "^0.11",
      "model_name": "MPLCanvasModel",
      "state": {
       "_data_url": "data:image/png;base64,iVBORw0KGgoAAAANSUhEUgAAAj0AAAGtCAYAAAD9H8XfAAAgAElEQVR4XuydB3hWRbPH/xB676F36QQIvQWkCyKICoIoIKigdFBE6SIWBFEQEQEVBEEFRJAaWkIIvYQEIr333gkJ3D3H7/UiBHLeN6fv/9wnj99z2bM789s52cns7kyS++IBHxIgARIgARIgARJwOYEkdHpcPsNUjwRIgARIgARIQCVAp4eGQAIkQAIkQAIkIAUBOj1STDOVJAESIAESIAESoNNDGyABEiABEiABEpCCAJ0eKaaZSpIACZAACZAACdDpoQ2QAAmQAAmQAAlIQYBOjxTTTCVJgARIgARIgATo9NAGSIAESIAESIAEpCBAp0eKaaaSJEACJEACJEACdHpoAyRAAiRAAiRAAlIQoNMjxTRTSRIgARIgARIgATo9tAESIAESIAESIAEpCNDpkWKaqSQJkAAJkAAJkACdHtoACZAACZAACZCAFATo9EgxzVSSBEiABEiABEiATg9tgARIgARIgARIQAoCdHqkmGYqSQIkQAIkQAIkQKeHNkACJEACJEACJCAFATo9UkwzlSQBEiABEiABEqDTQxsgARIgARIgARKQggCdHimmmUqSAAmQAAmQAAnQ6aENkAAJkAAJkAAJSEGATo8U00wlSYAESIAESIAE6PTQBkiABEiABEiABKQgQKdHimmmkiRAAiRAAiRAAnR6aAMkQAIkQAIkQAJSEKDTI8U0U0kSIAESIAESIAE6PbQBEiABEiABEiABKQjQ6ZFimqkkCZAACZAACZAAnR7aAAmQAAmQAAmQgBQE6PRIMc1UkgRIgARIgARIgE4PbYAESIAESIAESEAKAnR6pJhmKkkCJEACJEACJECnhzZAAiRAAiRAAiQgBQE6PVJMM5UkARIgARIgARKg00MbIAESIAESIAESkIIAnR4ppplKkgAJkAAJkAAJ0OmhDZAACZAACZAACUhBgE6PFNNMJUmABEiABEiABOj00AZIgARIgARIgASkIECnR4ppppIkQAIkQAIkQAJ0emgDJEACJEACJEACUhCg0yPFNFNJEiABEiABEiABOj20ARIgARIgARIgASkI0OmRYpqpJAmQAAmQAAmQAJ0e2gAJkAAJkAAJkIAUBOj0SDHNVJIESIAESIAESIBOD22ABEiABEiABEhACgJ0eqSYZipJAiRAAiRAAiRAp4c2QAIkQAIkQAIkIAUBOj0JTHOSJEmg/PAhARIgARIgATcTuH//PpQfNz90ehKY3aRJk+LevXtutgHqRgIkQAIkQAKQYb2j00Onh586CZAACZAACdDpoQ1ACiPgPJMACZAACZAAIz20ATo9tAESIAESIAEpCNDpkWKan6ykDEbAaSYBEiABEiABGdY7nunhmR5+6SRAAiRAAiQgxc4GnR46PfzUSYAESIAESIBOD22AB5lpAyRAAiRAAnIQ4PaWHPP8RC1lMAJOMwmQAAmQAAnIsN5xe4vbW/zSSYAESIAESIDbW7QBbm/RBkiABEiABOQgwEiPHPPM7S3OMwmQAAmQgPQE6PRIbwKM9NAESIAESMDtBK7cvIv0qZKJ7R25i0vT6XG7pWvQTwYj0ICBTUiABEjAdQTu3buP70IOYszyv/FylXwY2bKs63T0RiEZ1jseZE7AImQwAm8+CrYlARIgATcQOHv1Nvr+uhPr9p9X1SmcPS1W9avrBtV81kGG9Y5OD50enz8QvkgCJEACTiSwKvoM+v8WgYs3YlAiZ3pcEP89f/0OooY3RpoUyZyoki4y0+nRBaOzO5HBCJw9Q5SeBEiABLQRuBMbh0+XROOHsMPqCx1rFMT7z5RAr9nbsSzqDOa/XQMV8mfW1pkLW8mw3jHSw0iPCz9dqkQCJEAC/yWw/+w19PhlB/acuorMaZJj9Ivl0KCUv9poXPBe8bMPHz9fBq9ULSAtOjo90k79/ysugxFwmkmABEjArQTu37+POZuPYdjCKNy+ew81i2bF2Nbl4Z8h1b8qL4s6jbdmbEX7avmlPswsw3rHSA8jPW79XUe9SIAEJCdw5dZdfDBvF/7adQrJxHX0fo2K462gwo9cTT928SZqf74agfkzYd7bNaWlRqdH2qlnpIdTTwIkQAJOJrDl8EVxVmcHTly+hXxZUuPrlys89ryOEg0KGL4cceIKe+SwxtLm66HT42SL10l2GYxAJ1TshgRIgAQsJ6A4Lt+s3q+e0xH/Ey3K5xZbVmVE8sHkT5St9Xfh2HToItb0r4uC2dJarocVAsiw3nF7i9tbVnxbHJMESIAEdCdwUkR1es/ZoTovaVP4YUSLMmgVmAdJkiScaXnYn1H4cf1hTHwlEE3L5tJdNid0SKfHCbNksIwyGIHBCNk9CZAACRhOYGnkKQyYuwvKOZ6yeTLi67YVUMiLiM2v4rDze3Mj0KNeUfXsj4yPDOud4yI9R48eRe/evREcHAw/Pz80btwYs2fPfqx97tq1C3369MHGjRuRMmVKdOjQAWPGjNFszzIYgWYYbEgCJEACNiNwKyYOH/21G7M2HlUlUw4qK05LimRJvZJ01/EraD5hHeqXyIGpHSt79a5bGsuw3jnK6bl79y5Kly6Njh07omfPnqoTExERgYoVK8ZrcxcvXkSJEiXw6aefol27dlAOq+3duxflypXTbKMyGIFmGGxIAiRAAjYiEH36KnrM2o59Z68jW7qU4ip6OQQVy+6ThLfvxqH00GXwT58S6wfW96kPp78kw3rnKKdnypQpmDp1KsLDwzXZ1qBBg3Dw4EHMmjVLU/v4GslgBD7D4YskQAIkYAEB5Q/YGRuOYORfexATew91i2fHFy+VUx2fxDyNvlyLvWeuY8eQhsiUJkViunLkuzKsd45yejp37ow7d+7g6tWrCAsLQ9GiRTF69GgEBQXFa2D169dHmTJlsH37duzevRsBAQH46quvULas9kq6MhiBI79OCk0CJCAlAaVe1nu/RyB4zxkk90siykiURCdRTiKpyMOT2Ke3KEfxx46TmPVGVdQoki2x3TnufRnWO0c5PY0aNcKqVaswf/58NGnSRD3L0717d3XLyt//n3TiDz7FihXD6dOnsXz5cgQGBuKLL77A5MmTER0djVSp/j8b54PvDB8+HMqP51H+olB++JAACZAACVhLYP2B8+gjbmeduXoHhcUhZeWwchlxaFmv57u1B/CJqM01qFlJdKldWK9uHdMPnR4Tp6pu3bpYu3btY0dUHI+WLVviwoULCA0N/bedErUZPHgwWrdu/ci75cuXV6M6M2bMUP9N6SNjxozqIegqVapo0k4GI9AEgo1IgARIwCICd+PuqXl3Jq45IH6PA60r5cXQ5qWRNqW+FdFD953Dq1M34YXAvBgjzgfJ9siw3jkq0jNkyBCsWbMGISEh/3F6lLM7bdq0ecQ+X3vtNfX/N3369H+dnkyZMqmRn6pVq2qyZxmMQBMINiIBEiABCwgoJSJ6im2n7UcvI71wcka1Kovm5XIbIsn563dQaWQwSubKgCW9ahsyhp07lWG9c5TTs3//fvVczty5c9Wr6nPmzEG3bt3U7aqcOXM+YktK5Oi5557DypUroUR9xo4di4kTJz5xe+vhTmQwAjt/hJSNBEhAXgJ/7jyJD0XtrGt3YtW6WF+JUhL5sqQxFEjlj4Nx+WYMooY38frau6GCmdC5DOudo5weZc4XLVqEfv364cSJE+p1dMWR8RxknjlzJkaNGoWoqKh/zUO57TVixAhcvnwZFSpUwPjx43mQ2YSPh0OQAAmQgK8EbggnZ6jIkPz71uMimzLQ/emi6FX/KSTz8y73ji/jd5i2CWv3nsPinrVRKncGX7pw7Dt0ehw7dfoJLoMR6EeLPZEACZBA4ghEnriCHr9sx6HzN5AzQyp82aY8qhfJmrhOvXj7U3GQeZI40DxGXIF/oWJeL950flMZ1jvHRXrMNisZjMBsphyPBEiABB4mcE9UB50WdgifLY3G3bj7aFjKH5+/EIDMac3Nl6NsqfUUTlfnWoUw+NlSUk2UDOsdnZ4ETFoGI5Dqq6ayJEACtiNw7tod9P9tp7qtlFKUjxgknI32VfNrKhSqtzL7z15Dg7EhIk9PVpGvp5re3du6PxnWOzo9dHps/RFSOBIgAXcTCBGOTt9fd0K5OVXMPx3Gtw1E8ZzpLVM6TkScSg9ditTJ/bBtcENLHC+rlKfTYxV5G40rgxHYCDdFIQESkISAUj5i9LJofB96SNW4fbX8IilgKaQSzobVTwtReHSnKEAaPrAecmVMbbU4po0vw3rHSA8jPaZ9UByIBEiABBQCyiFl5dzMLnFoOVOa5PhMnN1pXPrRtCNW0Ro4LwK/bDqGaR0roV6JR7P9WyWX0ePS6TGasAP6l8EIHDANFJEESMAFBJSs+HO3ncCQBZG4GROHqoWyYNzL5W0XTZkefljIGIX+jYqhe72nXEBemwoyrHeM9DDSo+1rYCsSIAESSASBa7fvYtAfkVggCnr6ieKgvUXenbdF/h3lf9vt2XL4Il6cFI5mZXPhm1cC7SaeYfLQ6TEMrXM6lsEInDMblJQESMCJBLYfvaSWkjh28RbyZEotCoWWR8UCWWyrynWRHLHM0GUoJIqaru5f17Zy6i2YDOsdIz2M9Oj93bA/EiABElAJKDehlER/X67Yi1jxv58NyIWPny+LjKmT255QndGrcVTU/Yoc1lj3wqZ2VZ5Oj11nxkS5ZDACE3FyKBIgAUkInLl6G33m7MD6AxfU69/DnyuNl0R19CRKXQkHPF1nbMXSqNOY262GiEpldoDEiRdRhvWOkR5GehL/pbAHEiABEniAQPDuM3j39524dPMuSomK5ePbVUCR7Okcxeir4H34MngvRrYsI67TF3CU7L4KS6fHV3Iuek8GI3DRdFEVEiABiwl8LspITFxzQJXi9ZqFMOCZ4iLLsvW5d7zFskI4bm9M34J2IjP0KLElJ8Mjw3rHSA8jPTJ8y9SRBEjABAInL99CjU9XqWd2xolCoU+XyGHCqMYMcfzSTdT6bDUq5M+E+W/XNGYQm/VKp8dmE2KFODIYgRVcOSYJkID7CCzYcQK9Zu9AxxoFMUyc4XHyo+QUKjd8uVr8NHJ4Y1terdebrwzrHSM9jPTo/d2wPxIgAUkJDBZ5eGZsOIIJ4gzPswG5HU+hzXfh2HjoIlb1q4PCDjuT5At8Oj2+UHPZOzIYgcumjOqQAAlYRKDJuBBEn76GDQPrI2fGVBZJod+wwxdG4Yeww65x4hIiI8N6x0gPIz0JfQf8dxIgARJIkMCVW3dRfsRy5M2cGqHv1UuwvRMa/LrlGN77PQLvPF0E7zYu4QSREyUjnZ5E4XPHyzIYgTtmilqQAAlYSWD132fR6YfNaFUhD8aKQ8xueCJFQdRnx68TRUdziOKjld2g0hN1kGG9Y6SHkR7Xf8hUkARIwHgCo5dF45vVB9Tr3co1bzc8d2LjUHrIMmRLlxIbPqjvBpXo9IgT6vddP5OJUFAGzzcRePgqCZAACagEWotDv5vEod8VfYLwlH9611DxnFPaNrghsqRN4Rq94lNEhvWOkR5Gelz9EVM5EiAB4wkoEZGAYcuROoUftg1qiKQ2rJzuKwWllMb87Scws0tV1CyazdduHPEenR5HTJOxQspgBMYSZO8kQAJuJ7D1yCW88O16NCiZA1M6uOvsy/chB/Hx4j0Y1KwkutQu7OqplGG9Y6SHkR5Xf8RUjgRIwHgC34lK6p8sicb7z5RA1zpFjB/QxBHW7TuP9lM3uuqA9uPw0ekx0bDsOpQMRmBX9pSLBEjAGQS6/LQFwXvOuLIi+YXrd1BxZDBK5EyPpb2DnDEhPkopw3rHSA8jPT5+HnyNBEiABIB79+4Lp2AFbsbEIWJYI0cWF01oHquOCsaF6zGIGtHYlfp59KfTk5AlSPDvMhiBBNNIFUmABAwisP/sNTQYG4IqhbLg17eqGzSKtd12/GET1vx9Dn/1rIXSuTNaK4yBo8uw3jHSw0iPgZ8QuyYBEnA7gV82HcXAebtcnbX486XRmLjmAEa/GICXKuVz7ZTS6XHt1GpXTAYj0E6DLUmABEjgvwT6iivd88SV7h86VcbTxXO4Es/CnSfR45fteL1mIQxpXsqVOipKybDeMdLDSI9rP2AqRgIkYDyB2p+vwvFLt7BjSCNkTJ3c+AEtGOHAueuoP2YtqhXOgtlvunMLj06PBYZlxyFl8HztyJ0ykQAJ2J/A6Su3Ue2Tla6/2RQnDmuXHrpUPcS8Y0hDJEmSxP6T44OEMqx3jPQw0uPDp8FXSIAESABYFHES3Wdtx6vVCuCjlmVcjaTlN2HYcewywt6vhzyZUrtSVzo9rpxW75SSwQi8I8LWJEACJPAPgWF/RuHH9Yfx1cvl0aJ8HldjUQ5rK4e2p7xWCQ1K+btSVxnWO0Z6GOlx5cdLpUiABIwn0OzrUESdvIr1IvqR26XRDw/FGRuOYPAfkejXsBh61H/KeLgWjECnxwLodhtSBiOwG3PKQwIkYH8C127fRbnhy5ErY2p1y8ftz9YjF0V9sXA8UyYnvm1f0ZXqyrDeMdLDSI8rP14qRQIkYCyBkL3n8Nq0TWJbK7fY3qpg7GA26P36nViUHbYMBbKkwZp3n7aBRPqLQKdHf6aO61EGI3DcpFBgEiABywmMXf43vl61Xz3ArBxkluGpO3o1Dl+4icjhjZEuZTLXqSzDesdIDyM9rvtwqRAJkIDxBNpO3oDwgxdEEc7a4sp6BuMHtMEI3X7eiiWRp0Vh1eqoWCCLDSTSVwQ6PfrydGRvMhiBIyeGQpMACVhG4G7cPXWrJ7lfUuwUSQmTJnVn3pqHAY9fuQ9jVuzFRy1K49XqBS3jb9TAMqx3jPQw0mPU98N+SYAEXEpAyVej5K15unh2UX6iiku1fFSt4N1n0GX6FrStkh+ftCrrOr3p9LhuSr1XSAYj8J4K3yABEpCZwJTQgxj51x6827i4KDRaVBoUJy/fQo1PV6FcvkxY8E5N1+ktw3rHSA8jPa77cKkQCZCAsQTemrEFy6LO4Leu1VG5oPvOtjyO3v3791F+xArciY1D1PAm8HPZth6dHmO/G596P3r0KHr37o3g4GD4+fmhcePGmD17drx9PfPMMwgNDf333+7evYuUKVPi6tWrmseWwQg0w2BDEiAB6QkoC3+lkcG4djsWEcMaIVVyP6mYeA5wB/etg6I50rlKdxnWO0dFehSnpXTp0ujYsSN69uypOjARERGoWFFboqg2bdogffr0mDJlimZDlcEINMNgQxIgAekJHBQVx+uJiuOVCmTG791qSMdjxMLdmBZ2COPbVkDzcrldpb8M652jnB7FWZk6dSrCw8O9NrSLFy8id+7cWLVqFWrU0P6hymAEXsPkCyRAAtIS+HXzMbw3NwJd6xTB+8+UkI7D71uPo/9vO9GtbhEMaOIu/WVY7xzl9HTu3Bl37txRt6fCwsJQtGhRjB49GkFBQQl+eBMmTIDyEx0dnWDbBxvIYAReAWFjEiABqQkoC76y8E/tUAn1S7qz8OaTJjjq5BU0+3od6oqbaz+67OaaDOudo5yeRo0aqZGa+fPno0mTJupZnu7du2Pv3r3w93/yxxcYGAhle2vAgAFP/IU1fPhwKD+eR9m/Vn74kAAJkAAJAJ6sxDuGNESmNCmkQxITew+lhy5FZqH7pg8buEp/Oj0mTmfdunWxdu3ax46oOB4tW7bEhQsX/nM4uWzZshg8eDBat2792Hd37typnvs5duwYcuXK5ZVWMhiBV0DYmARIQFoCZ6/dRpWPV6KYfzos71NHWg5NxoUg+vQ1bB3UAFnTpXQNBxnWO0dFeoYMGYI1a9YgJCTkXyNTnJ5BgwapUZzHPb169cKBAwewaNEir41TBiPwGgpfIAESkJLAkl2n0G3mNrSrmh+jnndfcj6tk9r31x2Yt+0Efu5cFbWeyqb1Ndu3k2G9c5TTs3//fgQEBGDu3LnqVfU5c+agW7du6jmdnDlzxmtQMTEx6gHmyZMno1WrVl4bnQxG4DUUvkACJCAlAc/NpS/blMPzFfJKyUBR2pOc8YOmJfBmUBHXcJBhvXOU06NYlhKt6devH06cOIESJUpg7Nix/x5knjlzJkaNGoWoqKh/jVBxkLp27YqTJ08iefLkXhunDEbgNRS+QAIkICWB5yasQ8TxKwh972nky5JGSgaK0mH7z+OVKRuF45cHX7Yp7xoOMqx3jnN6zLYuGYzAbKYcjwRIwHkEbtyJRcDw5cguzrCED6yHJEnkKDIa30xdvBGDwI9WoLh/eizrk/DtYafMtgzrHZ2eBKxRBiNwygdJOUmABKwj4IluPBuQCxPaBVoniE1GrjZqJc5fv4PI4Y1dk5VahvWOTg+dHpv8CqEYJEACdiYwLngvxgXvw/DnSqNDjYJ2FtUU2V7/cTNWRZ/Foh61UCZPRlPGNHoQOj1GE3ZA/zIYgQOmgSKSAAlYTKC9OMOyTpxl+atnLZTO7Y5FPjFIRy+LxjerD+DzFwPQulK+xHRlm3dlWO8Y6WGkxzYfHAUhARKwJ4HYuHvqeZ6k4hzPzqGNXFdd3Bfqf0WcwjuztqGjiHoNE9EvNzx0etwwi4nUQQYjSCQivk4CJOByArvEja3m4uZWULHsmP56FZdrq009T+HVqoWyYM5b1bW9ZPNWMqx3jPQw0mPzz5DikQAJWE1g2rpDGLFoN/o3Kobu9Z6yWhxbjB937z7KDlumRr0iRPTLDbfZ6PTYwrSsFUIGI7CWMEcnARKwO4G3Z27F4l2nMfvNaqhWOKvdxTVNvucnhmH70ctYN+Bp5M3s/LxFMqx3jPQw0mPaLwgORAIk4DwCSt3DKuJ69uWbMSKi0RipU/g5TwmDJP5w/i7M3HgUk1+tiEal468KYNDQhnRLp8cQrM7qVAYjcNaMUFoSIAEzCRy5cAN1Rq9BhfyZMP/tmmYObfuxft5wBIP+iESfBsXQq4Hzt/1kWO8Y6WGkx/a/WCggCZCAdQR+33oc/X/bKWpMFcYHTUtaJ4gNR9529BJaTVyPxqX98d2rlWwooXci0enxjpcrW8tgBK6cOCpFAiSgC4EBv0dgzpZjrtnC0QXK/zq5GROL0kOXIZ84zxMi6pE5/ZFhvWOkh5Eep3+nlJ8ESMBAAvXGrMHBczewdVADZBV1t/j8l8DTX6zBofM3sGtYI6RP5X1RazvxpNNjp9mwSBYZjMAitByWBEjA5gQuiNpSFUcGo0j2tFjZr67NpbVGvHdmbsNfu07ht67VUblgFmuE0GlUGdY7RnoY6dHpc2E3JEACbiOwLOo03pqxFS9XzodPXwhwm3q66DNh1T58sXwvRrQojdeqF9SlT6s6odNjFXkbjSuDEdgIN0UhARKwEYGP/9qN70MP4YuXyuHFinltJJl9RFkVfQav/7jFFY6hDOsdIz2M9NjntwclIQESsBWBlt+EYcexy1j7bl0UyJrWVrLZRZhTV26h+ierUC5vRizoXssuYvkkB50en7C56yUZjMBdM0ZtSIAE9CBwKyZOLbOQOW0KbPqgvivKLOjB5eE+lOSNgR+twE3BK2p4YyTzS2rEMKb0KcN6x0gPIz2mfEwchARIwFkEwg9cQNvvN6Bp2ZyY+EpFZwlvsrTtBKf1gldw3yAUzZHe5NH1G45Oj34sHduTDEbg2Mmh4CRAAoYRGL9yH8as2Ishz5bC67UKGTaOGzoeKYqxThFFWb96uTxalM/jWJVkWO8Y6WGkx7EfKAUnARIwjsBr0zYhZO85LBTnVMqK8yp8Hk9grsha3U9kre5apwjef6aEY1HR6XHs1OknuAxGoB8t9kQCJOAGAnH37qPc8OVQzqvsHNrI0edUzJiPPaeu4pmvQhFULDumv17FjCENGUOG9Y6RHkZ6DPl42CkJkIBzCUSdvIJmX69D7aeyYUbnqs5VxCTJY2LviXIUS5EpTQps/rCBSaPqPwydHv2ZOq5HGYzAcZNCgUmABAwl8NP6wxj6Z5RrqocbCut/nTcVkZ7dIuKjOD3Z0zuzXIcM6x0jPYz0mPH7gGOQAAk4iED3WduwKOIUZnWpihpFszlIcutE7ffrTszddlzd3lK2uZz40Olx4qzpLLMMRqAzMnZHAiTgYALKOZ5qn6zE+esxahHNNCmSOVgb80SfEnoQI//aox5kVg40O/GRYb1jpIeRHid+m5SZBEjAIALHLt5E7c9XuyLDsEGI4u12/YHzaPf9RnFlPbe4ul7BzKF1G4tOj24onduRDEbg3Nmh5CRAAnoTmL/9OPrM2YnOIjfPYJGjh482ApdvxqD8iBUo5p8Oy/vU0faSzVrJsN4x0sNIj80+O4pDAiRgJYGB83bhl01HMal9IJqUyWWlKI4bu4bYFjxz7Y5ajiJVcj/HyU+nx3FTpr/AMhiB/tTYIwmQgFMJNBy7FvvOXnf0LSSr2Hf+cTNWRp91bEJHGdY7RnoY6bHq9wPHJQESsBmBSzdiUEEUzyyULS1W969rM+nsL86Y5X9j/Kr9+OyFsmhTOb/9BX5IQjo9jpsy/QWWwQj0p8YeSYAEnEggePcZdJm+BS9VzIvRL5VzogqWyrx41ym8PXMbOtYoiGHPlbZUFl8Gl2G9Y6SHkR5fvg2+QwIk4EICnyzZg+/WHsTnLwSgdeV8LtTQWJUOn7+Bul+sQZWCWfBr1+rGDmZA73R6DIDqtC5lMAKnzQnlJQESMIbAC9+ux9Yjl7CqXx0Uzp7OmEFc3Os9UbOs7LBlSJokCSJEjqMk4r9OemRY7xjpYaTHSd8kZSUBEjCIwO27ceqCnSFVcmwZ1MBxC7ZBWLzu1uM4hr73NPJlSeP1+1a+QKfHSvo2GVsGI7AJaopBAiRgIYFNhy6i9XfhaFzaH9+9WslCSZw99KA/duHnDUcFw4qCZU5HKSPDesdIDyM9jvooKSwJkIAxBL5ZvR+jl/2NQc1KokvtwsYMIkGvszYexQfzd+T7YhYAACAASURBVKFX/afQp2ExR2lMp8dR02WMsDIYgTHk2CsJkICTCHT6YRNW/30Of7xTE+XzZXKS6LaSdfvRS3h+4no0KuWPya85K2Imw3rHSA8jPbb6hUFhSIAEzCegHMAtN2I5YuPuqwdwk/slNV8Il4x4MyYWpYcuQ55MqbFuQD1HaUWnx1HTZYywMhiBMeTYKwmQgFMIRJ++iibjQlGjSFbMeqOaU8S2rZz1xqzBwXM3VAdSORjulEeG9Y6RHkZ6nPI9Uk4SIAGDCMzYcASD/4hET3EOpa/DzqEYhCRR3b4zaxv+ijiFX9+qjiqFsiSqLzNfptNjJm2bjiWDEdgUPcUiARIwiUCv2duxYMdJzOhcBbWfym7SqO4dxnMofFjzUuhYs5BjFJVhvXNcpOfo0aPo3bs3goOD4efnh8aNG2P27NnxGtXdu3fRr18//Pbbb7h16xYqVKiACRMmoHRp7enBZTACx3yRFJQESMAQAjU/XYVTV26J7ZjGSJcymSFjyNTpalF0tJMoPtqmUj589mKAY1SXYb1zlNOjODGKw9KxY0f07NkTKVOmREREBCpWrBivUY0dOxaTJk3CypUrkStXLnzwwQdYvHgxIiMjNRuhDEagGQYbkgAJuI7Aicu3oDg9ZfJkwKIetV2nnxUKnbl6G1VHrUTZPBmxsEctK0TwaUwZ1jtHOT1TpkzB1KlTER4ermlCFccoNjYWEydOVNtHRUUhICAAMTExapRIyyODEWjhwDYkQALuJLBgxwn0mr3DsUUy7Tgr9+/fR8WRwbh+Jxa7hzdGMofchpNhvXOU09O5c2fcuXMHV69eRVhYGIoWLYrRo0cjKCgoXrvfuXMnunTpom5v5c6dGwMHDsSePXvUaI/WRwYj0MqC7UiABNxHwJNB+Jt2gWgWkMt9ClqkUfspG7Fu/3ks7xOEYv7pLZLCu2FlWO8c5fQ0atQIq1atwvz589GkSRP1LE/37t2xd+9e+Pv7PzK7165dU7fBfvzxRzWykzdvXnWrq0iRIo+1hOHDh0P58TyKx6788CEBEiABNxJoMi4E0aevYeMH9eGfIZUbVbREp4//2o3vQw/hq5fLo0X5PJbI4O2gdHq8JZaI9nXr1sXatWsf24PieLRs2RIXLlxAaGjov+3Kli2LwYMHo3Xr1o+8++qrr+L8+fP46aefkCVLFvz8888YNGgQdu/ejQwZMmiSVgYj0ASCjUiABFxH4MrNuyj/0XLky5wGIaJAJh/9CMzffhx95uzEW0GFMbBpSf06NrAnGdY7R0V6hgwZgjVr1iAkJOQ/To/iyLRp0+YRUyhTpozq5Lz88sv//lvWrFkxd+5cKE6WlkcGI9DCgW1IgATcR8Bzy6hVYB6MbV3efQpaqJEn4WPtp7KJVABVLZRE+9AyrHeOcnr279+vHkRWnBblqvqcOXPQrVs3REdHI2fOR6vZKud5Tp06henTpyNTpkyYNWsW3nzzTRw6dCje9vGZhgxGoP2TYEsSIAE3Efh8aTQmrjmAT1qVRdsq+d2kmuW63I27h9JDliFD6mTYMqih5fJoEUCG9c5RTo8yaYsWLVJz75w4cQIlSpSAci3dc5B55syZGDVqlHpLS3kuXbqEPn36YOnSpbh586Z68Fk5r9O8eXMt86+2kcEINMNgQxIgAVcRaD0pHJsOX0Rw3yAUzeGMw7ZOmoBmX4ci6uRVbPqwPnKkt/95KRnWO8c5PWYbvAxGYDZTjkcCJGA9gTuxcSg7bDnSpvDDtsENkSRJEuuFcpkE/X/bid+3HsePnSqjbvEcttdOhvWOTk8CZiiDEdj+S6SAJEACuhPYeuQiXvg2HA1K+mNKh0q6988OgWnrDmHEot0Y0KQEutV9/K1hu7CSYb2j00Onxy7fG+UgARIwkcCktQfw6ZJoDHymBN6qY/8F2UQ0ug0VfuAC2n6/Ac3L5cb4thV069eojuj0GEXWQf3KYAQOmg6KSgIkoBOBLj9tRvCes5j3dg0E5s+sU6/s5kECSkqAciOWi/NS6cS5qTq2hyPDesdIDyM9tv8QvRHw0Pkb6D1nBz4UeTGqFMrizatsSwLSELh37z4CR67ArZg47BJFRlMkSyqN7mYr6inmuntEE6RKrq38kdkyesaj02MVeRuNK4MR2Ah3okX5SOyfTxX76DWKZMWsN6oluj92QAJuJLDvzDU0/DIEVcUfBnPequ5GFW2jU5eftoiI2hkseKcmyuXLZBu54hNEhvWOkR5Gemz9EXojnJK1u87oNTh68ab6WqjIMJsvSxpvumBbEpCCwKyNR/HB/F3o/nRR9G9cXAqdrVJy7PK/8fWq/fhU5EJ62ea5kOj0WGUlNhpXBiOwEe5EibJX/PXaSPz16nl61iuKvo34Cz1RUPmyKwn0FVvA87afcMxVaidPwtLIU+j68za8Vr0ARrQoY2tVZFjvGOlhpMfWH6E3wn2zej9GL/tbzSw7e/NR5BLFE0MH1INfUuYf8YYj27qfQO3PV+H4pVvYObQRMqRK7n6FLdTwyIUbagS6csHM+K1rDQslSXhoOj0JM3J9CxmMwC2T2OKbMOw8dhnLegdhpKhwHLpPFJt9vQrqFMvuFhWpBwkkmsDpK7dR7ZOVKJkrA5b0qp3o/tjBkwkoh8YDhi9XG0UIJzOpjf8Ik2G9Y6SHkR5X/M46c/U2qo5aifziDM/ad+tiUcQp9PhlO5oF5MI37QJdoSOVIAE9CCzceVL9Npyw3aKHvnbo48Vv12PLkUsIefdp5M9q33OGdHrsYC0WyyCDEViMWJfhZ248gg/nR6JzrUIY/Gwp3L4bpzpBypXcjR/UR+a0KXQZh52QgNMJDF0QiZ/Cj+BrkSzvOZE0j4/xBIYI5tMF80ntA9GkTC7jB/RxBBnWO0Z6GOnx8fOw12udftiE1X+fwy/imnp1cV1deYb9GYUf1x/G0Oal0KlmIXsJTGlIwCICTb8Kxe5TVxE+sB5yZUxtkRRyDfvLpqMYOG8XetZ/Cn0bFrOt8nR6bDs15gkmgxGYR9OYkW7ciUWFj1YgjSicuOXDBkjm90+itaiTV9Ds63UokTO9enaBBRWN4c9enUPg6u27KC/OlyjOTtj79ZwjuMMl3SHOGrYUZw7tXudMhvWOkR5Gehz+6wRYsusUus3chlYV8mBsm/L/0efZ8aGIPHEVC7vXQtm8GR2vKxUggcQQWLv3HDpM24SW5XNj3Mv2rwWVGF3t9K6yzV566FLbO5t0ehKwmuXLl6NRo0Zqq8WLFz+2ddOmTe1kf17JIoMReAXEho09OUe+fSUQz5T973759PDDGLIgCu2r5cfIlmVtKD1FIgHzCIwRifLGi0R5I1uWEd9EAfMG5kioP2YNDpy7gZ1DGiFjGnumCZBhvUtUpKdMmTKIjIxUzblQofjPTChbCgcPHnSsyctgBI6dHCF4bNw9VPo4GDfvxGHbkIZIlzLZf9RRCv5VHhWMlKK20Gax9WX32jdOngvKbn8CL08Ox4aDF9W0DsXFti8f8wgoN+aUm3Oz36yGaoX/OXdot0eG9S5RTo+3E3bt2jWkT++sD00GI/B2Hu3UfsPBC3h58gbULZ5dZJetEq9oPcUvmz/FL5txYuurpdgC40MCMhKIib0n8sUsQwpx5m2HiDbYOV+MG+dn4pr9+Hzp3xgibpe+Lm6Z2vGRYb0z1enJkCEDrl69ase5fqxMMhiBoybkIWE9BUY/fr4MXqkaf7g+bP95vDJlI4uQOnmiKXuiCWw/egnPT1yPeiVyYFrHyonujx14R2DN32fR8YfNeKliXox+qZx3L5vUWob1zlSnR4nyKNEeJz0yGIGT5uNBWR8sMKrk4vEXZSfie5SMqEGjV6tp91mE1KmzTbkTS+D7kIP4ePEeDGhSAt3qFklsd3zfSwJnRQLVKiJ3WJk8GbCohz0zYcuw3pnq9DDS4+VXwuZPJPD36WtoPC4E5fJlwoJ3aj6x7VfB+/Bl8F6wCCmNSlYCb07fguW7z+D3rtVRqWAWWTFYprfyR1plcf7w6q1YRI1ojOT/S61hmUDxDEynR+fZoNOjM1DJu/MUGO3fqBi613vqiTROXL6FWp+tYhFSyW1GVvWVBbfiyGBcFzmtdg1rJA72+8mKwlK9X526Ua0JaNeD5HR6dDYPOj06A5W8uwcLjGq5ieL5hcMipJIbjoTqHzh3XVyZXuuISt9unp5PxPbid2Kb8cs25fB8hby2U5VOj85TwjM9OgOVuLuHC4xqybbsKbTIIqQSG46kqs/ZfBQD5u5Sz/IoZ3r4WEPgj+0n0HvODrwZVBgfNC1pjRBPGJVOj85TMmvWLLRr107nXo3tTgYjMJagMb0/XGBUyygsQqqFEtu4kUD/33bi963Hxa2tSuL2lr8bVXSETnvPXEOjL0NQq2g2/Nylqu1klmG90+0g80svvRRvbaOUKVMiX758eOGFF1CxYkXbTXJCAslgBAkxsOO/ewqMepvoi0VI7TiblMloAnXF7cXDF27aOhuw0Qzs0L+STLXU0GVIL5KobhnUwHb1AGVY73Rzenr27Inp06ejefPmqpNz7NgxLFy4EG3btsWlS5ewYMECTJo0CR06dLCD7WmWQQYj0AzDJg0fV2BUi3gsQqqFEtu4icDZa+Kq9McrUdw/PZb1CXKTao7UxVMP8ElpNqxSTIb1TjenR6mv9cEHH6BWrVr/zldYWBhGjhyJJUuWqLW5+vfvj927d1s1nz6NK4MR+ATGwpeeVGBUi1gsQqqFEtu4hcBiUZD3bVGQ95Wq+fHx86w/Z/W8vvf7Tvy65Th+6FQZTxfPYbU4/xlfhvVON6cnY8aMuHjxIvz8/v8qZGxsLLJkyaJmYb537x6UNkxOaCsbd6QwTyowqkUhFiHVQolt3EJg+MIo/BB2mGVYbDKhP4QdwvCFu/Fu4+J45+miNpHqHzHo9HgxHVWrVsXzzz+PAQMGqPuUSl6I0aNH47fffsPmzZtx4sQJVKlSRf2vkx4ZjMBJ8/FggdHtosBo2ocKjGrRhUVItVBiG7cQaD5+HXaduIJ1A55G3sxp3KKWY/XYKOoFthH1Ap8NyIUJ7QJtpYcM651ukZ6IiAi0bNlSjeTkzp0bp06dQtq0adWzPAEBAQgNDcX+/fvRqVMnW01yQsLIYAQJMbDTv2spMKpFXhYh1UKJbZxOQElGGDBsmVqiZf379Wx3cNbpfH2R/8qtuyg3fDkKZ0+LVf3q+tKFYe/IsN7p5vQos6BsZ61fv151eBTHp3r16kiWLJlhE2RGxzIYgRkc9RpDS4FRLWOxCKkWSmzjdALrRPbf9iILcPNyuTG+bQWnq+Ma+ZXs8EqW+KjhjZEmhX3WSBnWO92cnqlTp6J169ZQEhC66ZHBCJwyX1oLjGrRh0VItVBiG6cT+HLFXny1ch9GtCiN16oXdLo6rpH/DVEHbYWogzb/7RqokD+zbfSSYb3TzempWbMmduzYgWbNmuG1117DM888859DzbaZVS8FkcEIvERiWXNvCoxqEZJFSLVQYhsnE3hlygaE7b+AxT1ro1TuDE5WxVWye5zRUeI2XTtxq84ujwzrnW5OjzJpypmdmTNnqj9Kbp42bdqgffv2qFatml3m1Gs5ZDACr6FY9IKnwKhetx5YhNSiieSwphC4KxLhKWdH/MTFkh1DG8EvaRJTxuUgCRNYGnkaXX/eilerFcBHLcsk/IJJLWRY73R1eh6clw0bNmDYsGFYsWIF4uLiTJoy/YeRwQj0p2ZMj94WGNUiBYuQaqHENk4kEHH8Mp6bEIa6xbPjx05VnKiCa2U+dvEman++GhULZMbcbjVso6cM653uTs+FCxcwe/ZszJgxA5GRkWjRooUa+XHqI4MROGFufCkwqkUvFiHVQoltnEhg6rpDUA7+6xUZdSIDu8qsnE8MGLYc98R/dw1rLPLj2CMKJ8N6p5vTM2fOHNXRCQ4ORu3atdVtLaXeVrp06exqd5rkksEINIGwuJEvBUa1iMwipFoosY0TCXQT2ydLxDbKnDeroWrhrE5UwdUyt54Ujk2HL2JN/7oomC2tLXSVYb3TzekpV64cXn31VbWKunJd3S2PDEbghLnq+MMmrPn7HLwtMKpFNxYh1UKJbZxEQIkkVBb1tq7cilEjCamS/3+mfCfp4WZZhy6IxE/hR/DtK4F4pmwuW6gqw3qnm9OjzFhUVBRCQkJw/vx5NSOz5xkyZIgtJtQXIWQwAl+4mPmOWmB0xAqkSemHLR82QDK/pLoOzyKkuuJkZzYgcPj8DdT9Yg0C82fCvLdr2kAiivAwgdmbjuL9ebvQo15R9GtU3BaAZFjvdHN6fvrpJ3Tr1g3K1XUl+7KyxaX8V7m6Pn/+fFtMqC9CyGAEvnAx853EFhjVIiuLkGqhxDZOIfDblmN49/cIvBVUGAOblnSK2FLJ6Tlo3qBkDkzpUNkWusuw3unm9BQvXhzjx49Ho0aNkDlzZvXK+rx587B8+XJMmjTJFhPqixAyGIEvXMx8J7EFRrXIyiKkWiixjVMIDBAOzxzh+Hz/WiU0LOXvFLGlklM5T1hqyFLkVEqEDKxvC91lWO90c3oyZMigVlNXHqWyulJxXdniypEjB86dO6fbhB49ehS9e/dWD0wrFd0bN26s3haL77l+/Tr69++v1v+6deuWWhD1m2++QZo02ovuyWAEuk2OAR39W2A0Jg7bB/tWYFSLWCxCqoUS2ziFQL0xa3Dw3A1sE99MlrQpnCK2dHI2HLsW+85exw5RPDlTGuvnSYb1Tjenp1ixYlizZo16iDkwMBDjxo1DtmzZEBQUpJ7x0eO5e/cuSpcujY4dO6Jnz55ImTIllEKnFStWjLf7t956C4qT9Msvv6j/riRLLFCgACZPnqxZHBmMQDMMCxp6Cow+LXKN/GBwrhEWIbVggjmk7gQuXL+DiiODUTRHOgT3raN7/+xQPwKe3zmz3qiKGkWy6dexjz3JsN7p5vR88cUXKFy4MFq1aqVeXe/cubNa0XfgwIFqkkI9nilTpkCp8RUeHq6pOyXK9Pvvv6uOl/KsXbsWTZo0UaNQqVOn1tSHDEagCYRFjfQqMKpFfBYh1UKJbexOwJPtt22VfPikVYDdxZVavklrD+DTJdEY/GwpdK5VyHIWMqx3ujk9D8+WEmG5ceMGSpbU7xCd4kjduXNH3UYLCwtD0aJFMXr06H+dmodlUCJNc+fORZ06//y1s3r1atSrVw87d+5EQIC2XwYyGIHlX9pjBNCzwKgWHVmEVAsltrE7gZEiIeEUkZhwzEvl8ELFvHYXV2r51u49hw7TNuGFwLwY07qc5SxkWO8Mc3qMmD3lkPSqVavU22BKxEY5y9O9e3fs3bsX/v6PHtZTtsFOnTqFWbNmqeeL2rZtq54FUm6V1apVK14Rhw8fDuXH8yjvPXj93gi92Gf8BPQuMKqFM4uQaqHENnYm4CnXEvLu08ifVfv5RTvr5FbZzl27I/IpBaNUrgxY3Ku25WrS6TFxCurWratuPz3uURyPli1bQilzoTgtnqds2bIYPHgwWrdu/cirV65cQd++fbF06VIkS5ZMPdSsnAXavXu35giUDEZg4jR7NdSEVfvwxfK9pqbRZxFSr6aIjW1G4GZMrFreQDm8vPGD+uoRAz72JlBJnL9SkkhGDW+CFMn0zUHmreYyrHeOivQoSQ6Vw9JKAsQHnZ5Bgwaph5QTepYsWYLXX38dJ06cELVOtBmXDEaQEDer/t3zF+vyPkEo5p/eNDFYhNQ01BxIZwLrD5xHu+83opnI8PuNyPTLx/4EXhPbWyFim2uJiPSUFBEfKx8Z1jtHOT379+9Xz+Io53SUq+pKvS8lIWJ0dDRy5sz5iK0cOnRIvZ6uHGjesWOHur2lRH7efPNNzXYlgxFohmFiQ6MKjGpRgUVItVBiGzsS+HrlPoxdsRdDm5dCp5rWH4y1IyO7yfTJkj34bu1BjBVnelqJsz1WPjKsd45yehRjWLRoEfr166dGa0qUKIGxY8f+e5BZqeY+atQotRyG8vzxxx/qmR/ltlbevHnx3nvvoUuXLl7ZlAxG4BUQkxobVWBUi/gsQqqFEtvYkYAnSrmoRy2UyZPRjiJSpocILNhxAr1m70AXcXtrkLjFZeUjw3rnOKfHbIOQwQjMZqplPCMLjGoZn0VItVBiGzsRUBJ5lhu+XD3HoyS707tGnZ10dZMs+85cQ8MvQ1CzaFbM7FLNUtVkWO/o9CRgYjIYgaVfWTyDXxcFRgMNLDCqRV8WIdVCiW3sRCDyxBU8O34daj+VDTM6V7WTaJTlCQQUZ7XU0GVIm8JPzaBt5eFzGdY7Oj10emz3C+nfAqOBecQ+d3nL5GMRUsvQc2AfCPwYdgjDFu5G34bF0LP+Uz70wFesIvDchHWIOH4FG0QNrpwZU1klhnrB5969e5aNb8bAdHro9JhhZ16NYUaBUS0CsQipFkpsYxcC78zahr8iRF4ym5Q0sAsXJ8jhKRA7rWMl1CthXYFYOj1OsBaDZZTBCAxG6FX3ZhUY1SIUi5BqocQ2diCg5DGr9slKXLgeg4hhjZAmRTI7iEUZNBL4af1hDP0zytScZPGJJsN6x0gPIz0aP0tzmoUfuIC232+AGQVGtWjEIqRaKLGN1QSOXbyJ2p+vRrl8mbDgnZpWi8PxvSSw6dBFtP4u3PL8SnR6vJw4NzaXwQjsNG+eAqOjni+LdlXzWy4ai5BaPgUUQAOBeduOo++vO21x7VmDuGzyEIGrt++qmbQLZ0uLVf3rWsZHhvWOkR5Geiz7wB4e2OwCo1oUZxFSLZTYxmoCA+ftwi+bjmJS+4poUubRRK1Wy8fxEyZQ+/NVOH7plihH0diy7Uk6PQnPk+tbyGAEdplEKwqMatGdRUi1UGIbKwk0HLsW+85ex5ZBDZAtXUorReHYPhJ4a8YWLIs6g3lv10Bg/sw+9pK412RY7xjpYaQncV+Jjm9bUWBUi/gsQqqFEttYReDSjRhU+GiF5VsjVunvlnHHBe/FuOB9GNmyDNpXK2CJWnR6LMFur0FlMAK7EG8hclXsFLkqzC4wqkV/FiHVQoltrCCwYvcZvDF9C1pXyovPXyxnhQgcUwcCy6NO480ZW/GKOMv4sTjTaMUjw3rHSA8jPVZ8W4+M6SkwWiBrGqwRB/mszEoaHxAWIbWFmVCIeAh8slgUrAw5KByeAOH45CMjhxLw3MCrkD8T5r9tzQ08Oj0ONR49xZbBCPTk5WtfVhYY1SIzi5BqocQ2VhBoNTEM245exmrxx0IhcfuHjzMJKBc5AkTttLh79xE5rLHIjpzEdEVkWO8Y6WGkx/QPK74BrS4wqgUCi5BqocQ2ZhJQnPGyw5YhY+rk2PxhA9tFSM1k4YaxlFw9Ss4eqxxYOj1usKJE6iCDESQSUaJft0OBUS1KsAipFkpsYyaBjQcvoM3kDWhSOicmvVrRzKE5lgEEPH9YfdMuEM0CchkwwpO7lGG9Y6SHkR7TP6yHB7RLgVEtIFiEVAsltjGLwDer92P0sr8xqFlJdKld2KxhOY5BBH7dfAzvzY1A96eLon/j4gaN8vhu6fSYjtx+A8pgBFZT9xQYndQ+UCRWM/+vG2/0ZxFSb2ixrdEEPNvCf3aviYC8mYwejv0bTGCXuL3aXNxirVciB6Z1rGzwaI92L8N6x0gPIz2mf1gPDminAqNaQLAIqRZKbGMGAeXAa/kR/xx8jRjaCMn8kpoxLMcwkIByRqv00GXIkT4lwgfWN3Ck+Lum02M6cvsNKIMRWEndbgVGtbBgEVItlNjGaAJ7Tl3FM1+FombRrJjZpZrRw7F/kwg0+nIt9p65ju2DGyJz2hQmjfrPMDKsd4z0MNJj6kf18GAjFu7GtLBDsEuBUS0wWIRUCyW2MZrAjPDDGLwgCr3qP4U+DYsZPRz7N4lA79nb8ceOk5jVpSpqFM1m0qh0ekwFbefBZPB8reKv5KUIGr0axy7ewqYP6iNHhlRWieLVuCxC6hUuNjaIgCfi+HPnqqj1lLmLo0EqsVtB4Lu1B/DJkmhLDqfLsN4x0sNIj2W/aOxaYFQLEBYh1UKJbYwkUOOTlThz7Q52ivM86VImM3Io9m0igdB95/Dq1E1oFZgHY1uXN3Fkbm+ZCtuug8ng+VrF3q4FRrXwYBFSLZTYxigCiv3V/HQVyubJiIU9ahk1DPu1gMD563dQaWQwSuRMj6W9g0yVQIb1jpEeRnpM/ageHMzOBUa1QGERUi2U2MYIAgt2nECv2TvQqWZBDG1e2ogh2KeFBKp8HIxLN2MQNbwJUiQz71YenR4LJ90uQ8tgBFawtnuBUS1MWIRUCyW2MYLAoD924ecNRzHxlUA0LWvv3FZG6O/2PjtM24S1e8/hr561UDp3RtPUlWG9Y6SHkR7TPqgHB/IUGO1SqxAGPVvKEhkSOyiLkCaWIN/3lUCTcSGIPn3NURcAfNVVxvc+WxqNb9ccwBcvlcOLFfOahoBOj2mo7TuQDEZgBX0nFBjVwoVFSLVQYhs9CSgJMst/tBz5s6TB2nef1rNr9mUTAn/uPAnldt7rNQthSHPz/iiUYb1jpIeRHtM/c6cUGNUChkVItVBiGz0JrIo+g9d/3IIXAvNiTOtyenbNvmxCYP/Za2gwNgTVC2fFL2+al3iSTo9NDMBKMWQwArP5Lt51Cm/P3GbJlUwjdGURUiOoss/HEfBsfXzaqixerpKfoFxIQCktUnroUqRK7qdmZk6SJIkpWsqw3jHSw0iPKR/Tg4M4qcCoFjgsQqqFEtvoReClSeux+fAlBPetg6I50unVLfuxGQHP7db179dD7kypTZGOTo8pmO09iAxGYOYMOK3AqBY2LEKqhRLb6EFAOTwfMGw50qb0wzYTIwB6yM4+vCMwcF4Eftl0DFM7VEL9kv7evexjaxnWO0Z6GOnx8fPw7TUnFhjVoimLkGqhxDaJJbDlwu4Y5wAAIABJREFU8EW8OCkcDUv54/vXKiW2O75vYwKeCHI/UVeth6ivZsZDp8cMyjYfQwYjMHMKnFhgVAsfFiHVQoltEktAucasnOn5sGlJvBFUOLHd8X0bE/A4uE3L5hT5mCqaIqkM6x0jPYz0mPIxKYM4tcCoFkAsQqqFEtsklkDnHzdjZfRZzH+7Birkz5zY7vi+jQkot1zLDF2GglnTYI1JqQno9NjYIMwSTQYjMIulp8Bo+XyZ8Mc7Nc0a1rRxWITUNNRSDqQ41hU+WoE7sXGIGNrY1PIEUgK3gdJ1Rq/G0Ys3sWtYY1OKysqw3jHSw0iPaZ+2kwuMaoHEIqRaKLGNrwT2nrmGRl+GoFrhLJj9ZnVfu+F7DiLQdcZWLI06jbndqqNigSyGS06nx3DE9h9ABiMwaxacXmBUCycWIdVCiW18IeAp3dKjXlH0a1Tcly74jsMIfL1yH8au2IuPWpbBq9UKGC69DOsdIz0mRnpiYu+JJFNAcj/zquYa/pVoHMANBUa1qMoipFoosY0vBPrM2YH520/gp9eroE6x7L50wXccRmDF7jN4Y/oWtBVJKD8RySiNfuj0GE3YAf3rZQTHL93EOyILcTWRVnyguHkh2+OGAqNa5oxFSLVQYhtfCNT6bBVOXr6FnUMbIX2q5L50wXccRkDZMq/56SqYdQ5Sr/XOzpgZ6TEp0qMYb9OvQnHl1l380Kkyni6ew852obtsngKjc0QdmarC8XPzwyKkbp5da3Q7deUWqn+yCqVyZcDiXrWtEYKjmk5AufFabvhyxMTdQ9TwJvBLamw5Cjo9pk+x/QbU0wg8ocosaVNgcc/ayJkxlf0UNkAiNxUY1YKHRUi1UGIbbwh4tk07VC+A4S3KePMq2zqcwMuTw7Hh4EWs7FcHRbIbW3ZEz/XOrtgZ6TEp0uMZxhMFUG5gzOxSzXDP3Q6G57YCo1qYsgipFkpso5XA0AWR+Cn8CMa3rYDm5XJrfY3tXEBg+MIo/BB22JS5p9NjM4Pp2rUrfv7553+lio2NRUxMDM6ePYts2bLFK+3QoUPx7bff4s6dO3jhhRcwceJEpEqlPcKitxEoOTZe+HY9Ik9cRe8GT4mfYjajrL84ngOYk9oHokmZXPoPYMMeWYTUhpPiYJGUrfHdp64ifGA95MpoTvFJB+Nylei/bjmG936PwNt1i+C9JiUM1U3v9c5QYX3s3NGRngEDBmDr1q0IDg6OV/0ffvgBH330kfrvGTNmRIsWLVC1alWMGTNGMy4jjODQ+Rt49utQ3BLFA2e9UU093OzWRykwWnFksKrrdlEgMW3KZG5V9T96sQipFNNsipJXb99Vz3XkEZW21w2oZ8qYHMQ+BCJPXMGz49eJc6DZxXnQKoYKZsR6Z6jAPnTuWKcnLi4O+fLlwxdffIF27drFq3rt2rXx0ksvoWfPnuq/r1ixAi+//DLOnz8vro5rOxBmlBEs2HECvWbvgH+GlOr5nqzpUvowffZ/xVNgtF6JHJjWsbL9BdZRQhYh1RGmxF2t+fssOv6wGc9XyIMv25SXmIScqiu7A6WHLBNrRAps/KCBoRCMWu8MFdrLzh3r9CxatAjt27fHqVOnkDp1/OFeJbrz559/ok6dOiqWc+fOIUeOHDh+/Djy5MmjCZWRRjBAhCzniNBlXeHBT+tQGUkNPpmvSWGdG7m1wKgWTCxCqoUS2yRE4Itlf2PC6v34+PkyeKWq8QnqEpKH/24+gSbjQhB9+hq2Dmpg6B/IRq535lOLf0THOj2tWrWCv7+/el7ncY+fn5+6/VW+/D9/Hd29excpUqTAnj17UKJE/Hujw4cPh/LjeZQrg8qPEc+tmDg8N2Ed9p29jg+alsCbQUWMGMayPt1cYFQLVBYh1UKJbRIi0Oa7cGw8dBHL+wShmH/6hJrz311IwHMu8ufOVVHrqfjPr+qhNp0ePShq7KNu3bpYu3btY1s/6HgoERslUhMWFobKlR+/ZaJEehYuXIigoCC1X2VbK3v27LaJ9CgyKUU4FccnThQT/K1rdVdVTnZ7gVEtps0ipFoosc3jCChZ3MsOW4ZUyf3UM3FujAZz9hMm8H3IQXy8eA8+FIlt3wgqnPALPrag0+MjOKNf+/LLLzF16lRERkY+cSjlTE/r1q3Ro0cPtZ1yoLlNmza2ONPzoOC/bDqKgfN2IW/m1PhLnO/JmNod2VbdXmBUi52zCKkWSmzzOALbjl5Cq4nr0aBkDkwRW+B85CSwbt95tJ+60fBzXXR6bGpfAQEB6NixI/r27ftECadNm4ZRo0apB5iVqE/Lli3VyJDVt7ceFlqJYvX4ZTsWRZxC07I58U27QM0HrW06RapYMhQY1cKfRUi1UGKb+AhMDjmAUYuj8f4zJdC1jru2vznj2glcuH5HvQVbImd6LO39z86FEQ+dHiOoJrJP5YxO9erVceLECXWr6sFHcXBCQ0OxZMmSf//fSp4eJTePJ0+PcgbIyjw9j1P/mriW2uzrdTh68SZGioq67U2oqJvIqXji67IUGNXCkEVItVBimwcJKOfBjol6fQPmRqjZeOd2q46KBbIQksQEqo4KxoXrMYga0Rgpk/kZQoJOjyFYndWpmUYQcfyymrhQuU6/4J2aKCnq7Dj1+XnDEQz6IxJdahXCoGdLOVUNXeRmEVJdMLq2kxt3YtWbOXtE8kHPj3Ie7oa46KA8qZInVYuMGrXQuRasyxTr9MMmrP77HBb1qIUyeTIaop2Z650hCmjo1LG3tzTopksTs41g6rpD+GjRblFjJS3+7F7Lscn8ZCowqsXQWIRUCyV3t1G2sY9fuvU/x+Z/Ts7pqzhy4eYjiqcXSTxL5EovtjMyoHHpnIbe2HE3dfdo9/nSaExccwCfvxiA1pXyGaKY2eudIUok0CmdngQAmW0Eyi/GN6ZvQfCes3ghMC/GtC5nhV0kakxPgdG0Kf2w+cMGSOaXNFH9ueFlFiF1wyxq10FJR/H3mf9Gb6JPXcM1EdV5+CmQNQ1KCudGcXKU6K5SSV251KA1gap2qdjSyQQWRZxE91nb0almQQxtXtoQVcxe7wxRgk5P4rBaYQSXbsSgqShTcerKbYwVTk8r4fw46ZGxwKiW+WERUi2UnNVG+SPlpPhOo//dmvrH0Tl04YbI7/VfXdKk8FMPoiqOTQnVuUmP4sLZSSdJaRZnzaz9pD1w7jrqj1mLqoWyYM5b1Q0R0Ir1zhBFntApIz02i/R4xNkkkpG9PDlczc+xUOzhFsmezmzb8Hk8GQuMaoHFIqRaKNm3jXI2a6+I3igRG6X4p+LcKGdxrty6+4jQSqRGcW5K/s/JUf53/ixpmGfHvtNre8mUXG6lhy5FChE5V854GREJpNNjezMwXkArjWD8yn0Ys2Kv+stz/ts1VAfI7o+sBUa1zAuLkGqhZH0bJXpz5uod7BHnbf45WPxP9Oag+EtbrDv/eZRDxkq0RonaKOdv/onipEeGVO7ItWX9bFCCBwm0/CYMO45dRtj79dQCtHo/Vq53euvyuP4Y6bFppEcRS/HslRwv6w9cwGvVC2BEizJm2YXP48hcYFQLNBYh1ULJvDZKMcd9Z64/cnvq0s1Hoze5M6b616lRozjip2DWtPBzYc0882aAI3lDQEliqySz/f61SmhYyt+bVzW1pdOjCZO7G1ltBGev3sYzX4XigjjnM6l9IJqUyWVr4J4Co5+0Kou2VfLbWlYrhGMRUiuo/zOm4uAoOW8ePH+jnJOIfSh8kyKZiN6IGlee8zf/ODjpkSlNCuuE58gkIAjMEKlABotUIH0bFkPP+k/pzsTq9U53heLpkJEeG0d6PKKF7D2H16ZtEiHzZGqZinzibIAdH9kLjGqZExYh1UJJ/zZK1FQ5I7f58KX/dO6fIeU/0Rt1ayq9enOqULa0vHGo/xSwRx0IbD1yUeRyC0cTkcZg0qsVdejxv13Q6dEdqfM6tIsRfCZyNHwrcjRUyJ8Jv4qT+8lteA08WpyBaDIuFOXzZcIfIrkin/gJsAip+ZYxJfQgRv61R43gvFQp7z+HjMVPlrSM3pg/GxzRVwJKOhClAK1yKH7tu0/72s1j37PLeqe7Yg90yEiPAyI9ioh34+6hzXfh2Hb0Mt6qUxgDnylppF341DcLjGrDxiKk2jjp1erw+Rto8lUI7t0DFveqhaI50uvVNfshAdMJ1B29GodFQstdwxohvc4H5un0mD6d9hvQTkZwXNTiaSrO91y9HYsfO1VG3eI5bAXMU2B0RZ8gPCX+oubzeAIsQmqOdSjbie2mbFDP8vRvVAzd6+l/DsIcTTgKCfxD4O2ZW7F412n83rU6KhXUtx6bndY7o+abkR6HRHo8Yi6LOo23ZmxFVhGWX9yrNvwzpDLKNrzqlwVGvcIFFiH1jpevrWdtPIoP5u9St7L+7F7TltvCvurG9+Qk4EllMqJFaXGrt6CuEOj06IrTmZ3Z0QiGLojET+FHUL1wVvzcpaotrsyywKh39s0ipN7x8qX1qSu30HBsCG6JpIJKAV+jijT6IhvfIQFfCazccwadf9oibsfmwyetAnztJt737Lje6aqg6IyRHodFehRxlQWz1cT1alZYo64uemtoHcTtsrXiltmcN6uhqnDG+CRMgEVIE2bkawvlJqGyMKyKPotudYtgQJMSvnbF90jAVgROXr6FGp+uQrm8GbFAFKXW86HToydNh/ZlVyNQssM+O36d6gD98oa1jgYLjPpm3CxC6hs3LW8t2HECvWbvQGFx/VzZBnZCNnMterENCSgOfYWPVkApahs1vLGu6RXsut7pOeuM9Dgw0uMR+Y/tJ9B7zg5xricllvQKsuz6rafAqFOrwuv5QXnbF4uQekss4fbnr98R21prcVnUxFLSO1TW+bBnwhKwBQkYS6Dt5A0IP3gBwX2DdL2NSKfH2HlzRO92N4J3f9uJ37YeR70SOTC1QyVDitAlNFEsMJoQocf/O4uQ+s7ucW/2+GW7elC8gyjdMtwBpVv0J8Ae3U7Ak/n+67YV8Fy53Lqpa/f1Tg9FGelxcKRHEf1mTCyemxCG/WevY1CzkuhSu7AedqG5DyV/UKWRweph0e2DGyJtymSa32VDgEVI9bWCFbvP4I3pW9RijMtF6gTao7582Zs9CPwu/tDtL/7g7VqnCN5/Rr/zanR67DG/lkrhBCNQMiG3EI7PPbHX+3vXGignMiKb9bDAaOJJe4qQvtekON6uWzTxHUrawxWxnaVsa529dgfTX6+CoGLZJSVBtd1OYO+Zaxi6IArPlc+ta41DJ6x3iZ1bRnocHunxiD9z4xF8OD9S1OVKrdbnyqBzps7HYWKB0cR+goDyC+y5CetE1u37mClSEFTj7TefoL4/NwKzNx/DixXz4ouXyvnUB18iAZkJ0OmRefb/p7tTjEA50d991nb8tesUmgXkwgSx15skSRJDZ/A/BUY/rI8c6e2RKNFQpQ3qfP724+gzZyeypUspnNZatkk6aZC6unfrqV6v8FMOd7Iiuu6I2aEEBJyy3iVmKhjpcUmkR1Hj6u27aPZ1KI5dvIVRz5dFu6r5E2MbCb7LAqMJIvKqweA/IjFjwxFx2ygzZok0BHYsKuuVQiY1Vs61NR4Xotr9pPaBaFIml0kjcxgScBcBOj3umk+ftHGaEew8dhkvTlqPpCLKs0Ck3S+RM4NPemt5yZMO/d3GxfHO0zyLooXZk9rciY1D6+82QJnDLrUKYdCzpRLbpRTve7ZYm5bNiYmvVJRCZypJAkYQcNp65wsDRnpcFOnxqDIl9CBG/rUHRbKnxcIetZAmhTE3qlhg1JdP7snvKBXYnxXRuks374oFPBBNyzJq8SRiW49cUp185QzbCrGtxS1W/W2SPcpDgE6PPHP9WE2daAQPpuB/SRzqHG3AoU5PgdGCWdNgdf+6hp8fkskUQ0Q5jw4/bEKa5H74UzitRbKnk0l9zboqkbFmX69T0zWMETb+grB1PiRAAr4TcOJ65622jPS4MNKjqHTxRgyafhWK01dvY1yb8mhZIY+3tvHE9iwwqivORzr7euU+jF2xF0/lSIc/RLFM5pt5lPeY5X9j/Kr9qCOupv/YqTIdb2NNkr1LQIBOjwSTnJCKTjaCjSJNedvvNyC1iBgsEtfYC4k6RHo9LDCqF8n4+7l37z5e/2kz1vx9Ts24+tXL5bmoP4Bq98mr6jX/lMmSYnnfOmoyQj4kQAKJI+Dk9U6r5oz0uDTS41Hrq+B9+DJ4L0rnzoB5b9cQi4SfVtt4bDsWGE00Qk0dXL4Zo27fKOd8RrQojdeqF9T0ntsbxYos4C0nhiHyxFV8JLi8Si5un3LqZxIBOj0mgbbzME43gjgRMWg/ZaNanK5jjYIY9lzpRONmgdFEI9Tcwa7jV/CCOKirnNOaI4pnBubPrPldtzb8ds0BfLY0GlVEIdHZb1ZD0qTG5qNyK0fqRQIPE3D6eqdlRhnpcXmkR1FPOXSsnO+5IM75TGpfUeQxyanFNh7b5v8LjCa+r0QJIsnLszcdxfvzdiFnhlRq4sKsIgGfrM+Bc9fxjLBlxc1Z0qs2CvOQt6ymQL0NIECnxwCoTuvSLUaw5u+z6PjDZnG1NxkWi8Uib+Y0Pk0FC4z6hC1RLylRnvd+j8BvoshgzaJZRV2pqvCTMLqhnHNqMzkcmw9fUossKsUW+ZAACehHwC3r3ZOIMNIjQaTHo+InS/bgu7UHxRZJJnWrxJeMv+sPnEe77zeiXokcmNaxsn5fG3t6IoHboor98xPXY8+pq+guEkH2FwkhZXumhx/GEFFksWyejJgvzqcl80sqGwLqSwKGEqDTYyheZ3TuJiNQojStvwvH9qOX0a1uEQxoUsLrSWCBUa+R6fbCkQs38Oz4dbh2OxZTO1RC/ZL+uvVt946OX7qJxl+G4E7sPfzZvRZKiYP5fEiABPQl4Kb17nFkGOmRKNKjqHrs4k21PtdVsXBOf70KgkSOE62Pp8Do8Uu3sPEDFhjVyk3Pdit2n8Eb07eo25SLetRGfpEc0u2PYncdxNaskrSxZ72i6NtIviiX2+eY+tmDAJ0ee8yDpVK40QiWRp5C15+3iYreKdTzPVpT93sKjFYQ22Pz365p6bzIPPjn4ubSRHGDSUlDMLdbDaQSeZjc/PwuzjL1/22nmqhxkTjIrUfaBTfzom4k4CsBN653D7NgpEeySI9HXU9F7xpFsmJGZ20HY1lg1NdfJfq+p+SpeW3aJqw/cAFtKuXDZy8G6DuAjXo7e+02Go4NEZHJu6qDxyv7NpociuI6AnR6XDel3ivkViN48GBsv4bF0KP+UwnCYYHRBBGZ1uD89TuiMOk6tczIZy+URZvK+U0b28yBuv28FUsiT6OzqDo/mFXnzUTPsSQk4Nb17sGpZKRH0kiPoraS86S5OBirOECz36yOKoWyPJYGC4za7zegUmG8jTiYriTnmyeiIGXErSY3PUt2nUK3mduQP0saLO1dG2lSJHOTetSFBGxHgE6P7abEfIHcbgTzth1H3193IlfGVFgs6nNlTpsiXsieAqNv1C6ED5uVMn8iOGK8BH4MO4RhC3eLvEupxcHmWsiUJv75cxo+pQRHA7GtpUS0ZnWpihpFszlNBcpLAo4j4Pb1TpkQRnokjvR4VO8nnJ65wvmpL3LvTBFXoZMkeTStv6fA6K8iv8+TIkKO+8odLrBys6nn7B1YuPOkmjtpymuVXFGWwWOTL1fOh09fcO+ZJYebH8V3GQE6PTab0K5du+Lnn3/+V6rY2FjExMTg7NmzyJbt0b8Ef/31V4wbNw47duxAqVKlsGXLFq81ksEIbtyJRXNRsfrguRvquQnl/MSDDwuMem02pr6gzF+Lb8Kw/+x19G9UDN3rJXw+y1QBvRzMkz3cP0NKrBAV1DOkSu5lD2xOAiTgCwEZ1jtHR3oGDBiArVu3Ijg4ON75Vf7/Fy9exL59+zB//nw6PU/4CpRMv8rCqUQOlFsyAXkz/duaBUZ9+fVh7juKw6McNL8pzmcp+ZdqP6U9/5K5kj55NMXBVpIQKpXllahVg1LyJGC00zxQFjkJ0Omx8bzHxcUhX758+OKLL9CuXbsnSvrjjz9iwoQJdHoSmM8ZG45AucpeQCS8U86HpP/fX9gsMGrjD+EB0RZFnET3WduRRZzLUuYvd6bUzhD8ASmHLIjE9PAjaF4uN8a3reA4+SkwCTiZAJ0eG8/eokWL0L59e5w6dQqpUz/5lzudHm0TqUR53ha3ZZQrws8G5FIXnVhR5LHSyGDcEhGEHUMa8gaNNpSWtfKUCSmfLxOU81cpkjmnPtWmQxfVMimK07aiT5DU1eQtMyAOLDUBOj02nv5WrVrB398f3377bYJSeuP0DB8+HMqP51EcAeVHlufKrbtqmQql1MQnrcqqUR8WGHXO7Cv11dpO3oAt4jr7a9ULYESLMo4QXkmb0PSrUBw8fwNfvVweLcrncYTcFJIE3ESATo+Js1m3bl2sXbv2sSM+6HicO3cOefLkQVhYGCpXTrjStzdOz8MCyGAED+u8/eglvDQpHH4i/0t1kbF5zd/nVAeobRV3JsAz0cxNGUrJqaQ4ruevx2Bcm/JoWcH+DsSnS6Ixae2BJ94gNAUeByEBiQnIsN458iDzl19+ialTpyIyMlKTedLp0YTpP40mhxzAqMXR6v9PucHOAqPeM7TyjXBRouKVKRvUOlV/vFMTxXOmt1KcJ4696/gVtJwYhjSihphyWyunyBnFhwRIwHwCdHrMZ65pxICAAHTs2BF9+/Z9YnvlsPPdu3cxY8YMTJo0SY0MKTloUqZMqWkcpZEMRhAfjHviLM/rP21WozwsMKrZXGzVUImcKBGUwtnSYkH3mv8eTLeTkMp23HMTwqDcHmQ00U4zQ1lkJCDDeue4SI9yRb169eo4ceIEsmf/77XcUaNGITQ0FEuWLFHtVYnwdOrU6T+2W6BAARw+fFizPctgBI+DcUFkw1Wy/b5UMS+CijnzCrTmiXZhQ2VL+K0ZW7F89xk8UyYnJr4SGG/iSStV9xSxrV44K2a9UdV28lnJhmOTgNkEZFjvHOf00AjMJsDxnExAqU7+nKivdvjCTQxqVhJdahe2jTr7zlwTZ4/WiWgqsKx3kDg0n9Y2slEQEpCRAJ0eGWf9IZ1lMAJOs7sJKFtHz4szM3fj7uOXN6rZooxInNg+fXHSemw/etl2zpi7rYHakcDjCciw3jHSk8AXIIMR8JeA+wnM3Xoc/X7biezpU+KvnrWQI721h4WnrjuEjxbthpJPSMkArtwU5EMCJGAtARnWOzo9dHqs/co4umkEPpi/C7M2HlUjPUrl8mR+1iQuPCq22hqPCxGJL+8JB6w2ivnb92aZaZPDgUjABgTo9NhgEqwWQQYjsJoxxzeHwJ3YODX/UoS4Iv5mUGF80LSkOQM/MIpyuLr91I0I238BfRoUQ68Gzi6OajpADkgCBhKQYb1jpIeRHgM/IXZtNwLHL93Es+Jg8+WbdzGpfSCalMllqohzNh/FgLm7UELkDfqzey1HlckwFRQHIwELCNDpsQC63YaUwQjsxpzyGEtgzd9n0enHzUibIplwPGqicPZ0xg74v96VTNENxq7FDVFJXUmYGJA3kynjchASIAFtBGRY7xjpYaRH29fAVq4iMC54L8YF70NxcZ5m/js1DC8kq2xrvTF9K4L3nMFbYmttoAVba66aQCpDAgYQoNNjAFSndSmDEThtTihv4gkoGbeVaM/avefwvKjNNbZ1OUMTAy7ceRI9ftmOQiI79JJetZFKlJzgQwIkYC8CMqx3jPQw0mOvr47SmEbg0o0Y9XzPicu38FHLMni1WgFDxr4oxmkotrUuiP/OebMaqorsy3xIgATsR4BOj/3mxHSJZDAC06FyQNsQ2Hnssnqj6774v9+61lDz5uj99Jq9HQt2nET7avkxsmVZvbtnfyRAAjoRkGG9Y6SHkR6dPhd241QCMzcewYfzI5FbVDdfJPLmZEmbQjdVVoozPJ1/2qL2vaxPkC2LnuqmLDsiAYcToNPj8AnUQ3wZjEAPTuzDuQSUQ8b9f4vA3G3HUfupbPixUxVdMiQrdb8ajQ3BaXFr64dOlfF08RzOhUTJSUACAjKsd4z0MNIjwadMFRMicCsmTq3PFX36GnrWK4q+jYon9EqC/+7JAN1KOSjdpnyC7dmABEjAWgJ0eqzlb4vRZTACW4CmEJYTOHz+BpqLg83XRB6daR0roV4Jf59lCj9wAW2/34Bs6VJgRZ86yKzjlpnPQvFFEiCBJxKQYb1jpIeRHv4aIIF/CSyPOo03Z2xFxtTJsahHLeTLksZrOkrUqMlXITgiamx90y4QzQLMzfrstcB8gQRIQCVAp4eGIIURcJpJ4EECny6JxqS1B1AmTwb8Lm50eZtT5+O/duP70ENoXNpflLqoaGj+H84cCZCAfgTo9OjH0rE9yWAEjp0cCm4Igdi4e2pR0A0HL6JtlXz4pFWA5nF2iCvwrcTZoHQpkyG4bx3kyJBK87tsSAIkYC0BGdY7bm9xe8var4yj25LAuWt30OzrUJwV//38xQC0rpQvQTmVKu7KmaC9Z65rfifBTtmABEjANAJ0ekxDbd+BZDAC+9KnZFYS2HL4Il6evEG9vj7v7RoonTvjE8X5csVefLVyn3rtffrrVbitZeXkcWwS8IGADOsdIz2M9PjwafAVWQhMW3cIIxbtRn5xoHlh91rImCZ5vKpHn76KZ79ehxTJkmJZ7yCfDkDLwpR6koBdCdDpsevMmCiXDEZgIk4O5TACSuLC7qJQ6F8Rp9CgZA5MfrWSONyf5D9aKGeAWn27HhHHr2BY81LoWLOQw7SkuCRAAgoBGdY7RnoY6eHXTgJPJHBd5O1pMWEdDpy7gXcbF8c7Txf9T/vJIQcwanE0KhXIjF/fqv6IU0S8JEACziBAp8cZ82SolDIYgaEA2bkrCOw7cw0PJ13tAAAXVklEQVQtvgnD7btxmNG5KmoWzabqdUgkNGwyLkSUKwUWi7pdRXOkc4W+VIIEZCQgw3rHSA8jPTJ+29TZBwJ/7jyJnmKrK6vIrryoZy34p0+lZl3eeOhivBEgH4bgKyRAAhYSoNNjIXy7DC2DEdiFNeWwP4Fhf0bhx/WHEZg/E54rlxvDFu4Wt7oy4I93aiK5X1L7K0AJSYAEHktAhvWOkR5GevgrgAQ0E4iJvSeusYdj29HL6jvKdfYFwuEpk+fJ19k1D8CGJEAClhGg02MZevsMLIMR2Ic2JXECgVNXbqnX0y/ciBGHmouIra0SThCbMpIACfCPfDDSQyPgLwIS8JqAkpcnZO85dKhRECmT+Xn9Pl8gARKwHwEZ/sin00Onx35fHiUiARIgARIwnQCdHtOR229AGYzAftQpEQmQAAmQgNkEZFjvGOlhpMfs74rjkQAJkAAJ2JAAnR4bTorZIslgBGYz5XgkQAIkQAL2I/B/7Z0LtE1VF8dXyasXKY/yKpVEJL1RGoQoEjH0UKkokgoxPKJCQoYoUqikUEKFPKNCoRr0oJBHEaGiJI/CN35zjH2/fY9z77nnOnff8/ivMQzcu89ea/3WOmf+z5xzr5kK9k6eHnl64u+dpxGJgAiIgAgETkCiJ3Dk8ddhKmyC+KOuEYmACIiACARNIBXsnTw98vQE/b5SfyIgAiIgAnFIQKInDhcl6CGlwiYImqn6EwEREAERiD8CqWDv5OmRpyf+3nkakQiIgAiIQOAEJHoCRx5/HabCJog/6hqRCIiACIhA0ARSwd7J0yNPT9DvK/UnAiIgAiIQhwQkeuJwUYIeUipsgqCZqj8REAEREIH4I5AK9k6eHnl64u+dpxGJgAiIgAgETkCiJ3Dk8ddhKmyC+KOuEYmACIiACARNIBXsnTw9EXbVcccd5/gTi3bkyJGY3SsW40nWe4hzMCsrzuIcDIFgetF+dg4G/EnmJtET4OqmgooOEGeGXYlzMKsgzuIcDIFgetF+DoZzbvci0RPgCuhNFQxscRbnYAgE04v2szgHQyA1epHoCXCd9eEVDGxxFudgCATTi/azOAdDIDV6kegJcJ2feuop16dPnwB7TM2uxDmYdRdncQ6GQDC9aD8Hwzm3e5Hoye0VUP8iIAIiIAIiIAKBEJDoCQSzOhEBERABERABEchtAhI9ub0C6l8EREAEREAERCAQAhI9gWBWJyIgAiIgAiIgArlNQKIngBX4999/3SOPPOImTpzoeBLjvvvucwMHDtRBhVGwP3DggOvQoYObP3++++2331ypUqVct27d3D333GN3+euvv1zbtm3dzJkz3cknn+y6dOniOnfunNbDL7/8YtwXLVrkihYt6vr37+/uuOOOKEaQepfu3LnTXXjhhe7ss892X375pQGIxHH16tXu/vvvdytXrnRly5Z1w4cPd3Xr1k09eFmc8dSpU+3hhg0bNrgiRYq4QYMGudtuu037OYv8snLZ5s2b3UMPPeQWL17s8uTJ4+rXr+9GjBjhChUqJM5ZAZhk10j0BLCgfKjNmjXLzZgxw+3fv9+MAAb84YcfDqD35Ohi7969JhTvvvtuV65cObds2TLXoEEDN2XKFFe7dm37+e7du9348ePdTz/95OrUqePGjh3rGjVqZABq1arlKlWq5IYMGWKv5ecIoKpVqyYHoByYxZ133ukwGLD3RE9mHBH3iKR7773XBOd7773n2rRp49auXetKlCiRAyNM7FsuWLDA3XXXXW7ChAmuRo0abteuXbaHzzvvPO3nGC5t48aNXb58+dy4ceMce7Rp06auYsWK7sUXXxTnGHJOlFtJ9ASwUqVLl7ZvFrz5aKNHj3YjR450K1asCKD35O2CDy9EC16d0047zX3xxReuSpUqNuGePXs6vA7Tpk1z69evdxUqVHDbt2+3b9M0vDzFihVzQ4cOTV5AxzCzuXPnun79+rnWrVvb3kX0ROL40UcfuZYtW7pff/3VvlHTMOYtWrQwT6daegI1a9Y00YOH0t/++ecf7ecYbhY+E3r16mX7kMZ+njx5svvwww/FOYacE+VWEj05vFJ8e8PQbtq0ydz9NIwzxoCQTazqeuXwNOLu9njM+EY8bNgw8/xcfvnl7uDBgxY+pPGh1qNHD7du3ToTPp06dXIbN25Mm8fgwYMdhn3evHlxN7fcHhBGt1q1auZFY6/yjRjRE4kjAvKDDz5wCxcuTJsCYQXWBaGv9n8Chw4dcgULFjRhiUdyz5495p1kP+Op1H6O3W557bXXLOzN3+zFZs2auYYNG5rHXZxjxzlR7iTRk8MrRXigTJky5rouXLiw9YYhLl++vNu3b58rUKBADo8g+W5PQbxWrVpZfgnehSVLlli4itCA1xAzXIPXgZAXYS3yTLyGEcbYLF26NPkAHeOMunbtap6aAQMGuNdffz1N9ETi2LdvX/fVV19ZWMtreNzwEE2aNOkYR5VcL9+6dasrWbKkeSqnT5/uTjnlFAu15M+f30Lf2s+xW2/Cq+T+Edbms4NwOCJo+fLl4hw7zAlzJ4meHF4qz9PDtzfED41vzdWrV5enJxvs+dBq166dGVeSmklGJEzINzbi9Z7n7N1333Xdu3dP8/SQY0KyqNeee+45N2fOHHl6Qtbg66+/ds2bN3f8jSfCL3rw9GTGEU8PBpxcFa9hwPFoytOTHjQCnZDsmDFjLMGexp4mZ4pcM+3nbHw4hHnJ4cOHzRNMOJsQ13///ecQ9Vu2bHFPP/20OMcGc0LdRaIngOUip4ccHi+plg864srK6YkOPoKHcAneGTw8GA2alwOBmKxcubL9jA+4VatWZZjTQ5IuT3Eppyf9Gjz//POWD4XngYY3Er6nn366fTu+6qqr0uVG+TmyJjx5hHfNCzOSt4KIUk7P0XudL0FPPvmkJX57oufaa691O3bssJC49nN0nw/hruZJT97n27ZtS0um//bbb83DxhOf4nzsjBPtDhI9AaxY7969LX+Eb8HkotSrV8+1b99eT29Fyd577BRPAkbY30gI5UPMe3rr+uuvN++CJzQxJggiPDzkqdx44416eisMfwQOHL329ttvWy7E7NmzXfHixc0TkRFH7+ktHll/7LHHLL8HL8aaNWvcmWeeGeVqJ//leBoIBZJQyzELhLdOOOEEB3Pt59itP7l/eHoQ83h6Hn/8cXt8HW+mOMeOc6LcSaIngJXCGHTs2DHdOT2cx6Ek5qzDJzzIeTHkPGAYvIanYdSoUWaoeTwaA3LSSSfZB1voOT18o/bO6XnmmWd0Tk8W8PvDW1xOHlVmHPGu+c/peeGFF3ROTwacMcA8efjGG2+knR/DuUZ4H7Sfs7A5s3jJd999ZyKc8CGN0CEeTY5XEOcsQkyiyyR6kmgxNRUREAEREAEREIGMCUj0aHeIgAiIgAiIgAikBAGJnpRYZk1SBERABERABERAokd7QAREQAREQAREICUISPSkxDJrkiIgAiIgAiIgAhI92gMiIAIiIAIiIAIpQUCiJyWWWZMUAREQAREQARGQ6NEeEAEREAEREAERSAkCEj0pscyaZLwSePDBB+106f79+0ccIiULOGiNumLhGkUVzzjjDDt1+ljbxx9/7G699VbHMf6RWjTXRrpX6O85kJIq7zfddFO0L02Z6yMx4rRnTiHnMD41EUh1AhI9qb4DNP8sE2jQoIG74IIL7DRXf+OU4rJly9qx9pUqVcry/aK9UKInOmKhp0lH9+rEuTqS6PHPJNIeSpxZa6QikD0CEj3Z46ZXpSCByZMnW8FTRE7evHnTCAwYMMBqKC1btiwqKpQh8JfUiPTiSAZLnp70BCV6jt5RkfZQpD2o34tAohOQ6En0FdT4AyNw8OBBd9ZZZ1kh01tuuSWtX7w/nTp1skKy1P9auXKlO3z4sKPI6UsvvZRWbPO6665zV155pYUaEEjvv/++e/PNN9OFpKhS/sknn7i///7bwhHDhg2zyuY0DNaKFSusuvzUqVNtLPy+fv369vtQ0UOVbsZFVelixYrZ67l/uLZr1y6rmUWl9FKlStm9nn322bTwFpXTH330Ubdw4UITfBRqpGAmoi00vEUtqYEDB7qff/7Z6kgRwuvevbt1C7fLLrvMij96rWXLlo6ikP369TtqaHgxHnjgASvCuXHjRmNKAVTCeLR169ZZBffly5e7U0891Yr4UmeJOVNjibp3BQsWtGs3bNjgzjnnHEd9MO47ceJEd/vtt7vPP//cGM+fP9+1a9fO7kljbWCwZcsWV7FiRTdixAh3ySWX2O+o2dS1a1c3Y8YMK2LZuHFjN3ToUKv7tmnTJutn3LhxxvyPP/4w7iNHjgxbb4+9Ao+xY8e6fPnyub59+1p9M+Zw0UUXOfYNocYOHTpY36G8IzGixh/3YlxNmza1vVmgQAH7k5XwZWBvMHUkAgEQkOgJALK6SB4CGFiMB4KF9tlnnzkquiMKMCAYTIwU1cpbtWplBhcPEY2f//DDD27mzJlmPBFRCAJ/Hs6rr77qmjVr5k488URHUVQEFsYaY4gBRRiMGTPGUWiV3B6qmK9fv96VKFEinejZtm2bhdp4fZMmTUyIIcrmzZvnqlWrdtSCUIX6zz//dBMmTDAj3bBhQ7djxw6bE0YSUVC7dm3Xp08fM/hUr8eQIzBCjTBFX88//3wTMggv+kVAUNmeyusUg6XyOo0+qcD+zTff2PWhDYOOyJo1a5bNkUrkR44cMdEH4woVKpj4QBhRlJa+hgwZYuIqnKeH3zPu1q1bu7Zt25rIQ+whyhAezPfll19206dPN5HBeBEejJ9rWF+EDWvE3xRURVTAr1y5ciZCPdGDoOJev//+uwk9RA3iKLSxRqw1a8McETzsmWhET0aM6MsTPcxDnp7k+SzSTLJHQKIne9z0qhQlgHG+9NJLLcSF9wTPzv79+9348eOPIrJ48WIzvjt37kwTPRg/f6JxZiGpQ4cOmWGlOjQCBoM1bdo0yx3y2tVXX21CAPHkv9egQYPMo+QJLq4nNMf9+J2/0Q/iDO+T58nAWHsiAC8KicTbt29P81Rw38GDB5uHJVIiM6IC7xTX4xXBk0Q4ECFFP7CDVbiG6EFoIq5oiCU8YHjC8LJwT+bpNe//77zzTljRQyjy+++/t8rmCDPmiNCbO3euq1GjhnmK8Dwh+hBpMPMaa8D9WUO8bIhDvEs0xsD1CEVP9CCQPCHXokUL8xaxhqENMYmI9M8RMReN6MmIEeJZoidFP6w07bAEJHq0MUQgSgIYPb7FEwrhmzlCBMOFKCAEtGjRIvOG0Pbs2WOeCRqeHjwEGFav+YUK4qNXr14mVDCexx9/vN2HkFKtWrXMYCKA8EJ4DQON8SYk4r9X+/btHV4jQhheQ3AgwkIFGl4qvC14OXiSjDZ79mzzJvEzBATz5Skgr+H9QcjgXQkVPXhlCH2tXbvWRM6BAwfMu0JYioanB9FC6K969erm2UAYhWuIHjw3cKMhMBFoP/74o5syZYrxwrB7DYYIt08//TSs6Fm6dKlr3ry5hbQIlSGAEDDcr3jx4haSY00RKPzbn3OFZw5PzsUXX2yCzRM89M0a83vChPAkvMXae8wyE7cIHJ7eC51jNKInI0bnnnuuRE+U729dntwEJHqSe301uxwgQG4GBrtbt26ud+/eFl7i2zShpt27d5v3gpAV3otrrrkmnejx52YwNL8xRIw89dRTJjgwVggLPDP8H8EUztODaCC/JtTTQy4Kj7cTlonUwnl6XnnlFdejRw8TPQgFxk1uS7jmFz0IHMQQr8e7QVgOQYP4IdxEQ2jUrFnTxBLigVCcX0D4+wj19CCkEAmIJkJPPM6ekZcIb87w4cMtxOY1xsH48KrgrSPkhGBlPIQLV69ebZfecMMNNudwYgxRU7p0aRM1flHp9eF5erIqekI9PcyRPDFP9OBlQ6ARxqORi4Rw9vJxMmMU6ulBjOKtzOjYg0h7Rb8XgUQnINGT6Cuo8QdOAGGDZwSPALkhCB8aRh4jiCHlGz9hJwSL39OTmehBTGHElyxZYt4MRA7hFPJOPNFDTg8eHDwv5LXQP14KxuMXUAgUcncQH4RdaITFECFVqlQ5ihmemL1797q33nrLwja8xstTQhQhTgj54KXBkGLYSSyuU6dOOk8Phr5w4cKWt0SCNYKEPJabb745TfTQOWG5ffv2WdiOPjNqGPT8+fM78oS8vCWEC941hA95KuTaMHe8MuRM4R3j/nPmzDE+5ET5xQnzgDGJyXiz8JIRcuTf/IxGzhZzJYG6atWqlj+E9+iKK64wbxges6JFi1qiMyJq69atljcFt2hFDyKZkCMhNrxNCC369UTPE088Yb8j0Zq50Tdz8ouejBgxF394i77ICUPI5smTJ/D3jjoUgdwmINGT2yug/hOSAImrkyZNMsNfpkwZmwMeDLwu/M25PYSYSIbNquhBdGB4MW4IBzxJCB++lXuix//0FkKHM4M4P4gWGkIhFMY9MMaMoXLlyvZUFU+QhTaSbTG2CxYsMC8Ggo1rPcOKAMLTgABDbCBG8JbQZ2h4Cy8YHgWEQt26dU0U8BSV5+mhb8QYyccYc67JTPSQcEyIDUOPxwPRRz4VDcHXpUsXC1cRXipfvryJUMQHfSIyCTfiNcODwusQksxl8+bNll/keeQIK3K91/CowIA1RujhVWPciB7EB6E1xBEClxAZYTruG63oQVTiVWNeiJfQp7cQoew3xokHEOaIX7/oyYyRX/RwL0QT3h76Yl3VRCCVCEj0pNJqa64iECcEEDuEA8kJIndJLT0Bv1ARGxEQgdgRkOiJHUvdSQREIAsEyPvB24DnBG+J2tEEJHq0K0QgZwhI9OQMV91VBEQgDAEOXiQcx8GB5P34nwgTsP8TkOjRbhCBnCEg0ZMzXHVXERABERABERCBOCMg0RNnC6LhiIAIiIAIiIAI5AwBiZ6c4aq7ioAIiIAIiIAIxBkBiZ44WxANRwT8BDh0kEekObE3Vo2cGhKJecw5nlu4R7+DHG/QVdrJ4+F8Jo49GDVq1DFNlXOXKPXB4ZYqKnpMKPXiJCMg0ZNkC6rpJC+B7IiAzMofxDup7Mw3lnOKpegJrZQebpyxTl6OVBMtlqx0LxFIFAISPYmyUhpnyhPIjghIFdHD4YO0WJ75I9GT8m85AUhCAhI9SbiomlLuEOB0WwqOUiA0b968FqbgZGLKIxBOKlSoUNqpxJy0TGkFyiFwLXW3OCkYYUM4i39zOrBftHDqL3WqCFnQxo0bZ6cZc4ozZQU4kZgK8JSzoHYTf1N9Gw8C5Sf4Gac0h3oduA/Vxxk/xTopxUDBTRrXcp4OFdipqM7PqedFkdNwrXPnzlYwlVOKObWZMg1eGQxPRFAGgrExJk4f5pBCGsVEqSlFIVFOceakZU619tew8vfJ/TnVmetXrVplZRs4eZo5M1bqeXE/r3o5Jyu3adPGTqhGJHG6M6dHc7I1jQKjlK2gYjrzhC3FU73aXdyTe1Ofi1OrCTlSXoMWKi79AtUrc8E+YK25L2U0QluopyfSyc6cos0p0JTHoHEaNccAUPeNJk9P7nwOqNf4JiDRE9/ro9ElCAGMKPWpKB7Zp08fK1PQqFEjqy6O0cVAUZ2batiUPqCIJMaUsgLkXpBfQ7kJCl9SrZ08DMpG+I1pOCNIHbB58+ZZXSyMJkYZo47hDmeMPSHj1QDDMGK4Me5Uj0dsjR492mpYUa8K0UNBVQQahT4pT4E4oe5XuIYgouZWkSJFTJR17NjRykdQ/gHRg+igzhRihNpYVBanHAR1rHr27GllKWbMmGF1ofgdBj0z0UMODFXnEUCU8YAZpSAQQ5z2XK9ePWPu1atat26dzYkSGa1atbIcGkQarUaNGlYLjCKla9assaKjJUuWtHVCxLFWCB3KdSBsmzRpYuKK+l+ZiR7OIspOeCuS6KHmGEVlqdNFSQnWHWHrnX0k0ZMgHx4aZqAE/gddgkdRjKQ6pgAAAABJRU5ErkJggg==",
       "_figure_label": "Figure 2",
       "_model_module_version": "^0.11",
       "_size": [
        640,
        479.99999999999994
       ],
       "_view_module_version": "^0.11",
       "layout": "IPY_MODEL_9e62c070c6ff4e7086fb538b0b87b9e6",
       "toolbar": "IPY_MODEL_6a6c3289b4f348dd9587c02a98dda6da",
       "toolbar_position": "left"
      }
     },
     "aa488f8acf304ed181c0fab3a51e80c2": {
      "model_module": "@jupyter-widgets/controls",
      "model_module_version": "1.5.0",
      "model_name": "ProgressStyleModel",
      "state": {
       "description_width": ""
      }
     },
     "aeb0deb66e124835b5d1f907073c2089": {
      "model_module": "jupyter-matplotlib",
      "model_module_version": "^0.11",
      "model_name": "MPLCanvasModel",
      "state": {
       "_data_url": "data:image/png;base64,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",
       "_figure_label": "Figure 1",
       "_model_module_version": "^0.11",
       "_size": [
        640,
        479.99999999999994
       ],
       "_view_module_version": "^0.11",
       "layout": "IPY_MODEL_3bf9fd19e93f4362a804f716a1437661",
       "toolbar": "IPY_MODEL_322ce4c3a299432094cd60993afdcf0e",
       "toolbar_position": "left"
      }
     },
     "af59cca93e19421dba1aade1b9d58133": {
      "model_module": "@jupyter-widgets/controls",
      "model_module_version": "1.5.0",
      "model_name": "ProgressStyleModel",
      "state": {
       "description_width": ""
      }
     },
     "b0aaa429b07242de99d7e46de4af6b9d": {
      "model_module": "@jupyter-widgets/controls",
      "model_module_version": "1.5.0",
      "model_name": "HTMLModel",
      "state": {
       "layout": "IPY_MODEL_4eeb3c5c1adc439590bb3628fd442784",
       "style": "IPY_MODEL_904ad019969645aebce0a484c33a58ca",
       "value": " 2000/2000 [00:02&lt;00:00, 710.71it/s]"
      }
     },
     "b2947054a8214a3688bfc0f0091e8354": {
      "model_module": "@jupyter-widgets/base",
      "model_module_version": "1.2.0",
      "model_name": "LayoutModel",
      "state": {}
     },
     "b38718248e3c48a394b0fc0bdf2c2181": {
      "model_module": "@jupyter-widgets/base",
      "model_module_version": "1.2.0",
      "model_name": "LayoutModel",
      "state": {}
     },
     "ba77dac6699f437db6e3d4b41a36bab6": {
      "model_module": "@jupyter-widgets/controls",
      "model_module_version": "1.5.0",
      "model_name": "DescriptionStyleModel",
      "state": {
       "description_width": ""
      }
     },
     "bbea3d6a945d4597a8304e807164d57b": {
      "model_module": "@jupyter-widgets/controls",
      "model_module_version": "1.5.0",
      "model_name": "DescriptionStyleModel",
      "state": {
       "description_width": ""
      }
     },
     "bd08949364684006b5873f448af611c7": {
      "model_module": "@jupyter-widgets/base",
      "model_module_version": "1.2.0",
      "model_name": "LayoutModel",
      "state": {}
     },
     "bf12591e915d492991b78d0464aa652f": {
      "model_module": "@jupyter-widgets/controls",
      "model_module_version": "1.5.0",
      "model_name": "HTMLModel",
      "state": {
       "layout": "IPY_MODEL_a5ca3f26a8d74bbf88510b7e53e6ae40",
       "style": "IPY_MODEL_ba77dac6699f437db6e3d4b41a36bab6",
       "value": " 2000/2000 [00:02&lt;00:00, 710.63it/s]"
      }
     },
     "c254cee750124302a10c7daf3ca2fcaf": {
      "model_module": "@jupyter-widgets/base",
      "model_module_version": "1.2.0",
      "model_name": "LayoutModel",
      "state": {}
     },
     "c2f8e7543ba64c3497eefdf08c5bfe33": {
      "model_module": "@jupyter-widgets/controls",
      "model_module_version": "1.5.0",
      "model_name": "DescriptionStyleModel",
      "state": {
       "description_width": ""
      }
     },
     "c6fe5322e73d44a9a6ccfbf89a7f8a53": {
      "model_module": "@jupyter-widgets/controls",
      "model_module_version": "1.5.0",
      "model_name": "DescriptionStyleModel",
      "state": {
       "description_width": ""
      }
     },
     "c781cbb3f62f454b9b83756f5bac90f1": {
      "model_module": "@jupyter-widgets/controls",
      "model_module_version": "1.5.0",
      "model_name": "DescriptionStyleModel",
      "state": {
       "description_width": ""
      }
     },
     "c7fcb1516f3d46b682106d148568b3ed": {
      "model_module": "@jupyter-widgets/controls",
      "model_module_version": "1.5.0",
      "model_name": "HBoxModel",
      "state": {
       "children": [
        "IPY_MODEL_d5074e2b806e4f4aba7b461ead6d7c15",
        "IPY_MODEL_5f76f583a0de4391bdbce0c866775ede",
        "IPY_MODEL_7caf31047ad24159959d6de4df31b0ab"
       ],
       "layout": "IPY_MODEL_586a3790009b43498bd31dfe3b18cd48"
      }
     },
     "c9a537348b624585b0267117bf36eec1": {
      "model_module": "@jupyter-widgets/controls",
      "model_module_version": "1.5.0",
      "model_name": "HTMLModel",
      "state": {
       "layout": "IPY_MODEL_93d404b6d9ca4ad19c7a74ba8efd09f8",
       "style": "IPY_MODEL_783d97c66c744d4091b32236a922d2c3",
       "value": " 82%"
      }
     },
     "ca3aaf6621a74dcb97208dec04b390fb": {
      "model_module": "@jupyter-widgets/controls",
      "model_module_version": "1.5.0",
      "model_name": "HTMLModel",
      "state": {
       "layout": "IPY_MODEL_1dc11fb7efea497795181a9359962e1b",
       "style": "IPY_MODEL_e51adef4d5b3484093b874b23361aa03",
       "value": "100%"
      }
     },
     "cbf3bc5a86c8430c87f72e00575669e7": {
      "model_module": "@jupyter-widgets/base",
      "model_module_version": "1.2.0",
      "model_name": "LayoutModel",
      "state": {}
     },
     "cdf015ae55d34cbe96d6db828b771651": {
      "model_module": "@jupyter-widgets/controls",
      "model_module_version": "1.5.0",
      "model_name": "HBoxModel",
      "state": {
       "children": [
        "IPY_MODEL_8df48456430940a8803e4180d396682f",
        "IPY_MODEL_0c1da5df0a4b4a34b080c9fed32020c2",
        "IPY_MODEL_b0aaa429b07242de99d7e46de4af6b9d"
       ],
       "layout": "IPY_MODEL_3672efd5f20f406dbf52d93157ed996c"
      }
     },
     "d1dd525d5a234415963697424f3c8b46": {
      "model_module": "@jupyter-widgets/base",
      "model_module_version": "1.2.0",
      "model_name": "LayoutModel",
      "state": {}
     },
     "d5074e2b806e4f4aba7b461ead6d7c15": {
      "model_module": "@jupyter-widgets/controls",
      "model_module_version": "1.5.0",
      "model_name": "HTMLModel",
      "state": {
       "layout": "IPY_MODEL_b38718248e3c48a394b0fc0bdf2c2181",
       "style": "IPY_MODEL_d97ed19fb1424ab8989d544fef2f35ad",
       "value": "100%"
      }
     },
     "d7a691885cb64b2aaf4a610273d22eca": {
      "model_module": "@jupyter-widgets/controls",
      "model_module_version": "1.5.0",
      "model_name": "DescriptionStyleModel",
      "state": {
       "description_width": ""
      }
     },
     "d97ed19fb1424ab8989d544fef2f35ad": {
      "model_module": "@jupyter-widgets/controls",
      "model_module_version": "1.5.0",
      "model_name": "DescriptionStyleModel",
      "state": {
       "description_width": ""
      }
     },
     "d9de8a02b99d426db543e725d6355f14": {
      "model_module": "@jupyter-widgets/base",
      "model_module_version": "1.2.0",
      "model_name": "LayoutModel",
      "state": {}
     },
     "da7f7db2234840dbae2f98595a8ea407": {
      "model_module": "@jupyter-widgets/controls",
      "model_module_version": "1.5.0",
      "model_name": "HTMLModel",
      "state": {
       "layout": "IPY_MODEL_6d21148dfa6342b4a632b8accc445660",
       "style": "IPY_MODEL_57b139feeee14838a9b5d555ee2ec973",
       "value": " 2000/2000 [00:02&lt;00:00, 714.12it/s]"
      }
     },
     "db03bb8938da4d9da63a367fee1b7ae4": {
      "model_module": "@jupyter-widgets/controls",
      "model_module_version": "1.5.0",
      "model_name": "FloatProgressModel",
      "state": {
       "bar_style": "success",
       "layout": "IPY_MODEL_13cc719cf59c4c008c08a99521e2f43d",
       "max": 2000,
       "style": "IPY_MODEL_2c54ef55362a4529896c058f8a66ae83",
       "value": 2000
      }
     },
     "e007f9b3424c43ffa384d807ae6b944b": {
      "model_module": "@jupyter-widgets/controls",
      "model_module_version": "1.5.0",
      "model_name": "ProgressStyleModel",
      "state": {
       "description_width": ""
      }
     },
     "e1bf05f3f2c0471cb35f1d4b089904f9": {
      "model_module": "@jupyter-widgets/base",
      "model_module_version": "1.2.0",
      "model_name": "LayoutModel",
      "state": {}
     },
     "e4e4d90a541a4e18a958b121fa078899": {
      "model_module": "@jupyter-widgets/base",
      "model_module_version": "1.2.0",
      "model_name": "LayoutModel",
      "state": {}
     },
     "e51adef4d5b3484093b874b23361aa03": {
      "model_module": "@jupyter-widgets/controls",
      "model_module_version": "1.5.0",
      "model_name": "DescriptionStyleModel",
      "state": {
       "description_width": ""
      }
     },
     "eefa3db906224d6f8011df275b339a83": {
      "model_module": "@jupyter-widgets/base",
      "model_module_version": "1.2.0",
      "model_name": "LayoutModel",
      "state": {}
     },
     "f19933f87c454ef3967599b2d7bcd9cb": {
      "model_module": "@jupyter-widgets/controls",
      "model_module_version": "1.5.0",
      "model_name": "HTMLModel",
      "state": {
       "layout": "IPY_MODEL_f63b2e70428845a4852c24ca6150dff5",
       "style": "IPY_MODEL_c2f8e7543ba64c3497eefdf08c5bfe33",
       "value": "  5%"
      }
     },
     "f63b2e70428845a4852c24ca6150dff5": {
      "model_module": "@jupyter-widgets/base",
      "model_module_version": "1.2.0",
      "model_name": "LayoutModel",
      "state": {}
     },
     "f694e87fe19a4d7898ddb4bc55c27121": {
      "model_module": "@jupyter-widgets/controls",
      "model_module_version": "1.5.0",
      "model_name": "HBoxModel",
      "state": {
       "children": [
        "IPY_MODEL_82593b5af5b54921bef85253403bd9dd",
        "IPY_MODEL_76a66339e5c644108e382af883ad1609",
        "IPY_MODEL_1e44c5f544fb4c838d324273490937f8"
       ],
       "layout": "IPY_MODEL_18393aff5ba640cf8a40c5e2ba1211ba"
      }
     },
     "f803d8885a19430eaf21d4450bf6ad7f": {
      "model_module": "@jupyter-widgets/controls",
      "model_module_version": "1.5.0",
      "model_name": "HBoxModel",
      "state": {
       "children": [
        "IPY_MODEL_ca3aaf6621a74dcb97208dec04b390fb",
        "IPY_MODEL_03d5a2c749ed425eabb1d0e6f8d4dbf0",
        "IPY_MODEL_86bb56f3f0d44a4b9d8087988f528a36"
       ],
       "layout": "IPY_MODEL_4102c704d43e4158b8ac9cb79898e9c7"
      }
     },
     "f90d5ea0896544d3aece02afdfdbd041": {
      "model_module": "@jupyter-widgets/base",
      "model_module_version": "1.2.0",
      "model_name": "LayoutModel",
      "state": {}
     },
     "fb428723923641c2a1f3d5da28aaa194": {
      "model_module": "@jupyter-widgets/base",
      "model_module_version": "1.2.0",
      "model_name": "LayoutModel",
      "state": {}
     },
     "fbaab39e9df04ce8a4efce496877864a": {
      "model_module": "@jupyter-widgets/controls",
      "model_module_version": "1.5.0",
      "model_name": "HBoxModel",
      "state": {
       "children": [
        "IPY_MODEL_2bfdd7f41f4546e2be6af9063baa08f3",
        "IPY_MODEL_4be9cb6771e34c39998ec49066c62d81",
        "IPY_MODEL_80dbc0ead99f46e9baba3e4cc5a95aac"
       ],
       "layout": "IPY_MODEL_63c5a907e93647bcb5c279826e3eb440"
      }
     },
     "fdd71cf484e54bceb0cf806f111d7dd1": {
      "model_module": "@jupyter-widgets/controls",
      "model_module_version": "1.5.0",
      "model_name": "FloatProgressModel",
      "state": {
       "bar_style": "success",
       "layout": "IPY_MODEL_239fcdcc3e064fe2a8d66992ba081e82",
       "max": 2000,
       "style": "IPY_MODEL_2854262a4c904525aa64c9f15cf89e5c",
       "value": 2000
      }
     }
    },
    "version_major": 2,
    "version_minor": 0
   }
  }
 },
 "nbformat": 4,
 "nbformat_minor": 5
}
