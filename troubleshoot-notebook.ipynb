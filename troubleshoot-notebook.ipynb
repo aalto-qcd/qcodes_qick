{
 "cells": [
  {
   "cell_type": "markdown",
   "id": "c760f156",
   "metadata": {},
   "source": [
    "# Notebook for troubleshooting and showcasing protocols."
   ]
  },
  {
   "cell_type": "markdown",
   "id": "ba3a07fd",
   "metadata": {},
   "source": [
    "## Helper functions"
   ]
  },
  {
   "cell_type": "code",
   "execution_count": null,
   "id": "847be7c0",
   "metadata": {},
   "outputs": [],
   "source": [
    "def oneD_plot_amplitude(dataset):\n",
    "    plt.plot(abs(dataset.avg_q +1j*dataset.avg_i) )\n",
    "    plt.ylabel('Amplitude')\n",
    "    for coordinate in dataset.coords:\n",
    "        plt.xlabel(dataset.coords[coordinate].long_name + f' ({dataset.coords[coordinate].unit})')\n",
    "    pass\n",
    "\n"
   ]
  },
  {
   "cell_type": "markdown",
   "id": "c64a3adf",
   "metadata": {},
   "source": [
    "## Initializing the station and the experiment"
   ]
  },
  {
   "cell_type": "code",
   "execution_count": 1,
   "id": "de144f35",
   "metadata": {},
   "outputs": [
    {
     "data": {
      "application/javascript": [
       "\n",
       "try {\n",
       "require(['notebook/js/codecell'], function(codecell) {\n",
       "  codecell.CodeCell.options_default.highlight_modes[\n",
       "      'magic_text/x-csrc'] = {'reg':[/^%%microblaze/]};\n",
       "  Jupyter.notebook.events.one('kernel_ready.Kernel', function(){\n",
       "      Jupyter.notebook.get_cells().map(function(cell){\n",
       "          if (cell.cell_type == 'code'){ cell.auto_highlight(); } }) ;\n",
       "  });\n",
       "});\n",
       "} catch (e) {};\n"
      ]
     },
     "metadata": {},
     "output_type": "display_data"
    },
    {
     "data": {
      "application/javascript": [
       "\n",
       "try {\n",
       "require(['notebook/js/codecell'], function(codecell) {\n",
       "  codecell.CodeCell.options_default.highlight_modes[\n",
       "      'magic_text/x-csrc'] = {'reg':[/^%%pybind11/]};\n",
       "  Jupyter.notebook.events.one('kernel_ready.Kernel', function(){\n",
       "      Jupyter.notebook.get_cells().map(function(cell){\n",
       "          if (cell.cell_type == 'code'){ cell.auto_highlight(); } }) ;\n",
       "  });\n",
       "});\n",
       "} catch (e) {};\n"
      ]
     },
     "metadata": {},
     "output_type": "display_data"
    }
   ],
   "source": [
    "import qcodes as qc\n",
    "from qcodes.instrument import Instrument, ManualParameter\n",
    "from qcodes.station import Station\n",
    "\n",
    "from metainstruments.ZCUStation import ZCU216Station\n",
    "from metainstruments.ZCUMetainstrument import ZCU216Metainstrument\n",
    "from measurements.Protocols import Protocol\n",
    "from measurements.T1Protocol import T1Protocol\n",
    "from measurements.PulseProbeSpectroscopyProtocol import PulseProbeSpectroscopyProtocol\n",
    "from measurements.NDSweepProtocol import NDSweepProtocol\n",
    "from qick import *\n",
    "\n",
    "\n",
    "import numpy as np\n",
    "import matplotlib.pyplot as plt"
   ]
  },
  {
   "cell_type": "code",
   "execution_count": 2,
   "id": "fa64a93b",
   "metadata": {},
   "outputs": [],
   "source": [
    "#Initializing the station and the database\n",
    "qc.initialise_or_create_database_at(\"./experiment-data/zcu_test_data.db\")\n",
    "station = ZCU216Station()"
   ]
  },
  {
   "cell_type": "code",
   "execution_count": 3,
   "id": "e990e934",
   "metadata": {},
   "outputs": [],
   "source": [
    "#Initializing the experiment\n",
    "experiment = qc.load_or_create_experiment(\n",
    "                experiment_name=\"ZCU_QICK_QCODES_TEST\",\n",
    "                sample_name=\"None\")"
   ]
  },
  {
   "cell_type": "markdown",
   "id": "c06592dd",
   "metadata": {},
   "source": [
    "## Adding QICK Channels"
   ]
  },
  {
   "cell_type": "code",
   "execution_count": 7,
   "id": "40145fb9",
   "metadata": {},
   "outputs": [
    {
     "name": "stdout",
     "output_type": "stream",
     "text": [
      "\n",
      "QICK configuration:\n",
      "\n",
      "\tBoard: ZCU216\n",
      "\n",
      "\tSoftware version: 0.2.211\n",
      "\tFirmware timestamp: Mon Aug 21 11:09:34 2023\n",
      "\n",
      "\tGlobal clocks (MHz): tProcessor 430.080, RF reference 245.760\n",
      "\n",
      "\t7 signal generator channels:\n",
      "\t0:\taxis_signal_gen_v6 - envelope memory 65536 samples (9.524 us)\n",
      "\t\tfs=6881.280 MHz, fabric=430.080 MHz, 32-bit DDS, range=6881.280 MHz\n",
      "\t\tDAC tile 2, blk 0 is 0_230, on JHC3\n",
      "\t1:\taxis_signal_gen_v6 - envelope memory 65536 samples (9.524 us)\n",
      "\t\tfs=6881.280 MHz, fabric=430.080 MHz, 32-bit DDS, range=6881.280 MHz\n",
      "\t\tDAC tile 2, blk 1 is 1_230, on JHC4\n",
      "\t2:\taxis_signal_gen_v6 - envelope memory 65536 samples (9.524 us)\n",
      "\t\tfs=6881.280 MHz, fabric=430.080 MHz, 32-bit DDS, range=6881.280 MHz\n",
      "\t\tDAC tile 2, blk 2 is 2_230, on JHC3\n",
      "\t3:\taxis_signal_gen_v6 - envelope memory 65536 samples (9.524 us)\n",
      "\t\tfs=6881.280 MHz, fabric=430.080 MHz, 32-bit DDS, range=6881.280 MHz\n",
      "\t\tDAC tile 2, blk 3 is 3_230, on JHC4\n",
      "\t4:\taxis_signal_gen_v6 - envelope memory 65536 samples (9.524 us)\n",
      "\t\tfs=6881.280 MHz, fabric=430.080 MHz, 32-bit DDS, range=6881.280 MHz\n",
      "\t\tDAC tile 3, blk 0 is 0_231, on JHC3\n",
      "\t5:\taxis_signal_gen_v6 - envelope memory 65536 samples (9.524 us)\n",
      "\t\tfs=6881.280 MHz, fabric=430.080 MHz, 32-bit DDS, range=6881.280 MHz\n",
      "\t\tDAC tile 3, blk 1 is 1_231, on JHC4\n",
      "\t6:\taxis_signal_gen_v6 - envelope memory 65536 samples (9.524 us)\n",
      "\t\tfs=6881.280 MHz, fabric=430.080 MHz, 32-bit DDS, range=6881.280 MHz\n",
      "\t\tDAC tile 3, blk 2 is 2_231, on JHC3\n",
      "\n",
      "\t2 readout channels:\n",
      "\t0:\taxis_readout_v2 - controlled by PYNQ\n",
      "\t\tfs=2457.600 MHz, fabric=307.200 MHz, 32-bit DDS, range=2457.600 MHz\n",
      "\t\tmaxlen 16384 accumulated, 1024 decimated (3.333 us)\n",
      "\t\ttriggered by output 0, pin 14, feedback to tProc input 0\n",
      "\t\tADC tile 2, blk 0 is 0_226, on JHC7\n",
      "\t1:\taxis_readout_v2 - controlled by PYNQ\n",
      "\t\tfs=2457.600 MHz, fabric=307.200 MHz, 32-bit DDS, range=2457.600 MHz\n",
      "\t\tmaxlen 16384 accumulated, 1024 decimated (3.333 us)\n",
      "\t\ttriggered by output 0, pin 15, feedback to tProc input 1\n",
      "\t\tADC tile 2, blk 2 is 2_226, on JHC7\n",
      "\n",
      "\t8 digital output pins:\n",
      "\t0:\tPMOD0_0_LS\n",
      "\t1:\tPMOD0_1_LS\n",
      "\t2:\tPMOD0_2_LS\n",
      "\t3:\tPMOD0_3_LS\n",
      "\t4:\tPMOD0_4_LS\n",
      "\t5:\tPMOD0_5_LS\n",
      "\t6:\tPMOD0_6_LS\n",
      "\t7:\tPMOD0_7_LS\n",
      "\n",
      "\ttProc axis_tproc64x32_x8: program memory 8192 words, data memory 4096 words\n",
      "\t\texternal start pin: PMOD1_0_LS\n",
      "\n",
      "\tDDR4 memory buffer: 1073741824 samples (3.495 sec), 128 samples/transfer\n",
      "\t\twired to readouts [0, 1]\n",
      "\n",
      "\tMR buffer: 8192 samples (3.333 us), wired to readouts [0, 1]\n"
     ]
    }
   ],
   "source": [
    "# The following command can be used to configure to see what qick channel corresponds to what physical port\n",
    "print(station.troubleshoot())"
   ]
  },
  {
   "cell_type": "code",
   "execution_count": 9,
   "id": "cdb7b332",
   "metadata": {},
   "outputs": [],
   "source": [
    "#At the time of writing, we have connected DACs 2_231 and 0_231 to the adc's and oscilloscopes, these have  \n",
    "#qick channels 6 and 4. The physically connected ADC channel is 0_226. Thus, our configuration will be:\n",
    "station.add_DAC_channel(name=\"Probe\", channel=6)\n",
    "station.add_DAC_channel(name=\"Readout\", channel=4)\n",
    "station.add_ADC_channel(name=\"ADC\", channel=0)"
   ]
  },
  {
   "cell_type": "markdown",
   "id": "762451d0",
   "metadata": {},
   "source": [
    "## VNA program"
   ]
  },
  {
   "cell_type": "markdown",
   "id": "845b7a8f",
   "metadata": {},
   "source": [
    "The vna program, handled by the NDSweepProtocol, sends a pulse from the 'probe' dac channel and triggers the 'adc' adc channel. The attributes of the sent pulse are contained in the parameters of the 'probe' dac channel, and the readout settings are contained in the protocol parameters."
   ]
  },
  {
   "cell_type": "code",
   "execution_count": null,
   "id": "8bd03aef",
   "metadata": {},
   "outputs": [],
   "source": [
    "# Initialization of the protocol\n",
    "vnaprotocol = station.add_protocol(NDSweepProtocol(name='vna'))"
   ]
  },
  {
   "cell_type": "code",
   "execution_count": 11,
   "id": "580727e4",
   "metadata": {},
   "outputs": [
    {
     "name": "stdout",
     "output_type": "stream",
     "text": [
      "vna:\n",
      "\tparameter      value\n",
      "--------------------------------------------------------------------------------\n",
      "IDN             :\t{'vendor': None, 'model': 'vna', 'serial': None, 'firmware'...\n",
      "adc_trig_offset :\t100 (Clock ticks)\n",
      "readout_length  :\t5 (us)\n",
      "relax_delay     :\t0.1 (us)\n",
      "reps            :\t400 \n"
     ]
    }
   ],
   "source": [
    "station.vna.print_readable_snapshot()"
   ]
  },
  {
   "cell_type": "code",
   "execution_count": 19,
   "id": "0c6d9588",
   "metadata": {},
   "outputs": [
    {
     "name": "stdout",
     "output_type": "stream",
     "text": [
      "Probe:\n",
      "\tparameter   value\n",
      "--------------------------------------------------------------------------------\n",
      "IDN          :\t{'vendor': None, 'model': 'Probe', 'serial': None, 'firmware':...\n",
      "channel      :\t6 \n",
      "nqz          :\t1 \n",
      "pulse_freq   :\t500 (MHz)\n",
      "pulse_gain   :\t5000 (DAC units)\n",
      "pulse_length :\t10 (us)\n",
      "pulse_phase  :\t0 (deg)\n"
     ]
    }
   ],
   "source": [
    "station.Probe.print_readable_snapshot()"
   ]
  },
  {
   "cell_type": "markdown",
   "id": "bc1c676c",
   "metadata": {},
   "source": [
    "If you are confused by some parameter, try reading the label"
   ]
  },
  {
   "cell_type": "code",
   "execution_count": 22,
   "id": "6ff682f6",
   "metadata": {},
   "outputs": [
    {
     "name": "stdout",
     "output_type": "stream",
     "text": [
      "Delay between reps\n",
      "Delay between measuring pulse and ADC initialization\n"
     ]
    }
   ],
   "source": [
    "print(station.vna.relax_delay.label)\n",
    "print(station.vna.adc_trig_offset.label)"
   ]
  },
  {
   "cell_type": "markdown",
   "id": "0992b6ce",
   "metadata": {},
   "source": [
    "Once you are satisfied with the default parameter values for your experiment, you can run a vna program that\n",
    "sweeps the parameters and values defined in params_and_values, with the previously configurated parameter values as follows: "
   ]
  },
  {
   "cell_type": "code",
   "execution_count": 57,
   "id": "4f5b06bd",
   "metadata": {},
   "outputs": [
    {
     "name": "stdout",
     "output_type": "stream",
     "text": [
      "Starting experimental run with id: 1460. \n"
     ]
    }
   ],
   "source": [
    "# Iterate the frequency of the probe pulse from 100 to 5000 MHz, with 10 iteration points. The probe\n",
    "# channel is defined in the dac_channels as 'probe', and the adc channel is defined in adc_channels. The\n",
    "# protocol you defined and configured is set as the protocol.\n",
    "\n",
    "vna_run_id = station.measure_iq(params_and_values = {  station.Probe.pulse_freq: [100, 5000, 10]}, \n",
    "                         protocol = vnaprotocol, \n",
    "                         dac_channels = {'probe': station.Probe},\n",
    "                         adc_channels = {'adc' : station.ADC},\n",
    "                         experiment = experiment)"
   ]
  },
  {
   "cell_type": "markdown",
   "id": "f6e27bd4",
   "metadata": {},
   "source": [
    "The program has run succesfully, and the measure_iq method returns a run_id, with wich you can access the database:"
   ]
  },
  {
   "cell_type": "code",
   "execution_count": 56,
   "id": "8ae47b19",
   "metadata": {},
   "outputs": [
    {
     "data": {
      "image/png": "[encoded data removed]",
      "text/plain": [
       "<Figure size 432x288 with 1 Axes>"
      ]
     },
     "metadata": {
      "needs_background": "light"
     },
     "output_type": "display_data"
    }
   ],
   "source": [
    "dataset = qc.load_by_id(vna_run_id).to_xarray_dataset()\n",
    "dataset\n",
    "oneD_plot_amplitude(dataset)"
   ]
  },
  {
   "cell_type": "markdown",
   "id": "266ba44b",
   "metadata": {},
   "source": [
    "## Testing VNA"
   ]
  },
  {
   "cell_type": "code",
   "execution_count": 89,
   "id": "b4ee50ea",
   "metadata": {},
   "outputs": [],
   "source": [
    "station.Readout.pulse_gain(10000)\n",
    "station.Readout.pulse_length(0.1)\n",
    "station.vna.reps(1)\n",
    "\n",
    "station.print_configuration()\n",
    "\n",
    "pvals = {  station.Readout.pulse_freq: [1000, 1000, 1]}"
   ]
  },
  {
   "cell_type": "code",
   "execution_count": 95,
   "id": "c76a3951",
   "metadata": {},
   "outputs": [
    {
     "name": "stdout",
     "output_type": "stream",
     "text": [
      "Starting experimental run with id: 1484. \n"
     ]
    }
   ],
   "source": [
    "vna_run_id = station.measure_iq(params_and_values = pvals, \n",
    "                         protocol = vnaprotocol, \n",
    "                         dac_channels = {'probe': station.Readout},\n",
    "                         adc_channels = {'adc' : station.ADC},\n",
    "                         experiment = experiment)"
   ]
  },
  {
   "cell_type": "markdown",
   "id": "e8a56308",
   "metadata": {},
   "source": [
    "## Testing pulse probe spectroscopy"
   ]
  },
  {
   "cell_type": "code",
   "execution_count": 96,
   "id": "9b9018db",
   "metadata": {},
   "outputs": [
    {
     "data": {
      "text/plain": [
       "<PulseProbeSpectroscopyProtocol: pps>"
      ]
     },
     "execution_count": 96,
     "metadata": {},
     "output_type": "execute_result"
    }
   ],
   "source": [
    "station.add_protocol(PulseProbeSpectroscopyProtocol(name='pps'))"
   ]
  },
  {
   "cell_type": "code",
   "execution_count": 97,
   "id": "2465d818",
   "metadata": {},
   "outputs": [
    {
     "name": "stdout",
     "output_type": "stream",
     "text": [
      "Station configuration:\n",
      "\n",
      "\n",
      "zcu:\n",
      "\tparameter value\n",
      "--------------------------------------------------------------------------------\n",
      "IDN :\t{'vendor': None, 'model': 'zcu', 'serial': None, 'firmware': None} \n",
      "\n",
      "QubitChannel:\n",
      "\tparameter   value\n",
      "--------------------------------------------------------------------------------\n",
      "IDN          :\t{'vendor': None, 'model': 'QubitChannel', 'serial': None, 'fir...\n",
      "channel      :\t6 \n",
      "nqz          :\t1 \n",
      "pulse_freq   :\t500 (MHz)\n",
      "pulse_gain   :\t5000 (DAC units)\n",
      "pulse_length :\t10 (us)\n",
      "pulse_phase  :\t0 (deg)\n",
      "\n",
      "ReadoutChannel:\n",
      "\tparameter   value\n",
      "--------------------------------------------------------------------------------\n",
      "IDN          :\t{'vendor': None, 'model': 'ReadoutChannel', 'serial': None, 'f...\n",
      "channel      :\t4 \n",
      "nqz          :\t1 \n",
      "pulse_freq   :\t500 (MHz)\n",
      "pulse_gain   :\t5000 (DAC units)\n",
      "pulse_length :\t10 (us)\n",
      "pulse_phase  :\t0 (deg)\n",
      "\n",
      "ADC:\n",
      "\tparameter   value\n",
      "--------------------------------------------------------------------------------\n",
      "IDN          :\t{'vendor': None, 'model': 'ADC', 'serial': None, 'firmware': N...\n",
      "channel      :\t0 \n",
      "nqz          :\t1 \n",
      "pulse_freq   :\t500 (MHz)\n",
      "pulse_gain   :\t5000 (DAC units)\n",
      "pulse_length :\t10 (us)\n",
      "pulse_phase  :\t0 (deg)\n",
      "\n",
      "vna:\n",
      "\tparameter      value\n",
      "--------------------------------------------------------------------------------\n",
      "IDN             :\t{'vendor': None, 'model': 'vna', 'serial': None, 'firmware'...\n",
      "adc_trig_offset :\t100 (Clock ticks)\n",
      "readout_length  :\t5 (us)\n",
      "relax_delay     :\t0.1 (us)\n",
      "reps            :\t1 \n",
      "\n",
      "Probe:\n",
      "\tparameter   value\n",
      "--------------------------------------------------------------------------------\n",
      "IDN          :\t{'vendor': None, 'model': 'Probe', 'serial': None, 'firmware':...\n",
      "channel      :\t4 \n",
      "nqz          :\t1 \n",
      "pulse_freq   :\t500 (MHz)\n",
      "pulse_gain   :\t10000 (DAC units)\n",
      "pulse_length :\t10 (us)\n",
      "pulse_phase  :\t0 (deg)\n",
      "\n",
      "Readout:\n",
      "\tparameter   value\n",
      "--------------------------------------------------------------------------------\n",
      "IDN          :\t{'vendor': None, 'model': 'Readout', 'serial': None, 'firmware...\n",
      "channel      :\t4 \n",
      "nqz          :\t1 \n",
      "pulse_freq   :\t500 (MHz)\n",
      "pulse_gain   :\t10000 (DAC units)\n",
      "pulse_length :\t0.1 (us)\n",
      "pulse_phase  :\t0 (deg)\n",
      "\n",
      "pps:\n",
      "\tparameter      value\n",
      "--------------------------------------------------------------------------------\n",
      "IDN             :\t{'vendor': None, 'model': 'pps', 'serial': None, 'firmware'...\n",
      "adc_trig_offset :\t100 (Clock ticks)\n",
      "readout_length  :\t5 (us)\n",
      "relax_delay     :\t0.1 (us)\n",
      "reps            :\t1 \n",
      "\n"
     ]
    }
   ],
   "source": [
    "station.Probe.pulse_gain(10000)\n",
    "station.Readout.pulse_length(0.1)\n",
    "station.pps.reps(1)\n",
    "\n",
    "station.print_configuration()\n",
    "\n",
    "pvals = {  station.Readout.pulse_freq: [1000, 1000, 1]}"
   ]
  },
  {
   "cell_type": "code",
   "execution_count": 79,
   "id": "a5947386",
   "metadata": {},
   "outputs": [
    {
     "ename": "NameError",
     "evalue": "name 'ppsproto' is not defined",
     "output_type": "error",
     "traceback": [
      "\u001b[0;31m---------------------------------------------------------------------------\u001b[0m",
      "\u001b[0;31mNameError\u001b[0m                                 Traceback (most recent call last)",
      "Cell \u001b[0;32mIn[79], line 2\u001b[0m\n\u001b[1;32m      1\u001b[0m ppsp_id \u001b[38;5;241m=\u001b[39m station\u001b[38;5;241m.\u001b[39mmeasure_iq( params_and_values \u001b[38;5;241m=\u001b[39m {station\u001b[38;5;241m.\u001b[39mQubitChannel\u001b[38;5;241m.\u001b[39mpulse_freq: [ \u001b[38;5;241m4000\u001b[39m, \u001b[38;5;241m4100\u001b[39m, \u001b[38;5;241m5\u001b[39m ], station\u001b[38;5;241m.\u001b[39mQubitChannel\u001b[38;5;241m.\u001b[39mpulse_gain: [ \u001b[38;5;241m4000\u001b[39m, \u001b[38;5;241m4100\u001b[39m, \u001b[38;5;241m5\u001b[39m ]},\n\u001b[0;32m----> 2\u001b[0m                             protocol \u001b[38;5;241m=\u001b[39m \u001b[43mppsproto\u001b[49m,\n\u001b[1;32m      3\u001b[0m                             dac_channels \u001b[38;5;241m=\u001b[39m {\u001b[38;5;124m'\u001b[39m\u001b[38;5;124mqubit\u001b[39m\u001b[38;5;124m'\u001b[39m: station\u001b[38;5;241m.\u001b[39mQubitChannel, \u001b[38;5;124m'\u001b[39m\u001b[38;5;124mreadout\u001b[39m\u001b[38;5;124m'\u001b[39m : station\u001b[38;5;241m.\u001b[39mReadoutChannel},\n\u001b[1;32m      4\u001b[0m                             adc_channels \u001b[38;5;241m=\u001b[39m {\u001b[38;5;124m'\u001b[39m\u001b[38;5;124madc\u001b[39m\u001b[38;5;124m'\u001b[39m: station\u001b[38;5;241m.\u001b[39mADC})\n",
      "\u001b[0;31mNameError\u001b[0m: name 'ppsproto' is not defined"
     ]
    }
   ],
   "source": [
    "ppsp_id = station.measure_iq( params_and_values = {station.QubitChannel.pulse_freq: [ 4000, 4100, 5 ], station.QubitChannel.pulse_gain: [ 4000, 4100, 5 ]},\n",
    "                            protocol = ppsproto,\n",
    "                            dac_channels = {'qubit': station.Probe, 'readout' : station.Readout},\n",
    "                            adc_channels = {'adc': station.ADC})"
   ]
  }
 ],
 "metadata": {
  "kernelspec": {
   "display_name": "Python 3",
   "language": "python",
   "name": "python3"
  },
  "language_info": {
   "codemirror_mode": {
    "name": "ipython",
    "version": 3
   },
   "file_extension": ".py",
   "mimetype": "text/x-python",
   "name": "python",
   "nbconvert_exporter": "python",
   "pygments_lexer": "ipython3",
   "version": "3.8.2"
  }
 },
 "nbformat": 4,
 "nbformat_minor": 5
}
